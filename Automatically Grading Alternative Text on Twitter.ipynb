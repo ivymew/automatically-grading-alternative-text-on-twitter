{
 "cells": [
  {
   "cell_type": "markdown",
   "metadata": {},
   "source": [
    "# Automatically Grading Alternative Text on Twitter\n"
   ]
  },
  {
   "cell_type": "markdown",
   "metadata": {},
   "source": [
    "## Motivation and Problem Statement\n",
    "\n",
    "With the increase in emojis, videos, and images, Twitter and other social media platforms have become increasingly visual. However, this visual content is not accessible to people with vision impairments, excluding them from many current communication platforms. Different approaches have been leveraged to make visual content more accessible to blind users. One central element to current approaches involves providing textual descriptions (alternative text) to user-posted images. Platforms like Facebook and Instagram have used algorithms to automatically tag pictures with low-quality descirptions, Twitter encourages users to add their own descriptions for the images they post. \n",
    "\n",
    "To do so, the user first needs to turn on [the option in accessibility setting](https://help.twitter.com/en/using-twitter/picture-descriptions), where they need to check the \"Compose image descriptions\" option."
   ]
  },
  {
   "cell_type": "markdown",
   "metadata": {},
   "source": [
    "<img src=\"https://i.ibb.co/0MFMf8S/setting.png\">"
   ]
  },
  {
   "cell_type": "markdown",
   "metadata": {},
   "source": [
    "After the setting is set up, users have the option of composing image descriptions when they post an image. "
   ]
  },
  {
   "cell_type": "markdown",
   "metadata": {},
   "source": [
    "<img src=\"https://i.ibb.co/4mX63Gc/submit.png\">"
   ]
  },
  {
   "cell_type": "markdown",
   "metadata": {},
   "source": [
    "## Related Work\n",
    "\n",
    "Alternative text was introuduced in the HTML specification in 1995 \\[1\\], and it was meant for users with non-graphical browsers to understand information that may be contained in images on the web. Users with vision impairments also use non-graphical browsers, including screen readers and Braille displays. \n",
    "\n",
    "The lack of alt text online has been a perennial problem since it's introduction. Bigham et al. found that only 37% of images on top websites contained alternative text \\[2\\]. A more recent study last year said that this had increaed to 50%, but that meant that 50\n",
    "% of images are still inaccessible to people with vision imapirments \\[3\\].\n",
    "\n",
    "However, these numbers are for the top sites on the web. The reality of accessibility on social media is much different. Through user interviews with blind Twitter users, Morris et al. found that Twitter was becoming more inaccessible with an increase in visual content \\[4\\]. It was originally a text-only site, which made it relatively easy to access via a screen-reader either on the web or a third-party application. Now, around 25% of tweets contain some sort of media, whether thats an image, video, or GIF. Other social networks are even worse: all content on Instagram, Snapchat, or TikTok is inaccessible. However, we focus on Twitter because there is already a blind userbase present.\n",
    "\n",
    "Cole Gleason (one of the authors on this project) has previously conducted research in this area, and so we will re-use a dataset collected last year \\[5\\] for this analysis. We will describe how you could replicate this work by collecting a new dataset yourself."
   ]
  },
  {
   "cell_type": "markdown",
   "metadata": {},
   "source": [
    "## Required Dependencies\n",
    "\n",
    "To run this project, in addition to standard data science tools like numpy and pandas, you will need the following packages:\n",
    "\n",
    "\n",
    "*   python-twitter\n",
    "*   spacy\n",
    "*   py-torch\n",
    "*   transformers\n",
    "*   ftfy\n",
    "*   treeinterpreter\n",
    "\n",
    "You can install these individually, or use the cell below to install using pip in the current environment."
   ]
  },
  {
   "cell_type": "raw",
   "metadata": {},
   "source": [
    "# install necessary requirements\n",
    "!pip install scikit-learn==0.22 python-twitter transformers spacy torch ftfy treeinterpreter"
   ]
  },
  {
   "cell_type": "markdown",
   "metadata": {},
   "source": [
    "## Data Collection\n",
    "\n",
    "We collect data from twitter using the [Twitter API](https://developer.twitter.com/en/docs), specificially by using the [python-twitter](https://python-twitter.readthedocs.io/en/latest) package. To use this API, you will need [Twitter access tokens](https://developer.twitter.com/en/docs/basics/authentication/guides/access-tokens). We store these in a file called config.py, which we load now. (Note to graders: if you need to borrow API access to grade this, please email cgleason@cs.cmu.edu). "
   ]
  },
  {
   "cell_type": "code",
   "execution_count": 1,
   "metadata": {},
   "outputs": [],
   "source": [
    "import twitter\n",
    "# a file containing the API keys below.\n",
    "from config import Config \n",
    "\n",
    "twitter_api = twitter.Api(consumer_key=Config.TWITTER_CONSUMER_KEY,\n",
    "                  consumer_secret=Config.TWITTER_CONSUMER_SECRET,\n",
    "                  access_token_key=Config.TWITTER_ACCESS_TOKEN_KEY,\n",
    "                  access_token_secret=Config.TWITTER_ACCESS_TOKEN_SECRET,\n",
    "                  tweet_mode='extended')"
   ]
  },
  {
   "cell_type": "code",
   "execution_count": 2,
   "metadata": {},
   "outputs": [
    {
     "name": "stdout",
     "output_type": "stream",
     "text": [
      "SaudTheMonster tweeted: الايموت يجسد ردة فعلي ههههههههههههههههههههههههههههههههههههههههههههه\n",
      "\n",
      "https://t.co/fc0lxQyzOz https://t.co/Vfouveml4Y\n",
      "myplacepromised tweeted: くりまたすみって学校へ行こうだっけ、なんかすごい記憶にある。\n",
      "mly__gr tweeted: 日プをきっかけに応援広告で応援するっていうことが増えて欲しいし、応援素材を運営側が提供することでファンにとっても運営にとっても利益につながるってことを改めて思った &gt;RT\n",
      "Pawiz tweeted: Acaba de pasar la maravilla más maravillosa: mi vecino me compartió su internet...\n",
      "\n",
      "GRATIS 💕\n",
      "wandaarroy0000 tweeted: RT @hinchadeduki: decime te amo o me drogo porfavor\n"
     ]
    }
   ],
   "source": [
    "def random_sample_tweets(n=100):\n",
    "  \"\"\"\n",
    "  Pulls from a 1% sample of Twitter, and returns a list of n tweets once collected.\n",
    "  \"\"\"\n",
    "  random_sample = []\n",
    "  for tweet in twitter_api.GetStreamSample():\n",
    "    status = twitter.Status.NewFromJsonDict(tweet)\n",
    "    if status.user: # some of the objects returned here are delete messages, which we don't want to save\n",
    "      random_sample.append(status)\n",
    "      if len(random_sample) >= n:\n",
    "          break\n",
    "  return random_sample\n",
    "\n",
    "random_5 = random_sample_tweets(5)\n",
    "for tweet in random_5:\n",
    "  if tweet.user:\n",
    "    print(f\"{tweet.user.screen_name} tweeted: {tweet.text}\")"
   ]
  },
  {
   "cell_type": "markdown",
   "metadata": {},
   "source": [
    "### Retrieving Tweets from a Specific User\n",
    "\n",
    "\n",
    "We might instead wish to collect the tweets from a specific user. This function will collect N tweets given a specific username, or all avalable tweets if None it passed instead."
   ]
  },
  {
   "cell_type": "code",
   "execution_count": 81,
   "metadata": {},
   "outputs": [],
   "source": [
    "# if None is passed as the count parameter, we will retrieve all available tweets\n",
    "\n",
    "def get_user_tweets(screenname, n=100):\n",
    "    if n == None:\n",
    "        remaining = 200\n",
    "    else:\n",
    "        remaining = n\n",
    "    max_id = None\n",
    "    rv = []\n",
    "    while remaining > 0:\n",
    "        tweets = twitter_api.GetUserTimeline(screen_name=screenname, count=remaining,\n",
    "                                             exclude_replies=True, max_id=max_id)\n",
    "        if len(tweets) == 0:\n",
    "            break\n",
    "        if n:\n",
    "            remaining -= len(tweets)\n",
    "        rv.extend(tweets)\n",
    "        max_id = tweets[-1].id_str\n",
    "    return rv"
   ]
  },
  {
   "cell_type": "markdown",
   "metadata": {},
   "source": [
    "Let's try this out on the Twitter account for SCS."
   ]
  },
  {
   "cell_type": "code",
   "execution_count": 5,
   "metadata": {},
   "outputs": [
    {
     "name": "stdout",
     "output_type": "stream",
     "text": [
      "Collected 3223 tweets.\n",
      "Oldest tweet found:  Carnegie Mellon @nrec_cmu CHIMP robot will make rare appearance @projectolympus Show&amp;Tell Apr 14 https://t.co/NwjQbGdMwM\n"
     ]
    }
   ],
   "source": [
    "# By passing None we will get all available tweets.\n",
    "tweets = get_user_tweets('SCSatCMU', n=None)\n",
    "print(f\"Collected {len(tweets)} tweets.\")\n",
    "print(\"Oldest tweet found: \", tweets[-1].full_text)"
   ]
  },
  {
   "cell_type": "markdown",
   "metadata": {},
   "source": [
    "## Descriptive Statistics of Dataset\n",
    "The prior Twitter alt-text dataset was collected in June 2018, and consists of tweets samples for approximately 6 hours per day over 5 days \\[5\\]. Of 9.22M tweets sampled, 1.09 million tweets that contain images.  Given that this dataset is large (i.e., each day's .txt file is ~2Gb), we will show the process of our data processing using data from a single day. Later we will be using pre-procssed dataset for more detailed illustration.  "
   ]
  },
  {
   "cell_type": "code",
   "execution_count": 113,
   "metadata": {},
   "outputs": [],
   "source": [
    "import json\n",
    "import re\n",
    "import matplotlib.pyplot as plt\n",
    "import numpy as np\n",
    "import pandas as pd\n",
    "import seaborn as sns\n",
    "sns.set()\n",
    "%matplotlib inline"
   ]
  },
  {
   "cell_type": "raw",
   "metadata": {},
   "source": [
    "#Let's take a look at what we've crawlled from Twitter API\n",
    "with open(\"tweets_1.txt\") as myfile:\n",
    "    head = myfile.readlines()\n",
    "json.loads(head[1][:-1])"
   ]
  },
  {
   "cell_type": "code",
   "execution_count": 118,
   "metadata": {},
   "outputs": [],
   "source": [
    "# We collected 6 batches of data and named them as 1-6\n",
    "# We load them the following way\n",
    "twitter_count = 0\n",
    "alt_text = []\n",
    "for x in range(1,6):\n",
    "    with open(\"tweets_\"+ str(x) + \".txt\") as myfile:\n",
    "        head = myfile.readlines()\n",
    "        twitter_count = twitter_count + len(head)\n",
    "        for h in range(len(head)):\n",
    "            t = json.loads(head[h][:-1])\n",
    "            try:\n",
    "                atl = t[\"extended_entities\"]['media'][0]['ext_alt_text']  #get alt_tags\n",
    "                if atl != None:\n",
    "                    alt_text = alt_text + [t]\n",
    "            except:\n",
    "                pass"
   ]
  },
  {
   "cell_type": "code",
   "execution_count": 45,
   "metadata": {},
   "outputs": [
    {
     "name": "stdout",
     "output_type": "stream",
     "text": [
      "The number of Tweets we have collected: 1091875\n"
     ]
    }
   ],
   "source": [
    "print(\"The number of Tweets we have collected:\",twitter_count)"
   ]
  },
  {
   "cell_type": "code",
   "execution_count": 114,
   "metadata": {},
   "outputs": [],
   "source": [
    "#After the previous step, we have obtained a pickle file contained \n",
    "import pickle\n",
    "alt_text = pickle.load( open( \"alt_text_final.p\", \"rb\" ) )"
   ]
  },
  {
   "cell_type": "code",
   "execution_count": 115,
   "metadata": {},
   "outputs": [
    {
     "data": {
      "text/plain": [
       "1143"
      ]
     },
     "execution_count": 115,
     "metadata": {},
     "output_type": "execute_result"
    }
   ],
   "source": [
    "# the length of alt text without any filtering\n",
    "len(alt_text)"
   ]
  },
  {
   "cell_type": "code",
   "execution_count": 116,
   "metadata": {},
   "outputs": [
    {
     "name": "stdout",
     "output_type": "stream",
     "text": [
      "https://www.flickr.com/photos/maevalecoq/\n",
      "Suruç’da hastanede kameralar tahrip edilmiş, saldırı planlı görünüyor!\n",
      "http://contemporary-art-blog.tumblr.com/post/21933515681\n",
      "Image\n",
      "http://www.designboom.com/architecture/moon-hoon-interview-10-24-2014/\n",
      "Obama, Luis and your friend Lin\n",
      "http://archillect.com\n",
      "北と南の方角を示すイラスト。真ん中に十字模様があり、北にホッキョクグマ、南にペンギンが描かれている。\n",
      "http://an-addled-mind.tumblr.com/post/99323224073\n",
      "Girl posing In front of the blue YSL majorelle house in Morocco with a straw hat on\n",
      "http://archillect.com\n",
      "http://archillect.com\n",
      "Obama, Luis and your friend Lin\n",
      "https://www.flickr.com/photos/maevalecoq/\n",
      "Tony Hawk's Existential Nightmare (PS2, 2018)\n",
      "http://archillect.com\n",
      "Obama, Luis and your friend Lin\n",
      "“How to talk to the landlord:” left: says “no” above a happy landlord talking to a single tenant right: says “yes” above a sad landlord talking to a group of tenants\n",
      "Imagem de pinos usados para colocar cocaína decorados com bandeiras de alguns dos países participantes da Copa do Mundo de 2018\n",
      "Obama, Luis and your friend Lin\n"
     ]
    }
   ],
   "source": [
    "# We can print them out to have an impression about what the alt_texts are about\n",
    "for x in range (0,20):\n",
    "    print (alt_text[x]['extended_entities']['media'][0]['ext_alt_text'])"
   ]
  },
  {
   "cell_type": "markdown",
   "metadata": {},
   "source": [
    "We can see that, there are a lot of urls (which are automatically generated by flicker, tumblr or archilletct)\n",
    "and non-English words that are not fit for our data processing.\n",
    "In these steps, we need to filter these out. "
   ]
  },
  {
   "cell_type": "code",
   "execution_count": 34,
   "metadata": {},
   "outputs": [],
   "source": [
    "#We define a helper method to help us filter out the eurls \n",
    "def find_url(string): \n",
    "    url = re.findall('http[s]?://(?:[a-zA-Z]|[0-9]|[$-_@.&+]|[!*\\(\\), ]|(?:%[0-9a-fA-F][0-9a-fA-F]))+', string) \n",
    "    return url"
   ]
  },
  {
   "cell_type": "code",
   "execution_count": 41,
   "metadata": {},
   "outputs": [
    {
     "name": "stdout",
     "output_type": "stream",
     "text": [
      "Number of alt_tags after filtrering out URLs: 505\n"
     ]
    }
   ],
   "source": [
    "alt_filter_url = []\n",
    "\n",
    "for a in alt_text:\n",
    "    atl = a[\"extended_entities\"]['media'][0]['ext_alt_text'] \n",
    "    if find_url(atl) == []:\n",
    "        alt_filter_url = alt_filter_url + [a]\n",
    "print(\"Number of alt_tags after filtrering out URLs:\", len(alt_filter_url))"
   ]
  },
  {
   "cell_type": "code",
   "execution_count": 46,
   "metadata": {},
   "outputs": [
    {
     "name": "stdout",
     "output_type": "stream",
     "text": [
      "Number of alt_tags after filtrering out URLs and non-English Tweets : 316\n"
     ]
    }
   ],
   "source": [
    "#We then usea module called langdetect to detect English Tweets\n",
    "\n",
    "from langdetect import detect\n",
    "\n",
    "alt_filter_english = []\n",
    "\n",
    "for a in alt_filter_url:\n",
    "    atl = a[\"extended_entities\"]['media'][0]['ext_alt_text'] \n",
    "    try:\n",
    "        if detect(atl) == 'en':\n",
    "            alt_filter_english = alt_filter_english + [a]\n",
    "    except:\n",
    "        pass\n",
    "print(\"Number of alt_tags after filtrering out URLs and non-English Tweets :\", len(alt_filter_english))"
   ]
  },
  {
   "cell_type": "code",
   "execution_count": 51,
   "metadata": {},
   "outputs": [
    {
     "data": {
      "text/plain": [
       "Counter({1: 278, 2: 4, 5: 1, 3: 1, 7: 2, 4: 2})"
      ]
     },
     "execution_count": 51,
     "metadata": {},
     "output_type": "execute_result"
    }
   ],
   "source": [
    "# We tried to see the distribution of these posts. \n",
    "\n",
    "from collections import Counter\n",
    "\n",
    "alt_user = []\n",
    "for a in alt_filter_english:\n",
    "    alt_user = [a['user']['id']] + alt_user\n",
    "unique_alt_user =  list((set(alt_user)))\n",
    "dict_count = dict.fromkeys(unique_alt_user,0)\n",
    "for a in alt_filter_english:\n",
    "    user_id = a['user']['id']\n",
    "    dict_count[user_id] = dict_count[user_id] + 1\n",
    "Counter(dict_count.values())\n",
    "\n",
    "#Most users only post one Tweeet that contains Atl-tages. "
   ]
  },
  {
   "cell_type": "code",
   "execution_count": 54,
   "metadata": {},
   "outputs": [],
   "source": [
    "# We then check their numbere of followers \n",
    "\n",
    "follower_count = []\n",
    "for a in alt_filter_english:\n",
    "    follower_count = follower_count + [a['user']['followers_count']]\n",
    "follower_count.sort()"
   ]
  },
  {
   "cell_type": "code",
   "execution_count": 72,
   "metadata": {},
   "outputs": [],
   "source": [
    "id_follower = []\n",
    "processed_id = []\n",
    "for a in alt_filter_english:\n",
    "    follower = a['user']['followers_count']\n",
    "    user_name = a['user']['screen_name']\n",
    "    user_id = a['user']['id']\n",
    "    status_count = a['user']['statuses_count']\n",
    "    if user_id not in processed_id:\n",
    "            processed_id = [user_id] + processed_id    \n",
    "            id_follower = id_follower + [[user_name,user_id,follower,status_count]]"
   ]
  },
  {
   "cell_type": "code",
   "execution_count": 74,
   "metadata": {},
   "outputs": [],
   "source": [
    "import pandas as pd\n",
    "df = pd.DataFrame(data=id_follower)\n",
    "df.columns =['user_name', 'user_id','num_of_followers','status_count'] "
   ]
  },
  {
   "cell_type": "code",
   "execution_count": 75,
   "metadata": {},
   "outputs": [
    {
     "data": {
      "text/html": [
       "<div>\n",
       "<style scoped>\n",
       "    .dataframe tbody tr th:only-of-type {\n",
       "        vertical-align: middle;\n",
       "    }\n",
       "\n",
       "    .dataframe tbody tr th {\n",
       "        vertical-align: top;\n",
       "    }\n",
       "\n",
       "    .dataframe thead th {\n",
       "        text-align: right;\n",
       "    }\n",
       "</style>\n",
       "<table border=\"1\" class=\"dataframe\">\n",
       "  <thead>\n",
       "    <tr style=\"text-align: right;\">\n",
       "      <th></th>\n",
       "      <th>user_name</th>\n",
       "      <th>user_id</th>\n",
       "      <th>num_of_followers</th>\n",
       "      <th>status_count</th>\n",
       "    </tr>\n",
       "  </thead>\n",
       "  <tbody>\n",
       "    <tr>\n",
       "      <td>139</td>\n",
       "      <td>SmarterTravel</td>\n",
       "      <td>14132853</td>\n",
       "      <td>311978</td>\n",
       "      <td>32597</td>\n",
       "    </tr>\n",
       "    <tr>\n",
       "      <td>210</td>\n",
       "      <td>MisfitsGG</td>\n",
       "      <td>3182089458</td>\n",
       "      <td>59583</td>\n",
       "      <td>6939</td>\n",
       "    </tr>\n",
       "    <tr>\n",
       "      <td>175</td>\n",
       "      <td>netstartraffic</td>\n",
       "      <td>74991659</td>\n",
       "      <td>34364</td>\n",
       "      <td>209886</td>\n",
       "    </tr>\n",
       "    <tr>\n",
       "      <td>149</td>\n",
       "      <td>robpegoraro</td>\n",
       "      <td>7301572</td>\n",
       "      <td>18255</td>\n",
       "      <td>44570</td>\n",
       "    </tr>\n",
       "    <tr>\n",
       "      <td>173</td>\n",
       "      <td>Meeea</td>\n",
       "      <td>271081057</td>\n",
       "      <td>12488</td>\n",
       "      <td>128948</td>\n",
       "    </tr>\n",
       "    <tr>\n",
       "      <td>174</td>\n",
       "      <td>MatthewOldridge</td>\n",
       "      <td>519071841</td>\n",
       "      <td>10051</td>\n",
       "      <td>43019</td>\n",
       "    </tr>\n",
       "    <tr>\n",
       "      <td>192</td>\n",
       "      <td>Iheartnoise</td>\n",
       "      <td>15273924</td>\n",
       "      <td>8482</td>\n",
       "      <td>237793</td>\n",
       "    </tr>\n",
       "    <tr>\n",
       "      <td>265</td>\n",
       "      <td>unchangingglow</td>\n",
       "      <td>148481078</td>\n",
       "      <td>7984</td>\n",
       "      <td>211486</td>\n",
       "    </tr>\n",
       "    <tr>\n",
       "      <td>31</td>\n",
       "      <td>TerryHa32444924</td>\n",
       "      <td>810654457096785900</td>\n",
       "      <td>7838</td>\n",
       "      <td>50283</td>\n",
       "    </tr>\n",
       "    <tr>\n",
       "      <td>9</td>\n",
       "      <td>BrittSabo</td>\n",
       "      <td>238867685</td>\n",
       "      <td>7385</td>\n",
       "      <td>77911</td>\n",
       "    </tr>\n",
       "  </tbody>\n",
       "</table>\n",
       "</div>"
      ],
      "text/plain": [
       "           user_name             user_id  num_of_followers  status_count\n",
       "139    SmarterTravel            14132853            311978         32597\n",
       "210        MisfitsGG          3182089458             59583          6939\n",
       "175   netstartraffic            74991659             34364        209886\n",
       "149      robpegoraro             7301572             18255         44570\n",
       "173            Meeea           271081057             12488        128948\n",
       "174  MatthewOldridge           519071841             10051         43019\n",
       "192      Iheartnoise            15273924              8482        237793\n",
       "265   unchangingglow           148481078              7984        211486\n",
       "31   TerryHa32444924  810654457096785900              7838         50283\n",
       "9          BrittSabo           238867685              7385         77911"
      ]
     },
     "execution_count": 75,
     "metadata": {},
     "output_type": "execute_result"
    }
   ],
   "source": [
    "df.sort_values(by=['num_of_followers'],ascending=False).head(10)"
   ]
  },
  {
   "cell_type": "code",
   "execution_count": 66,
   "metadata": {},
   "outputs": [
    {
     "data": {
      "image/png": "[encoded data removed]",
      "text/plain": [
       "<Figure size 432x288 with 1 Axes>"
      ]
     },
     "metadata": {
      "needs_background": "light"
     },
     "output_type": "display_data"
    }
   ],
   "source": [
    "follower_list = list(df.num_of_followers)\n",
    "follower_list.sort()\n",
    "plt.hist(follower_list[:-10], bins=50)\n",
    "plt.ylabel('# of followers per poster');"
   ]
  },
  {
   "cell_type": "code",
   "execution_count": 76,
   "metadata": {},
   "outputs": [
    {
     "data": {
      "text/html": [
       "<div>\n",
       "<style scoped>\n",
       "    .dataframe tbody tr th:only-of-type {\n",
       "        vertical-align: middle;\n",
       "    }\n",
       "\n",
       "    .dataframe tbody tr th {\n",
       "        vertical-align: top;\n",
       "    }\n",
       "\n",
       "    .dataframe thead th {\n",
       "        text-align: right;\n",
       "    }\n",
       "</style>\n",
       "<table border=\"1\" class=\"dataframe\">\n",
       "  <thead>\n",
       "    <tr style=\"text-align: right;\">\n",
       "      <th></th>\n",
       "      <th>user_name</th>\n",
       "      <th>user_id</th>\n",
       "      <th>num_of_followers</th>\n",
       "      <th>status_count</th>\n",
       "    </tr>\n",
       "  </thead>\n",
       "  <tbody>\n",
       "    <tr>\n",
       "      <td>49</td>\n",
       "      <td>linkfinds</td>\n",
       "      <td>745712201093255200</td>\n",
       "      <td>3516</td>\n",
       "      <td>276064</td>\n",
       "    </tr>\n",
       "    <tr>\n",
       "      <td>5</td>\n",
       "      <td>Shasta_Otter</td>\n",
       "      <td>155477349</td>\n",
       "      <td>1559</td>\n",
       "      <td>274110</td>\n",
       "    </tr>\n",
       "    <tr>\n",
       "      <td>182</td>\n",
       "      <td>petermccue1</td>\n",
       "      <td>394093191</td>\n",
       "      <td>2738</td>\n",
       "      <td>250027</td>\n",
       "    </tr>\n",
       "    <tr>\n",
       "      <td>45</td>\n",
       "      <td>PiifernloveSJ</td>\n",
       "      <td>171407805</td>\n",
       "      <td>416</td>\n",
       "      <td>246317</td>\n",
       "    </tr>\n",
       "    <tr>\n",
       "      <td>119</td>\n",
       "      <td>MrSinister53</td>\n",
       "      <td>1475168784</td>\n",
       "      <td>4630</td>\n",
       "      <td>242620</td>\n",
       "    </tr>\n",
       "    <tr>\n",
       "      <td>192</td>\n",
       "      <td>Iheartnoise</td>\n",
       "      <td>15273924</td>\n",
       "      <td>8482</td>\n",
       "      <td>237793</td>\n",
       "    </tr>\n",
       "    <tr>\n",
       "      <td>265</td>\n",
       "      <td>unchangingglow</td>\n",
       "      <td>148481078</td>\n",
       "      <td>7984</td>\n",
       "      <td>211486</td>\n",
       "    </tr>\n",
       "    <tr>\n",
       "      <td>152</td>\n",
       "      <td>lilstur</td>\n",
       "      <td>1197589765</td>\n",
       "      <td>2174</td>\n",
       "      <td>210482</td>\n",
       "    </tr>\n",
       "    <tr>\n",
       "      <td>175</td>\n",
       "      <td>netstartraffic</td>\n",
       "      <td>74991659</td>\n",
       "      <td>34364</td>\n",
       "      <td>209886</td>\n",
       "    </tr>\n",
       "    <tr>\n",
       "      <td>221</td>\n",
       "      <td>HeatherSchultz</td>\n",
       "      <td>22029173</td>\n",
       "      <td>1509</td>\n",
       "      <td>207760</td>\n",
       "    </tr>\n",
       "  </tbody>\n",
       "</table>\n",
       "</div>"
      ],
      "text/plain": [
       "          user_name             user_id  num_of_followers  status_count\n",
       "49        linkfinds  745712201093255200              3516        276064\n",
       "5      Shasta_Otter           155477349              1559        274110\n",
       "182     petermccue1           394093191              2738        250027\n",
       "45    PiifernloveSJ           171407805               416        246317\n",
       "119    MrSinister53          1475168784              4630        242620\n",
       "192     Iheartnoise            15273924              8482        237793\n",
       "265  unchangingglow           148481078              7984        211486\n",
       "152         lilstur          1197589765              2174        210482\n",
       "175  netstartraffic            74991659             34364        209886\n",
       "221  HeatherSchultz            22029173              1509        207760"
      ]
     },
     "execution_count": 76,
     "metadata": {},
     "output_type": "execute_result"
    }
   ],
   "source": [
    "df.sort_values(by=['status_count'],ascending=False).head(10)"
   ]
  },
  {
   "cell_type": "code",
   "execution_count": 78,
   "metadata": {},
   "outputs": [
    {
     "data": {
      "image/png": "[encoded data removed]",
      "text/plain": [
       "<Figure size 432x288 with 1 Axes>"
      ]
     },
     "metadata": {
      "needs_background": "light"
     },
     "output_type": "display_data"
    }
   ],
   "source": [
    "status_count_list = list(df.status_count)\n",
    "status_count_list.sort()\n",
    "plt.hist(status_count_list, bins=50)\n",
    "plt.ylabel('# of status per poster');"
   ]
  },
  {
   "cell_type": "code",
   "execution_count": 84,
   "metadata": {},
   "outputs": [
    {
     "name": "stdout",
     "output_type": "stream",
     "text": [
      "4\n"
     ]
    }
   ],
   "source": [
    "# are they verified\n",
    "\n",
    "verified_count = 0\n",
    "for u in range(len(alt_filter_english)):\n",
    "    if alt_filter_english[u]['user']['verified'] == True:\n",
    "        verified_count = verified_count +1\n",
    "        \n",
    "print(\"n\"verified_count)"
   ]
  },
  {
   "cell_type": "markdown",
   "metadata": {},
   "source": [
    "## Quality Ratings\n",
    "\n",
    "Next, we introduce a sample of image tweets with alt text that we previously collected and hand rated on an ordinal quality scale from 0 (Irrelevant) to 3 (Great). The levels are as follows:\n",
    "\n",
    "0.   Irrelevant: the alt text is unrelated to content of image (often simple like \"image\" or spam urls)\n",
    "1.   Somewhat relevant: the alt text is related to image but not descriptive. For example, an image of a golden retriever playing fetch in a field might just say \"dog\".\n",
    "2.   Good: One or more of actors, actions, and setting are described well in the image. For the prior example, perhaps \"bob, our golden retriever\"\n",
    "3.   Great: All of actors, actions, and setting are described well. For example, \"Our golden retriever Bob is midair as he catches a frisbee in the field behind our house\"\n",
    "\n",
    "These criteria are somewhat easy to apply to photographs. For other images, we had a few additional rules. If text is in the image, it should be transcribed in the alt text. If it is a chart or graph, then information about the data in the graph (min/max, trends) should be in the alt text. You can see the whole rubric [here](https://drive.google.com/file/d/1ggNGhZwzBviz417MZH5GbV2BanYjwgmQ/view?usp=sharing). This rubric was developed based on prior work and experience working with people who use screen readers.\n",
    "\n",
    "The rated dataset that we load containes 2024 rows, although we need to do some cleaning to remove rows that don't have all of the data we need. We also need to fetch some data for a few rows. Let's load the dataset."
   ]
  },
  {
   "cell_type": "code",
   "execution_count": 54,
   "metadata": {},
   "outputs": [
    {
     "data": {
      "text/html": [
       "<div>\n",
       "<style scoped>\n",
       "    .dataframe tbody tr th:only-of-type {\n",
       "        vertical-align: middle;\n",
       "    }\n",
       "\n",
       "    .dataframe tbody tr th {\n",
       "        vertical-align: top;\n",
       "    }\n",
       "\n",
       "    .dataframe thead th {\n",
       "        text-align: right;\n",
       "    }\n",
       "</style>\n",
       "<table border=\"1\" class=\"dataframe\">\n",
       "  <thead>\n",
       "    <tr style=\"text-align: right;\">\n",
       "      <th></th>\n",
       "      <th></th>\n",
       "      <th>sample_name</th>\n",
       "      <th>author_screenname</th>\n",
       "      <th>author_userid</th>\n",
       "      <th>post_text</th>\n",
       "      <th>image_url</th>\n",
       "      <th>alt_text</th>\n",
       "      <th>quality_rating</th>\n",
       "    </tr>\n",
       "    <tr>\n",
       "      <th>tweet_id</th>\n",
       "      <th>image_index</th>\n",
       "      <th></th>\n",
       "      <th></th>\n",
       "      <th></th>\n",
       "      <th></th>\n",
       "      <th></th>\n",
       "      <th></th>\n",
       "      <th></th>\n",
       "    </tr>\n",
       "  </thead>\n",
       "  <tbody>\n",
       "    <tr>\n",
       "      <td>1006853723027640321</td>\n",
       "      <td>0</td>\n",
       "      <td>initial_94</td>\n",
       "      <td>SmarterTravel</td>\n",
       "      <td>14132853</td>\n",
       "      <td>Seven ultra-useful carry-on bags: https://t.co...</td>\n",
       "      <td>http://pbs.twimg.com/media/DfkQH34UcAE86J6.jpg</td>\n",
       "      <td>Woman with carry-on</td>\n",
       "      <td>2</td>\n",
       "    </tr>\n",
       "    <tr>\n",
       "      <td>1006727264762060802</td>\n",
       "      <td>0</td>\n",
       "      <td>initial_94</td>\n",
       "      <td>endless_lands</td>\n",
       "      <td>739933308365111298</td>\n",
       "      <td>Unfinished Mountain Principality https://t.co/...</td>\n",
       "      <td>http://pbs.twimg.com/media/DfidHJbX4AA-tRf.jpg</td>\n",
       "      <td>Unfinished Mountain Principality</td>\n",
       "      <td>1</td>\n",
       "    </tr>\n",
       "    <tr>\n",
       "      <td>1006732469897269249</td>\n",
       "      <td>0</td>\n",
       "      <td>initial_94</td>\n",
       "      <td>robpegoraro</td>\n",
       "      <td>7301572</td>\n",
       "      <td>Mr. @tynanwrites makes a friend at #CESAsia. h...</td>\n",
       "      <td>http://pbs.twimg.com/media/DfihrWJX4AAYXZW.jpg</td>\n",
       "      <td>Dan greets a robot carrying a tray of mints.</td>\n",
       "      <td>2</td>\n",
       "    </tr>\n",
       "    <tr>\n",
       "      <td>1006722718111289344</td>\n",
       "      <td>0</td>\n",
       "      <td>initial_94</td>\n",
       "      <td>CarRegNG</td>\n",
       "      <td>817038404311465984</td>\n",
       "      <td>Requirements to Pass VIO Computerized Road Wor...</td>\n",
       "      <td>http://pbs.twimg.com/media/DfiY-gBW0AA8NO7.jpg</td>\n",
       "      <td>New Vehicle Reg | Change of ownership | Paper ...</td>\n",
       "      <td>0</td>\n",
       "    </tr>\n",
       "    <tr>\n",
       "      <td>1006826871089221633</td>\n",
       "      <td>0</td>\n",
       "      <td>initial_94</td>\n",
       "      <td>dmartw</td>\n",
       "      <td>148753316</td>\n",
       "      <td>What's this about a #raccoon climbing a skyscr...</td>\n",
       "      <td>http://pbs.twimg.com/media/Dfj3s8UWsAEk1iq.jpg</td>\n",
       "      <td>Eric Cartman from South Park dressed as The Co...</td>\n",
       "      <td>3</td>\n",
       "    </tr>\n",
       "    <tr>\n",
       "      <td>...</td>\n",
       "      <td>...</td>\n",
       "      <td>...</td>\n",
       "      <td>...</td>\n",
       "      <td>...</td>\n",
       "      <td>...</td>\n",
       "      <td>...</td>\n",
       "      <td>...</td>\n",
       "      <td>...</td>\n",
       "    </tr>\n",
       "    <tr>\n",
       "      <td>1016686645523853312</td>\n",
       "      <td>0</td>\n",
       "      <td>sample_3_no_bots</td>\n",
       "      <td>mylittlefinger</td>\n",
       "      <td>17963349</td>\n",
       "      <td>Two Green bee-eaters https://t.co/93L57wcAau</td>\n",
       "      <td>http://pbs.twimg.com/media/Dhv_DOPU8AEt0p9.jpg</td>\n",
       "      <td>Green bee-eaters</td>\n",
       "      <td>2</td>\n",
       "    </tr>\n",
       "    <tr>\n",
       "      <td>1007654729835601922</td>\n",
       "      <td>0</td>\n",
       "      <td>sample_3_no_bots</td>\n",
       "      <td>SmarterTravel</td>\n",
       "      <td>14132853</td>\n",
       "      <td>A1: Beaches, of course! Some of our favorites ...</td>\n",
       "      <td>http://pbs.twimg.com/media/DfvoosQWAAIWvha.jpg</td>\n",
       "      <td>Beach sunset</td>\n",
       "      <td>2</td>\n",
       "    </tr>\n",
       "    <tr>\n",
       "      <td>991652298731479040</td>\n",
       "      <td>0</td>\n",
       "      <td>sample_3_no_bots</td>\n",
       "      <td>SmarterTravel</td>\n",
       "      <td>14132853</td>\n",
       "      <td>10 insanely affordable spring vacations you ca...</td>\n",
       "      <td>http://pbs.twimg.com/media/DcMOgmxW4AE6obq.jpg</td>\n",
       "      <td>Colorful Curacao</td>\n",
       "      <td>2</td>\n",
       "    </tr>\n",
       "    <tr>\n",
       "      <td>1019745874325524480</td>\n",
       "      <td>0</td>\n",
       "      <td>sample_3_no_bots</td>\n",
       "      <td>EkaterinaTrayt</td>\n",
       "      <td>1583302122</td>\n",
       "      <td>Forest Lair: More Lily Flowers [Daily Photo #8...</td>\n",
       "      <td>http://pbs.twimg.com/media/DibdVX-WAAAWP54.jpg</td>\n",
       "      <td>bright orange lily</td>\n",
       "      <td>2</td>\n",
       "    </tr>\n",
       "    <tr>\n",
       "      <td>995769929004707841</td>\n",
       "      <td>0</td>\n",
       "      <td>sample_3_no_bots</td>\n",
       "      <td>nfagerlund</td>\n",
       "      <td>14228309</td>\n",
       "      <td>They are really curious about what happens in ...</td>\n",
       "      <td>http://pbs.twimg.com/media/DdGvdpLX4AIHG7O.jpg</td>\n",
       "      <td>Halla-cat and Annabel-cat, waiting on the land...</td>\n",
       "      <td>3</td>\n",
       "    </tr>\n",
       "  </tbody>\n",
       "</table>\n",
       "<p>2018 rows × 7 columns</p>\n",
       "</div>"
      ],
      "text/plain": [
       "                                      sample_name author_screenname  \\\n",
       "tweet_id            image_index                                       \n",
       "1006853723027640321 0                  initial_94     SmarterTravel   \n",
       "1006727264762060802 0                  initial_94     endless_lands   \n",
       "1006732469897269249 0                  initial_94       robpegoraro   \n",
       "1006722718111289344 0                  initial_94          CarRegNG   \n",
       "1006826871089221633 0                  initial_94            dmartw   \n",
       "...                                           ...               ...   \n",
       "1016686645523853312 0            sample_3_no_bots    mylittlefinger   \n",
       "1007654729835601922 0            sample_3_no_bots     SmarterTravel   \n",
       "991652298731479040  0            sample_3_no_bots     SmarterTravel   \n",
       "1019745874325524480 0            sample_3_no_bots    EkaterinaTrayt   \n",
       "995769929004707841  0            sample_3_no_bots        nfagerlund   \n",
       "\n",
       "                                      author_userid  \\\n",
       "tweet_id            image_index                       \n",
       "1006853723027640321 0                      14132853   \n",
       "1006727264762060802 0            739933308365111298   \n",
       "1006732469897269249 0                       7301572   \n",
       "1006722718111289344 0            817038404311465984   \n",
       "1006826871089221633 0                     148753316   \n",
       "...                                             ...   \n",
       "1016686645523853312 0                      17963349   \n",
       "1007654729835601922 0                      14132853   \n",
       "991652298731479040  0                      14132853   \n",
       "1019745874325524480 0                    1583302122   \n",
       "995769929004707841  0                      14228309   \n",
       "\n",
       "                                                                         post_text  \\\n",
       "tweet_id            image_index                                                      \n",
       "1006853723027640321 0            Seven ultra-useful carry-on bags: https://t.co...   \n",
       "1006727264762060802 0            Unfinished Mountain Principality https://t.co/...   \n",
       "1006732469897269249 0            Mr. @tynanwrites makes a friend at #CESAsia. h...   \n",
       "1006722718111289344 0            Requirements to Pass VIO Computerized Road Wor...   \n",
       "1006826871089221633 0            What's this about a #raccoon climbing a skyscr...   \n",
       "...                                                                            ...   \n",
       "1016686645523853312 0                 Two Green bee-eaters https://t.co/93L57wcAau   \n",
       "1007654729835601922 0            A1: Beaches, of course! Some of our favorites ...   \n",
       "991652298731479040  0            10 insanely affordable spring vacations you ca...   \n",
       "1019745874325524480 0            Forest Lair: More Lily Flowers [Daily Photo #8...   \n",
       "995769929004707841  0            They are really curious about what happens in ...   \n",
       "\n",
       "                                                                      image_url  \\\n",
       "tweet_id            image_index                                                   \n",
       "1006853723027640321 0            http://pbs.twimg.com/media/DfkQH34UcAE86J6.jpg   \n",
       "1006727264762060802 0            http://pbs.twimg.com/media/DfidHJbX4AA-tRf.jpg   \n",
       "1006732469897269249 0            http://pbs.twimg.com/media/DfihrWJX4AAYXZW.jpg   \n",
       "1006722718111289344 0            http://pbs.twimg.com/media/DfiY-gBW0AA8NO7.jpg   \n",
       "1006826871089221633 0            http://pbs.twimg.com/media/Dfj3s8UWsAEk1iq.jpg   \n",
       "...                                                                         ...   \n",
       "1016686645523853312 0            http://pbs.twimg.com/media/Dhv_DOPU8AEt0p9.jpg   \n",
       "1007654729835601922 0            http://pbs.twimg.com/media/DfvoosQWAAIWvha.jpg   \n",
       "991652298731479040  0            http://pbs.twimg.com/media/DcMOgmxW4AE6obq.jpg   \n",
       "1019745874325524480 0            http://pbs.twimg.com/media/DibdVX-WAAAWP54.jpg   \n",
       "995769929004707841  0            http://pbs.twimg.com/media/DdGvdpLX4AIHG7O.jpg   \n",
       "\n",
       "                                                                          alt_text  \\\n",
       "tweet_id            image_index                                                      \n",
       "1006853723027640321 0                                          Woman with carry-on   \n",
       "1006727264762060802 0                             Unfinished Mountain Principality   \n",
       "1006732469897269249 0                 Dan greets a robot carrying a tray of mints.   \n",
       "1006722718111289344 0            New Vehicle Reg | Change of ownership | Paper ...   \n",
       "1006826871089221633 0            Eric Cartman from South Park dressed as The Co...   \n",
       "...                                                                            ...   \n",
       "1016686645523853312 0                                             Green bee-eaters   \n",
       "1007654729835601922 0                                                 Beach sunset   \n",
       "991652298731479040  0                                             Colorful Curacao   \n",
       "1019745874325524480 0                                           bright orange lily   \n",
       "995769929004707841  0            Halla-cat and Annabel-cat, waiting on the land...   \n",
       "\n",
       "                                quality_rating  \n",
       "tweet_id            image_index                 \n",
       "1006853723027640321 0                        2  \n",
       "1006727264762060802 0                        1  \n",
       "1006732469897269249 0                        2  \n",
       "1006722718111289344 0                        0  \n",
       "1006826871089221633 0                        3  \n",
       "...                                        ...  \n",
       "1016686645523853312 0                        2  \n",
       "1007654729835601922 0                        2  \n",
       "991652298731479040  0                        2  \n",
       "1019745874325524480 0                        2  \n",
       "995769929004707841  0                        3  \n",
       "\n",
       "[2018 rows x 7 columns]"
      ]
     },
     "execution_count": 54,
     "metadata": {},
     "output_type": "execute_result"
    }
   ],
   "source": [
    "df = pd.read_csv('hand_rated_alt_text.csv', dtype=str)\n",
    "df.set_index(['tweet_id', 'image_index'], inplace=True) # a tweet can have more than one image\n",
    "df['post_text'].fillna('', inplace=True) # tweets don't need to have post text, so let's treat these as empty strings\n",
    "df = df[df.quality_rating.notnull()] # a few are unrated. we will remove them.\n",
    "df.alt_text = df.alt_text.astype(\"str\") # ensure all alt text has string datatype\n",
    "df.quality_rating = df.quality_rating.astype(\"int\") # treat the quality rating as an integer, not a float.\n",
    "cat_dtype = pd.api.types.CategoricalDtype(categories=[0,1,2,3], ordered=True) # now change it to a categorical type\n",
    "df.quality_rating = df.quality_rating.astype(cat_dtype)\n",
    "df"
   ]
  },
  {
   "cell_type": "code",
   "execution_count": 55,
   "metadata": {},
   "outputs": [],
   "source": [
    "# select tweets missing author information\n",
    "missing_metadata = df[df['author_userid'].isna()]\n",
    "tweet_ids = missing_metadata.index.get_level_values(0).tolist()\n",
    "# get tweets from twitter api\n",
    "result = twitter_api.GetStatuses(tweet_ids, map=True)\n",
    "# create a new data frame from this data\n",
    "data = [(id,0,t.user.id_str,t.user.screen_name, t.text) for id,t in result.items() if t]\n",
    "df2 = pd.DataFrame(data, columns = ['tweet_id', 'image_index', 'author_userid', 'author_screenname', 'post_text'])\n",
    "df2.set_index(['tweet_id', 'image_index'], inplace=True)\n",
    "# update rows of original dataframe with new data\n",
    "df.update(df2)"
   ]
  },
  {
   "cell_type": "code",
   "execution_count": 56,
   "metadata": {},
   "outputs": [],
   "source": [
    "# drop rows that start with urls\n",
    "url = df['alt_text'].map(lambda x: x.startswith('http://') or x.startswith('https://') if type(x) == str else False)\n",
    "df = df[~url]"
   ]
  },
  {
   "cell_type": "code",
   "execution_count": 57,
   "metadata": {},
   "outputs": [
    {
     "name": "stdout",
     "output_type": "stream",
     "text": [
      "Total remaining examples: 1980\n"
     ]
    },
    {
     "data": {
      "image/png": "[encoded data removed]",
      "text/plain": [
       "<Figure size 432x288 with 1 Axes>"
      ]
     },
     "metadata": {
      "needs_background": "light"
     },
     "output_type": "display_data"
    }
   ],
   "source": [
    "# Let's see a distribution of the ratings.\n",
    "print(f\"Total remaining examples: {len(df)}\")\n",
    "df.quality_rating.value_counts(sort=False).plot(kind='bar');"
   ]
  },
  {
   "cell_type": "markdown",
   "metadata": {},
   "source": [
    "## Feature Extraction\n",
    "Our goal is to create a classifier that can distinguish good alt text from bad alt text on this quality rating scale. This could be used to choose the best alt text from a pool of candidates, or to give feedback to the alt text author on how to improve.\n",
    "\n",
    "We use the post text, image, and alt text in each tweet to create the features we will use for classification."
   ]
  },
  {
   "cell_type": "markdown",
   "metadata": {},
   "source": [
    "### Alt Text Perplexity\n",
    "Good alt text is understandable by humans. However, some people see alt text as a place to store keywords for search engine optimization (SEO). To penalize alt text that does this, and reward well-written alt text during classification, we measure perplexity using the GPT languague model. When the alt text is well-structured and probable, perplexity will be low (closer to 0). Otherwise, perplexity will be high.  "
   ]
  },
  {
   "cell_type": "code",
   "execution_count": 58,
   "metadata": {},
   "outputs": [],
   "source": [
    "import math\n",
    "import random\n",
    "import torch\n",
    "from transformers import OpenAIGPTTokenizer, OpenAIGPTLMHeadModel\n",
    "# Load pre-trained language model \n",
    "model = OpenAIGPTLMHeadModel.from_pretrained('openai-gpt')\n",
    "model.eval()\n",
    "# Load pre-trained model tokenizer\n",
    "tokenizer = OpenAIGPTTokenizer.from_pretrained('openai-gpt')\n",
    "def gpt_perplexity(sentence):\n",
    "    tokenize_input = tokenizer.tokenize(sentence)\n",
    "    # Because of how this GPT model is trained, the perplexity is not defined for documents with only one word. \n",
    "    # So we will set one-word alt text to have a perplexity of None for now, and we can address that later.\n",
    "    if len(tokenize_input) < 2:\n",
    "      return None\n",
    "    tensor_input = torch.tensor([tokenizer.convert_tokens_to_ids(tokenize_input)])\n",
    "    loss, logit = model(tensor_input, labels=tensor_input)\n",
    "    return math.exp(loss)"
   ]
  },
  {
   "cell_type": "code",
   "execution_count": 60,
   "metadata": {},
   "outputs": [
    {
     "name": "stderr",
     "output_type": "stream",
     "text": [
      "/Users/ivymew/opt/anaconda3/lib/python3.7/site-packages/ipykernel_launcher.py:9: SettingWithCopyWarning: \n",
      "A value is trying to be set on a copy of a slice from a DataFrame.\n",
      "Try using .loc[row_indexer,col_indexer] = value instead\n",
      "\n",
      "See the caveats in the documentation: http://pandas.pydata.org/pandas-docs/stable/user_guide/indexing.html#returning-a-view-versus-a-copy\n",
      "  if __name__ == '__main__':\n"
     ]
    }
   ],
   "source": [
    "import os\n",
    "if not os.path.exists('perplexity.csv'):\n",
    "  df['perplexity'] = df.apply(lambda r: gpt_perplexity(r.alt_text), axis=1)\n",
    "  # save to file as it takes a while to compute\n",
    "  df['perplexity'].to_csv('perplexity.csv', header=True)\n",
    "else:\n",
    "  perp_df = pd.read_csv('perplexity.csv', header=0, dtype='str')\n",
    "  perp_df.set_index(['tweet_id', 'image_index'], inplace=True) # a tweet can have more than one image\n",
    "  df['perplexity'] = perp_df['perplexity'].astype(\"float\")"
   ]
  },
  {
   "cell_type": "markdown",
   "metadata": {},
   "source": [
    "### Tags Describing Images\n",
    "While a full-fledged image analysis might include special features generated from a deep learning model, we chose to create simple features based on the objects/tags in the image and the text in the image.\n",
    "\n",
    "We use the [Microsoft Cognitive Services API](https://azure.microsoft.com/en-us/services/cognitive-services/computer-vision/) to recognize tags from an image and also recognize any text in an image.\n",
    "\n",
    "Given the image URL, the objects/tags of an image are recognized as a “bag of words” using the API. This \"bag of words” includes objects, scenes, and colors recognized from the image."
   ]
  },
  {
   "cell_type": "code",
   "execution_count": 61,
   "metadata": {},
   "outputs": [
    {
     "name": "stdout",
     "output_type": "stream",
     "text": [
      "Tags for first image: suit black building red dog bag street talking sidewalk luggage young man woman phone Luggage and bags outdoor city wearing walking holding blue cellphone meter lady suitcase standing girl carrying person\n"
     ]
    },
    {
     "data": {
      "text/html": [
       "<img src=\"http://pbs.twimg.com/media/DfkQH34UcAE86J6.jpg\" width=\"400\"/>"
      ],
      "text/plain": [
       "<IPython.core.display.Image object>"
      ]
     },
     "execution_count": 61,
     "metadata": {},
     "output_type": "execute_result"
    }
   ],
   "source": [
    "import requests\n",
    "from IPython.display import Image\n",
    "from IPython.core.display import HTML \n",
    "\n",
    "def get_tags_and_objects(image_url):\n",
    "    \"\"\"Provides a caption given an image. Also includes tags, colors, dimensions, and confidence level.\"\"\"\n",
    "    analyze_url = \"https://eastus.api.cognitive.microsoft.com/vision/v2.0/analyze\"\n",
    "    headers = {'Ocp-Apim-Subscription-Key': Config.msft_subscription_key}\n",
    "    params = {'visualFeatures': 'Objects,Tags,Description'}\n",
    "    data = {'url': image_url}\n",
    "    response = requests.post(analyze_url, headers=headers,\n",
    "                             params=params, json=data)\n",
    "    try:\n",
    "        response.raise_for_status()\n",
    "    except:\n",
    "        print(f\"ERROR: {response.content}\")\n",
    "        return None\n",
    "    analysis = response.json()\n",
    "    rv = set(analysis[\"description\"]['tags'])\n",
    "    rv.update([o[\"object\"] for o in analysis['objects']])\n",
    "    return ' '.join(rv)\n",
    "\n",
    "image_url = df['image_url'][0]\n",
    "print(f\"Tags for first image: {get_tags_and_objects(image_url)}\")\n",
    "Image(url=image_url,width=400)"
   ]
  },
  {
   "cell_type": "markdown",
   "metadata": {},
   "source": [
    "We can see the tags recognized from the above image form a list of “bag of words”, including objects, colors, and scenes in this image."
   ]
  },
  {
   "cell_type": "markdown",
   "metadata": {},
   "source": [
    "### Text in Images\n",
    "\n",
    "Some images contain text, and that should be in the alt text as well to be a good description. We use text recognition to add these to the corpus."
   ]
  },
  {
   "cell_type": "code",
   "execution_count": 62,
   "metadata": {},
   "outputs": [
    {
     "name": "stdout",
     "output_type": "stream",
     "text": [
      "Text for image: CarReg.com.ng 090 9014 4706 New Vehicle Registration, Change of ownership & Vehicle particulars renewal @CarRegNG + Home Delivery\n"
     ]
    },
    {
     "data": {
      "text/html": [
       "<img src=\"http://pbs.twimg.com/media/DgMjXuUUwAE8_dn.jpg\" width=\"400\"/>"
      ],
      "text/plain": [
       "<IPython.core.display.Image object>"
      ]
     },
     "execution_count": 62,
     "metadata": {},
     "output_type": "execute_result"
    }
   ],
   "source": [
    "def get_text_in_image(image_url):\n",
    "    \"\"\"Provides a caption given an image. Also includes tags, colors, dimensions, and confidence level.\"\"\"\n",
    "    analyze_url = \"https://eastus.api.cognitive.microsoft.com/vision/v2.0/ocr\"\n",
    "    headers = {'Ocp-Apim-Subscription-Key': Config.msft_subscription_key}\n",
    "    params = {}\n",
    "    data = {'url': image_url}\n",
    "    response = requests.post(analyze_url, headers=headers,\n",
    "                             params=params, json=data)\n",
    "    try:\n",
    "        response.raise_for_status()\n",
    "    except:\n",
    "        print(f\"ERROR: {response.content}\")\n",
    "        return None\n",
    "    analysis = response.json()\n",
    "    words = [w['text'] for r in analysis['regions'] for l in r['lines'] for w in l['words']]\n",
    "    return ' '.join(words)\n",
    "  \n",
    "image_url = 'http://pbs.twimg.com/media/DgMjXuUUwAE8_dn.jpg'\n",
    "print(f\"Text for image: {get_text_in_image(image_url)}\")\n",
    "Image(url=image_url,width=400)"
   ]
  },
  {
   "cell_type": "markdown",
   "metadata": {},
   "source": [
    "The following code uses the above functions to get the tags and text for each image and saves it in a CSV on disk. We do this so it can be easily interrupted and restarted."
   ]
  },
  {
   "cell_type": "code",
   "execution_count": 72,
   "metadata": {},
   "outputs": [],
   "source": [
    "import csv\n",
    "headers = ['tweet_id', 'image_url', 'text', 'tags']\n",
    "\n",
    "try:\n",
    "    with open('image_text_and_tags.csv', 'r') as infile:\n",
    "        reader = csv.reader(infile)\n",
    "        next(reader)\n",
    "        results = {r[1]:r for r in reader}\n",
    "except:\n",
    "    results = {}\n",
    "    \n",
    "for idx,r in df.iterrows():\n",
    "    if r.image_url in results:\n",
    "        continue\n",
    "    tags = get_tags_and_objects(r.image_url)\n",
    "    if tags == None:\n",
    "        tags = \"\"\n",
    "    else:\n",
    "        tags = \" \".join(tags)\n",
    "    text = get_text_in_image(r.image_url)\n",
    "    results[r.image_url] = (r.tweet_id, r.image_url, text, tags)\n",
    "    with open('image_text_and_tags.csv', 'w') as infile:\n",
    "        writer = csv.writer(infile)\n",
    "        writer.writerow(headers)\n",
    "        writer.writerows(results.values())"
   ]
  },
  {
   "cell_type": "markdown",
   "metadata": {},
   "source": [
    "Now that this is collected, we will load it from disk and combine it with the quality rating dataset."
   ]
  },
  {
   "cell_type": "code",
   "execution_count": 73,
   "metadata": {},
   "outputs": [
    {
     "data": {
      "text/html": [
       "<div>\n",
       "<style scoped>\n",
       "    .dataframe tbody tr th:only-of-type {\n",
       "        vertical-align: middle;\n",
       "    }\n",
       "\n",
       "    .dataframe tbody tr th {\n",
       "        vertical-align: top;\n",
       "    }\n",
       "\n",
       "    .dataframe thead th {\n",
       "        text-align: right;\n",
       "    }\n",
       "</style>\n",
       "<table border=\"1\" class=\"dataframe\">\n",
       "  <thead>\n",
       "    <tr style=\"text-align: right;\">\n",
       "      <th></th>\n",
       "      <th></th>\n",
       "      <th>sample_name</th>\n",
       "      <th>author_screenname</th>\n",
       "      <th>author_userid</th>\n",
       "      <th>post_text</th>\n",
       "      <th>image_url</th>\n",
       "      <th>alt_text</th>\n",
       "      <th>quality_rating</th>\n",
       "      <th>perplexity</th>\n",
       "      <th>text</th>\n",
       "      <th>tags</th>\n",
       "      <th>text_and_tags</th>\n",
       "    </tr>\n",
       "    <tr>\n",
       "      <th>tweet_id</th>\n",
       "      <th>image_index</th>\n",
       "      <th></th>\n",
       "      <th></th>\n",
       "      <th></th>\n",
       "      <th></th>\n",
       "      <th></th>\n",
       "      <th></th>\n",
       "      <th></th>\n",
       "      <th></th>\n",
       "      <th></th>\n",
       "      <th></th>\n",
       "      <th></th>\n",
       "    </tr>\n",
       "  </thead>\n",
       "  <tbody>\n",
       "    <tr>\n",
       "      <td>1006853723027640321</td>\n",
       "      <td>0</td>\n",
       "      <td>initial_94</td>\n",
       "      <td>SmarterTravel</td>\n",
       "      <td>14132853</td>\n",
       "      <td>Seven ultra-useful carry-on bags: https://t.co...</td>\n",
       "      <td>http://pbs.twimg.com/media/DfkQH34UcAE86J6.jpg</td>\n",
       "      <td>Woman with carry-on</td>\n",
       "      <td>2</td>\n",
       "      <td>82.400109</td>\n",
       "      <td></td>\n",
       "      <td>lady woman suitcase street red building city w...</td>\n",
       "      <td>lady woman suitcase street red building city ...</td>\n",
       "    </tr>\n",
       "    <tr>\n",
       "      <td>1006727264762060802</td>\n",
       "      <td>0</td>\n",
       "      <td>initial_94</td>\n",
       "      <td>endless_lands</td>\n",
       "      <td>739933308365111298</td>\n",
       "      <td>Unfinished Mountain Principality https://t.co/...</td>\n",
       "      <td>http://pbs.twimg.com/media/DfidHJbX4AA-tRf.jpg</td>\n",
       "      <td>Unfinished Mountain Principality</td>\n",
       "      <td>1</td>\n",
       "      <td>407.760584</td>\n",
       "      <td>ulinter's șpire</td>\n",
       "      <td>text clock</td>\n",
       "      <td>ulinter's șpire text clock</td>\n",
       "    </tr>\n",
       "    <tr>\n",
       "      <td>1006732469897269249</td>\n",
       "      <td>0</td>\n",
       "      <td>initial_94</td>\n",
       "      <td>robpegoraro</td>\n",
       "      <td>7301572</td>\n",
       "      <td>Mr. @tynanwrites makes a friend at #CESAsia. h...</td>\n",
       "      <td>http://pbs.twimg.com/media/DfihrWJX4AAYXZW.jpg</td>\n",
       "      <td>Dan greets a robot carrying a tray of mints.</td>\n",
       "      <td>2</td>\n",
       "      <td>160.495615</td>\n",
       "      <td></td>\n",
       "      <td>building standing young suit man woman people ...</td>\n",
       "      <td>building standing young suit man woman people...</td>\n",
       "    </tr>\n",
       "    <tr>\n",
       "      <td>1006722718111289344</td>\n",
       "      <td>0</td>\n",
       "      <td>initial_94</td>\n",
       "      <td>CarRegNG</td>\n",
       "      <td>817038404311465984</td>\n",
       "      <td>Requirements to Pass VIO Computerized Road Wor...</td>\n",
       "      <td>http://pbs.twimg.com/media/DfiY-gBW0AA8NO7.jpg</td>\n",
       "      <td>New Vehicle Reg | Change of ownership | Paper ...</td>\n",
       "      <td>0</td>\n",
       "      <td>259.129327</td>\n",
       "      <td>LAGOS STATE GOVERNMENT MINISTRY OF TRANSPORTAT...</td>\n",
       "      <td>drawing</td>\n",
       "      <td>LAGOS STATE GOVERNMENT MINISTRY OF TRANSPORTAT...</td>\n",
       "    </tr>\n",
       "    <tr>\n",
       "      <td>1006826871089221633</td>\n",
       "      <td>0</td>\n",
       "      <td>initial_94</td>\n",
       "      <td>dmartw</td>\n",
       "      <td>148753316</td>\n",
       "      <td>What's this about a #raccoon climbing a skyscr...</td>\n",
       "      <td>http://pbs.twimg.com/media/Dfj3s8UWsAEk1iq.jpg</td>\n",
       "      <td>Eric Cartman from South Park dressed as The Co...</td>\n",
       "      <td>3</td>\n",
       "      <td>242.611818</td>\n",
       "      <td></td>\n",
       "      <td>toy drawing doll</td>\n",
       "      <td>toy drawing doll</td>\n",
       "    </tr>\n",
       "    <tr>\n",
       "      <td>...</td>\n",
       "      <td>...</td>\n",
       "      <td>...</td>\n",
       "      <td>...</td>\n",
       "      <td>...</td>\n",
       "      <td>...</td>\n",
       "      <td>...</td>\n",
       "      <td>...</td>\n",
       "      <td>...</td>\n",
       "      <td>...</td>\n",
       "      <td>...</td>\n",
       "      <td>...</td>\n",
       "      <td>...</td>\n",
       "    </tr>\n",
       "    <tr>\n",
       "      <td>1016686645523853312</td>\n",
       "      <td>0</td>\n",
       "      <td>sample_3_no_bots</td>\n",
       "      <td>mylittlefinger</td>\n",
       "      <td>17963349</td>\n",
       "      <td>Two Green bee-eaters https://t.co/93L57wcAau</td>\n",
       "      <td>http://pbs.twimg.com/media/Dhv_DOPU8AEt0p9.jpg</td>\n",
       "      <td>Green bee-eaters</td>\n",
       "      <td>2</td>\n",
       "      <td>377.932913</td>\n",
       "      <td></td>\n",
       "      <td></td>\n",
       "      <td></td>\n",
       "    </tr>\n",
       "    <tr>\n",
       "      <td>1007654729835601922</td>\n",
       "      <td>0</td>\n",
       "      <td>sample_3_no_bots</td>\n",
       "      <td>SmarterTravel</td>\n",
       "      <td>14132853</td>\n",
       "      <td>A1: Beaches, of course! Some of our favorites ...</td>\n",
       "      <td>http://pbs.twimg.com/media/DfvoosQWAAIWvha.jpg</td>\n",
       "      <td>Beach sunset</td>\n",
       "      <td>2</td>\n",
       "      <td>153172.291787</td>\n",
       "      <td></td>\n",
       "      <td>sand track water ocean sunset nature body boat...</td>\n",
       "      <td>sand track water ocean sunset nature body boa...</td>\n",
       "    </tr>\n",
       "    <tr>\n",
       "      <td>991652298731479040</td>\n",
       "      <td>0</td>\n",
       "      <td>sample_3_no_bots</td>\n",
       "      <td>SmarterTravel</td>\n",
       "      <td>14132853</td>\n",
       "      <td>10 insanely affordable spring vacations you ca...</td>\n",
       "      <td>http://pbs.twimg.com/media/DcMOgmxW4AE6obq.jpg</td>\n",
       "      <td>Colorful Curacao</td>\n",
       "      <td>2</td>\n",
       "      <td>222.877526</td>\n",
       "      <td>Lüiiii</td>\n",
       "      <td>docked bridge harbor water people boat small l...</td>\n",
       "      <td>Lüiiii docked bridge harbor water people boat ...</td>\n",
       "    </tr>\n",
       "    <tr>\n",
       "      <td>1019745874325524480</td>\n",
       "      <td>0</td>\n",
       "      <td>sample_3_no_bots</td>\n",
       "      <td>EkaterinaTrayt</td>\n",
       "      <td>1583302122</td>\n",
       "      <td>Forest Lair: More Lily Flowers [Daily Photo #8...</td>\n",
       "      <td>http://pbs.twimg.com/media/DibdVX-WAAAWP54.jpg</td>\n",
       "      <td>bright orange lily</td>\n",
       "      <td>2</td>\n",
       "      <td>7440.283772</td>\n",
       "      <td></td>\n",
       "      <td>standing oranges plant sitting yellow blue ban...</td>\n",
       "      <td>standing oranges plant sitting yellow blue ba...</td>\n",
       "    </tr>\n",
       "    <tr>\n",
       "      <td>995769929004707841</td>\n",
       "      <td>0</td>\n",
       "      <td>sample_3_no_bots</td>\n",
       "      <td>nfagerlund</td>\n",
       "      <td>14228309</td>\n",
       "      <td>They are really curious about what happens in ...</td>\n",
       "      <td>http://pbs.twimg.com/media/DdGvdpLX4AIHG7O.jpg</td>\n",
       "      <td>Halla-cat and Annabel-cat, waiting on the land...</td>\n",
       "      <td>3</td>\n",
       "      <td>64.402967</td>\n",
       "      <td></td>\n",
       "      <td>building room brown standing dog sitting front...</td>\n",
       "      <td>building room brown standing dog sitting fron...</td>\n",
       "    </tr>\n",
       "  </tbody>\n",
       "</table>\n",
       "<p>1932 rows × 11 columns</p>\n",
       "</div>"
      ],
      "text/plain": [
       "                                      sample_name author_screenname  \\\n",
       "tweet_id            image_index                                       \n",
       "1006853723027640321 0                  initial_94     SmarterTravel   \n",
       "1006727264762060802 0                  initial_94     endless_lands   \n",
       "1006732469897269249 0                  initial_94       robpegoraro   \n",
       "1006722718111289344 0                  initial_94          CarRegNG   \n",
       "1006826871089221633 0                  initial_94            dmartw   \n",
       "...                                           ...               ...   \n",
       "1016686645523853312 0            sample_3_no_bots    mylittlefinger   \n",
       "1007654729835601922 0            sample_3_no_bots     SmarterTravel   \n",
       "991652298731479040  0            sample_3_no_bots     SmarterTravel   \n",
       "1019745874325524480 0            sample_3_no_bots    EkaterinaTrayt   \n",
       "995769929004707841  0            sample_3_no_bots        nfagerlund   \n",
       "\n",
       "                                      author_userid  \\\n",
       "tweet_id            image_index                       \n",
       "1006853723027640321 0                      14132853   \n",
       "1006727264762060802 0            739933308365111298   \n",
       "1006732469897269249 0                       7301572   \n",
       "1006722718111289344 0            817038404311465984   \n",
       "1006826871089221633 0                     148753316   \n",
       "...                                             ...   \n",
       "1016686645523853312 0                      17963349   \n",
       "1007654729835601922 0                      14132853   \n",
       "991652298731479040  0                      14132853   \n",
       "1019745874325524480 0                    1583302122   \n",
       "995769929004707841  0                      14228309   \n",
       "\n",
       "                                                                         post_text  \\\n",
       "tweet_id            image_index                                                      \n",
       "1006853723027640321 0            Seven ultra-useful carry-on bags: https://t.co...   \n",
       "1006727264762060802 0            Unfinished Mountain Principality https://t.co/...   \n",
       "1006732469897269249 0            Mr. @tynanwrites makes a friend at #CESAsia. h...   \n",
       "1006722718111289344 0            Requirements to Pass VIO Computerized Road Wor...   \n",
       "1006826871089221633 0            What's this about a #raccoon climbing a skyscr...   \n",
       "...                                                                            ...   \n",
       "1016686645523853312 0                 Two Green bee-eaters https://t.co/93L57wcAau   \n",
       "1007654729835601922 0            A1: Beaches, of course! Some of our favorites ...   \n",
       "991652298731479040  0            10 insanely affordable spring vacations you ca...   \n",
       "1019745874325524480 0            Forest Lair: More Lily Flowers [Daily Photo #8...   \n",
       "995769929004707841  0            They are really curious about what happens in ...   \n",
       "\n",
       "                                                                      image_url  \\\n",
       "tweet_id            image_index                                                   \n",
       "1006853723027640321 0            http://pbs.twimg.com/media/DfkQH34UcAE86J6.jpg   \n",
       "1006727264762060802 0            http://pbs.twimg.com/media/DfidHJbX4AA-tRf.jpg   \n",
       "1006732469897269249 0            http://pbs.twimg.com/media/DfihrWJX4AAYXZW.jpg   \n",
       "1006722718111289344 0            http://pbs.twimg.com/media/DfiY-gBW0AA8NO7.jpg   \n",
       "1006826871089221633 0            http://pbs.twimg.com/media/Dfj3s8UWsAEk1iq.jpg   \n",
       "...                                                                         ...   \n",
       "1016686645523853312 0            http://pbs.twimg.com/media/Dhv_DOPU8AEt0p9.jpg   \n",
       "1007654729835601922 0            http://pbs.twimg.com/media/DfvoosQWAAIWvha.jpg   \n",
       "991652298731479040  0            http://pbs.twimg.com/media/DcMOgmxW4AE6obq.jpg   \n",
       "1019745874325524480 0            http://pbs.twimg.com/media/DibdVX-WAAAWP54.jpg   \n",
       "995769929004707841  0            http://pbs.twimg.com/media/DdGvdpLX4AIHG7O.jpg   \n",
       "\n",
       "                                                                          alt_text  \\\n",
       "tweet_id            image_index                                                      \n",
       "1006853723027640321 0                                          Woman with carry-on   \n",
       "1006727264762060802 0                             Unfinished Mountain Principality   \n",
       "1006732469897269249 0                 Dan greets a robot carrying a tray of mints.   \n",
       "1006722718111289344 0            New Vehicle Reg | Change of ownership | Paper ...   \n",
       "1006826871089221633 0            Eric Cartman from South Park dressed as The Co...   \n",
       "...                                                                            ...   \n",
       "1016686645523853312 0                                             Green bee-eaters   \n",
       "1007654729835601922 0                                                 Beach sunset   \n",
       "991652298731479040  0                                             Colorful Curacao   \n",
       "1019745874325524480 0                                           bright orange lily   \n",
       "995769929004707841  0            Halla-cat and Annabel-cat, waiting on the land...   \n",
       "\n",
       "                                quality_rating     perplexity  \\\n",
       "tweet_id            image_index                                 \n",
       "1006853723027640321 0                        2      82.400109   \n",
       "1006727264762060802 0                        1     407.760584   \n",
       "1006732469897269249 0                        2     160.495615   \n",
       "1006722718111289344 0                        0     259.129327   \n",
       "1006826871089221633 0                        3     242.611818   \n",
       "...                                        ...            ...   \n",
       "1016686645523853312 0                        2     377.932913   \n",
       "1007654729835601922 0                        2  153172.291787   \n",
       "991652298731479040  0                        2     222.877526   \n",
       "1019745874325524480 0                        2    7440.283772   \n",
       "995769929004707841  0                        3      64.402967   \n",
       "\n",
       "                                                                              text  \\\n",
       "tweet_id            image_index                                                      \n",
       "1006853723027640321 0                                                                \n",
       "1006727264762060802 0                                              ulinter's șpire   \n",
       "1006732469897269249 0                                                                \n",
       "1006722718111289344 0            LAGOS STATE GOVERNMENT MINISTRY OF TRANSPORTAT...   \n",
       "1006826871089221633 0                                                                \n",
       "...                                                                            ...   \n",
       "1016686645523853312 0                                                                \n",
       "1007654729835601922 0                                                                \n",
       "991652298731479040  0                                                       Lüiiii   \n",
       "1019745874325524480 0                                                                \n",
       "995769929004707841  0                                                                \n",
       "\n",
       "                                                                              tags  \\\n",
       "tweet_id            image_index                                                      \n",
       "1006853723027640321 0            lady woman suitcase street red building city w...   \n",
       "1006727264762060802 0                                                   text clock   \n",
       "1006732469897269249 0            building standing young suit man woman people ...   \n",
       "1006722718111289344 0                                                      drawing   \n",
       "1006826871089221633 0                                             toy drawing doll   \n",
       "...                                                                            ...   \n",
       "1016686645523853312 0                                                                \n",
       "1007654729835601922 0            sand track water ocean sunset nature body boat...   \n",
       "991652298731479040  0            docked bridge harbor water people boat small l...   \n",
       "1019745874325524480 0            standing oranges plant sitting yellow blue ban...   \n",
       "995769929004707841  0            building room brown standing dog sitting front...   \n",
       "\n",
       "                                                                     text_and_tags  \n",
       "tweet_id            image_index                                                     \n",
       "1006853723027640321 0             lady woman suitcase street red building city ...  \n",
       "1006727264762060802 0                                   ulinter's șpire text clock  \n",
       "1006732469897269249 0             building standing young suit man woman people...  \n",
       "1006722718111289344 0            LAGOS STATE GOVERNMENT MINISTRY OF TRANSPORTAT...  \n",
       "1006826871089221633 0                                             toy drawing doll  \n",
       "...                                                                            ...  \n",
       "1016686645523853312 0                                                               \n",
       "1007654729835601922 0             sand track water ocean sunset nature body boa...  \n",
       "991652298731479040  0            Lüiiii docked bridge harbor water people boat ...  \n",
       "1019745874325524480 0             standing oranges plant sitting yellow blue ba...  \n",
       "995769929004707841  0             building room brown standing dog sitting fron...  \n",
       "\n",
       "[1932 rows x 11 columns]"
      ]
     },
     "execution_count": 73,
     "metadata": {},
     "output_type": "execute_result"
    }
   ],
   "source": [
    "import numpy as np\n",
    "image_tags_df = pd.read_csv('image_text_and_tags.csv')\n",
    "image_tags_df.set_index('image_url', inplace=True)\n",
    "image_tags_df.drop(['tweet_id'], axis=1, inplace=True)\n",
    "image_tags_df.fillna('', inplace=True)\n",
    "df_w_text = df.join(image_tags_df, on=['image_url'])\n",
    "df_w_text['text_and_tags'] = df_w_text[['text', 'tags']].apply(lambda x: ' '.join(x), axis=1)\n",
    "# df_w_text.drop(['text','tags'], axis=1, inplace=True)\n",
    "df_w_text.replace('', np.nan, inplace=True)\n",
    "df_w_text.dropna(subset=['text_and_tags', 'alt_text', 'post_text'], inplace=True)\n",
    "df_w_text['text'] = df_w_text['text'].fillna('')\n",
    "df_w_text['tags'] = df_w_text['tags'].fillna('')\n",
    "df_w_text"
   ]
  },
  {
   "cell_type": "markdown",
   "metadata": {},
   "source": [
    "### NLP: Text Similarity, Parts and Length of Alt Text \n",
    "\n",
    "From the image, alt text, and post text, we extract the following 10 features to be used by the classifier:\n",
    "\n",
    "1.       Cosine similarity between image tags and alt text\n",
    "\n",
    "2.       Similarity between post text and alt text\n",
    "\n",
    "3.       Similarity between text in image and alt text\n",
    "\n",
    "4.       (# of verbs) / (# of words) in alt text\n",
    "\n",
    "5.       (# of adjs) / (# of words) in alt text\n",
    "\n",
    "6.       (# of nouns) / (# of words) in alt text\n",
    "\n",
    "7.       Number of words in alt text\n",
    "\n",
    "8.       Number of characters in alt text\n",
    "\n",
    "9. The perplexity of alt text as returned by the GPT language model above.\n",
    "\n",
    "10. Whether or not text is present in the image (according to OCR).\n",
    "\n",
    "For each sample, we construct a corpus from its image tags, alt text, post text, and text in image to perform NLP.\n",
    "\n",
    "For feature 1, we first perform vectorization using term frequency (*tf*) for each corpus while removing stop words. Each corpus is for one sample and contains four strings: alt text, image tags, post text, and text in image (if there is no text in image, it is an empty string). URLs and unicode are removed from the corpus before vectorization. We then compute this cosine similarity using the *tf* vectors of alt text and image tags for each sample.\n",
    "\n",
    "We decided to use term frequency (*tf*) instead of *tfidf*. This is because we do not want to lower the weights of more frequently occurring words in this small corpus, since we actually want to see the same words occurring across the alt text and image tags, or across the alt text and post text. Since we filter out stop words when performing tokenization, we do not have to rely on *idf* to take care of frequently used words in English.\n",
    "\n",
    "For features 2 and 3, we use the spacy package to compute the document similarities between the post text and alt text, and between the text in image and alt text. The spacy package computes similarity based on word embeddings, which is useful as people may describe objects with different names. For example, the post text might be \"Look at my cute pet!\" and the alt text is \"This is my cat, Turing\"; spacy should represent \"cat\" and \"pet\" as fairly similar.\n",
    "\n",
    "For features 4, 5, and 6, we use the spacy package to calculate the verb, adjective, and noun counts in alt text.\n",
    "\n",
    "Features 7 and 8 are the character and word count of alt text and are easy to calculate.\n",
    "\n",
    "Features 9 is perplexity, described above. \n",
    "\n",
    "Feature 10 is a binary feature that indicates if text recogntion found any alt text in the image. We include this because the alt text and image text similarity feature can be 0 for two cases: either there is text and it is completely dissimilar, or there was n text to compare. Hopefully feature 10 helps the classifier distinguish between these two cases.\n",
    "\n",
    "We scale the values of features 6, 7, and 8 into the range of 0-1.  This is because the other features are all within the range of 0-1. To avoid the imbalance of features’ values which could cause problems in training the classifier, we perform this scaling."
   ]
  },
  {
   "cell_type": "code",
   "execution_count": 20,
   "metadata": {},
   "outputs": [],
   "source": [
    "import numpy as np\n",
    "from sklearn.feature_extraction.text import TfidfVectorizer\n",
    "from sklearn.feature_extraction.text import CountVectorizer\n",
    "from sklearn.metrics.pairwise import cosine_similarity\n",
    "import re\n",
    "import spacy\n",
    "from collections import Counter\n",
    "from sklearn import preprocessing"
   ]
  },
  {
   "cell_type": "code",
   "execution_count": 21,
   "metadata": {},
   "outputs": [
    {
     "name": "stdout",
     "output_type": "stream",
     "text": [
      "\u001b[38;5;2m✔ Download and installation successful\u001b[0m\n",
      "You can now load the model via spacy.load('en_core_web_lg')\n"
     ]
    }
   ],
   "source": [
    "import spacy.cli\n",
    "spacy.cli.download(\"en_core_web_lg\")"
   ]
  },
  {
   "cell_type": "code",
   "execution_count": 23,
   "metadata": {},
   "outputs": [],
   "source": [
    "def vectorize_text_tfidf(corpus):\n",
    "\n",
    "    vectorizer = TfidfVectorizer(stop_words='english')\n",
    "    X = vectorizer.fit_transform(corpus)\n",
    "\n",
    "    tokens = vectorizer.get_feature_names()\n",
    "\n",
    "    return X, tokens\n",
    "\n",
    "def vectorize_text_tf(corpus):\n",
    "    \n",
    "    vectorizer = CountVectorizer(stop_words='english')\n",
    "    X = vectorizer.fit_transform(corpus)\n",
    "    \n",
    "    tokens = vectorizer.get_feature_names()\n",
    "    \n",
    "    return X, tokens\n",
    "\n",
    "def create_features(alt_text, image_words_text, post_text, image_ocr, perplexity, scaler=None):\n",
    "    \n",
    "    nlp = spacy.load(\"en_core_web_lg\")\n",
    "    n_samples = len(alt_text)\n",
    "    features_list = []\n",
    "    \n",
    "    # form a corpus for each image-alt_text pair\n",
    "    for i in range(n_samples):\n",
    "        raw_corpus = [alt_text[i], image_words_text[i], post_text[i], image_ocr[i]]\n",
    "        \n",
    "        # for each doc string in raw_corpus, filter out unicode and URL\n",
    "        corpus = []\n",
    "        for corpus_str in raw_corpus:\n",
    "            if not corpus_str:\n",
    "              corpus.append('')\n",
    "              continue\n",
    "            stripunicode = re.sub(r\"[^\\x00-\\x7f]\",r\" \", corpus_str)\n",
    "            removeURL = re.sub(r\"https://\\S+/[A-Za-z0-9]{10}\", \" \", stripunicode)\n",
    "            removeURL1 = re.sub(r\"http://\\S+/[A-Za-z0-9]{10}\", \" \", removeURL)\n",
    "            corpus.append(removeURL1)\n",
    "        \n",
    "        # get tf sparse matrix and tokens list\n",
    "        X, tokens = vectorize_text_tf(corpus)\n",
    "        alt_doc = nlp(corpus[0])\n",
    "        img_tags_doc = nlp(corpus[1])\n",
    "        post_doc = nlp(corpus[2])\n",
    "        image_text_doc =  nlp(corpus[3])\n",
    "\n",
    "        # compute cosine similarities\n",
    "        alt_image_similarity = cosine_similarity(X[0,:], X[1,:])[0,0]\n",
    "        alt_post_similarity = 0\n",
    "        alt_ocr_similarity = 0\n",
    "        if alt_doc.vector_norm:\n",
    "          alt_post_similarity = alt_doc.similarity(post_doc) if post_doc.vector_norm else 0\n",
    "          alt_ocr_similarity = alt_doc.similarity(image_text_doc) if image_text_doc.vector_norm else 0\n",
    "\n",
    "        # get verbs, adjs, nouns, word_count, char_count of alt text\n",
    "        word_list = corpus[0].split()\n",
    "        word_count = len(word_list)\n",
    "        text_in_img_bin = 1 if (len(corpus[3]) > 0) and (not corpus[3].isspace()) else 0\n",
    "        doc = nlp(corpus[0])\n",
    "        c = Counter([token.pos_ for token in doc])\n",
    "        verbs = c['VERB']/word_count\n",
    "        adjs = c['ADJ']/word_count\n",
    "        nouns = c['NOUN']/word_count\n",
    "        char_count = len(''.join(word_list))\n",
    "        features_list.append(np.array([alt_image_similarity, alt_post_similarity, alt_ocr_similarity, verbs, adjs, nouns, word_count, char_count, perplexity[i], text_in_img_bin]))\n",
    "        \n",
    "    # scaling the word_count, char_count, and perplexity to the range of 0-1\n",
    "    features_array = np.array(features_list)\n",
    "    if not scaler:\n",
    "      scaler = preprocessing.MinMaxScaler()\n",
    "      scaler.fit(features_array[:,[6,7,8]])\n",
    "    X_train_minmax = scaler.transform(features_array[:,[6,7,8]])\n",
    "    features_array[:,[6,7,8]] = X_train_minmax\n",
    "    \n",
    "    return features_array, scaler"
   ]
  },
  {
   "cell_type": "code",
   "execution_count": 109,
   "metadata": {},
   "outputs": [],
   "source": [
    "# load alt text, post text, and image words and text\n",
    "alt_text = df_w_text['alt_text']\n",
    "image_words_text = df_w_text['tags']\n",
    "post_text = df_w_text['post_text']\n",
    "image_ocr = df_w_text['text']\n",
    "\n",
    "# if any have perplexity = None, we will set that to the highest perplexity now,\n",
    "# as 1-word alt text is not a good example of well-structured sentances,\n",
    "# which is essentially what we are attempting to measure here.\n",
    "perplexity = df_w_text['perplexity'].fillna(np.max(df_w_text['perplexity']))\n",
    "\n",
    "# create features, saving the min-max scaler in case we want to scale future examples\n",
    "idx_array = df_w_text.index.to_list() # to keep track of samples later\n",
    "features_array, scaler = create_features(alt_text, image_words_text, post_text, image_ocr, perplexity)\n",
    "    \n",
    "# save features array to disk so they can be easily reloaded.\n",
    "np.savetxt('features.txt', features_array, fmt=\"%.14f\")\n",
    "np.savetxt('labels_multiclass.txt', df_w_text['quality_rating'], fmt=\"%d\")"
   ]
  },
  {
   "cell_type": "markdown",
   "metadata": {},
   "source": [
    "## Classification Model Selection and Training\n",
    "\n",
    "We designed five classification models to perform model selection: Logistic Regression, SVM (linear kernel), SVM (poly kernel), SVM (rbf kernel), and Random Forest. The first two are linear classifiers while the last three are non-linear classifiers, since we want to try both linear and non-linear models. Our classifier is a multi-class classifier with four class labels (0, 1, 2, 3), each corresponding to a quality rating of alt text.\n",
    "\n",
    "We first split our dataset into a train set and a test set in a 4:1 ratio with random shuffling. For each of the five models, we use the train set to perform 5-fold cross validation and obtain the average accuracy of the five folds. We then compare the average CV accuracy among the five models and select the model with the highest CV accuracy as our classification model.\n",
    "\n",
    "We then train the selected model using the full train set, and evaluate the trained model using the test set to obtain the test accuracy.\n",
    "\n",
    "For Logistic Regression, since we are dealing with a multiclass problem, we choose the ‘lbfgs’ solver to handle multinomial loss.\n",
    "\n",
    "For SVM, we use linear, poly, and rbf kernels for three SVM models respectively. For poly kernel, we use the default degree 3. We set the kernel coefficient gamma to 'auto', which uses 1/n_features.\n",
    "\n",
    "For Random Forest, we initially use the number of trees (n_estimators) 100, for model selection. This parameter is further tuned later."
   ]
  },
  {
   "cell_type": "code",
   "execution_count": 77,
   "metadata": {},
   "outputs": [],
   "source": [
    "from sklearn.linear_model import LogisticRegression\n",
    "from sklearn.svm import SVC\n",
    "from sklearn.ensemble import RandomForestClassifier, RandomForestRegressor\n",
    "from sklearn.model_selection import train_test_split\n",
    "from sklearn.model_selection import cross_validate, cross_val_score\n",
    "from sklearn.metrics import accuracy_score, confusion_matrix, classification_report, mean_squared_error, cohen_kappa_score"
   ]
  },
  {
   "cell_type": "code",
   "execution_count": 78,
   "metadata": {},
   "outputs": [],
   "source": [
    "def logistic_regression():\n",
    "    \n",
    "    logreg = LogisticRegression(\n",
    "        random_state=0,\n",
    "        solver='lbfgs',\n",
    "        multi_class='multinomial')\n",
    "    \n",
    "    return logreg\n",
    "    \n",
    "def logistic_regression_fit(X, y):\n",
    "    \n",
    "    logreg = logistic_regression()\n",
    "    \n",
    "    logreg.fit(X, y)\n",
    "    \n",
    "    return logreg\n",
    "\n",
    "def support_vector(kernel):\n",
    "    # kernel: 'linear', 'poly', or 'rbf'\n",
    "    # use default degree for 'poly' kernel: (default=3)\n",
    "    \n",
    "    svc = SVC(random_state=0, gamma='auto', kernel=kernel)\n",
    "    \n",
    "    return svc\n",
    "\n",
    "def support_vector_fit(X, y, kernel):\n",
    "    \n",
    "    svc = support_vector(kernel)\n",
    "    \n",
    "    svc.fit(X, y)\n",
    "    \n",
    "    return svc\n",
    "\n",
    "def random_forest(n_estimators):\n",
    "\n",
    "    rf = RandomForestClassifier(n_estimators=n_estimators, random_state=0)\n",
    "\n",
    "    return rf\n",
    "\n",
    "def random_forest_fit(X, y, n_estimators):\n",
    "\n",
    "    rf = random_forest(n_estimators)\n",
    "\n",
    "    rf.fit(X, y)\n",
    "\n",
    "    return rf\n",
    "\n",
    "def cross_validation(estimator, X, y, cv):\n",
    "    \n",
    "    scores = cross_validate(estimator, X, y, cv=cv, scoring='accuracy')\n",
    "    \n",
    "    return scores['test_score']\n",
    "    "
   ]
  },
  {
   "cell_type": "code",
   "execution_count": 79,
   "metadata": {},
   "outputs": [
    {
     "name": "stdout",
     "output_type": "stream",
     "text": [
      "X shape: (1932, 10)\n",
      "y shape: (1932,)\n",
      "Logistic Regression: CV average accuracy = 0.573462783171521 ; CV fold's accuracy: [0.61165049 0.57281553 0.55016181 0.55339806 0.57928803]\n",
      "SVC (linear kernel): CV average accuracy = 0.5786407766990291 ; CV fold's accuracy: [0.59546926 0.60841424 0.5631068  0.55016181 0.57605178]\n",
      "SVC (poly kernel): CV average accuracy = 0.29514563106796116 ; CV fold's accuracy: [0.29449838 0.29449838 0.29449838 0.29449838 0.29773463]\n",
      "SVC (rbf kernel): CV average accuracy = 0.5812297734627832 ; CV fold's accuracy: [0.61488673 0.57605178 0.57928803 0.55016181 0.58576052]\n",
      "Random Forest: CV average accuracy = 0.7372168284789644 ; CV fold's accuracy: [0.76699029 0.73786408 0.73462783 0.73462783 0.71197411]\n"
     ]
    }
   ],
   "source": [
    "# load features and labels into np.array\n",
    "X = np.loadtxt(\"features.txt\")\n",
    "y = np.loadtxt(\"labels_multiclass.txt\")\n",
    "print(\"X shape:\", X.shape)\n",
    "print(\"y shape:\", y.shape)\n",
    "    \n",
    "# split train set and test set\n",
    "X_train, X_test, y_train, y_test, idx_train, idx_test = train_test_split(X, y, idx_array, test_size=0.2, random_state=42)\n",
    "\n",
    "# set up 5 models\n",
    "models = {\n",
    "    'Logistic Regression': logistic_regression(),\n",
    "    'SVC (linear kernel)': support_vector('linear'),\n",
    "    'SVC (poly kernel)': support_vector('poly'),\n",
    "    'SVC (rbf kernel)': support_vector('rbf'),\n",
    "    'Random Forest': random_forest(100)\n",
    "}\n",
    "\n",
    "for name, estimator in models.items():\n",
    "  # perform k-fold cross validation for each model\n",
    "  cv_accuracy = cross_validation(estimator, X_train, y_train, 5)\n",
    "  print(f\"{name}: CV average accuracy =\", np.mean(cv_accuracy), \"; CV fold's accuracy:\", cv_accuracy)"
   ]
  },
  {
   "cell_type": "markdown",
   "metadata": {},
   "source": [
    "The results are summarized in the following table:\n",
    "\n",
    "| Model | Logistic Regression | SVM (linear kernel) | SVM (poly kernel) | SVM (rbf kernel) | Random Forest |\n",
    "| --- | --- | --- | --- | --- | --- |\n",
    "| CV Accuracy | 58.0% | 58.4% | 29.5% | 56.8% | **74.3%** |\n",
    "\n",
    "Among the five models, the ensemble, non-linear model Random Forest performed the best. Thus, we chose Random Forest as our classifier. SVM (linear), Logistic Regression, and SVM (rbf) rank at the 2nd, 3rd, and 4th places respectively, and their CV accuracy is substantially lower than Random Forest’s. SVM (poly) performed the worst."
   ]
  },
  {
   "cell_type": "markdown",
   "metadata": {},
   "source": [
    "## Model Parameter Tuning\n",
    "\n",
    "We have chosen Random Forest as our best classifier. We now further tune its model parameter: n_estimators. We perform cross validation for a range of n_estimators: 60-200, and then compare their CV accuracy. "
   ]
  },
  {
   "cell_type": "code",
   "execution_count": 80,
   "metadata": {},
   "outputs": [
    {
     "name": "stdout",
     "output_type": "stream",
     "text": [
      "n_estimators \t CV average accuracy \t test accuracy\n",
      "60 \t\t 0.7359223300970874 \t 0.751937984496124\n",
      "65 \t\t 0.7411003236245954 \t 0.7571059431524548\n",
      "70 \t\t 0.7423948220064724 \t 0.751937984496124\n",
      "75 \t\t 0.7391585760517799 \t 0.7467700258397932\n",
      "80 \t\t 0.7423948220064724 \t 0.751937984496124\n",
      "85 \t\t 0.7443365695792881 \t 0.7493540051679587\n",
      "90 \t\t 0.7430420711974111 \t 0.751937984496124\n",
      "95 \t\t 0.7391585760517799 \t 0.7441860465116279\n",
      "100 \t\t 0.7372168284789644 \t 0.7441860465116279\n",
      "105 \t\t 0.7359223300970874 \t 0.7441860465116279\n",
      "110 \t\t 0.7372168284789644 \t 0.7441860465116279\n",
      "115 \t\t 0.7372168284789644 \t 0.7441860465116279\n",
      "120 \t\t 0.736569579288026 \t 0.7467700258397932\n",
      "125 \t\t 0.7346278317152104 \t 0.7467700258397932\n",
      "130 \t\t 0.7352750809061489 \t 0.7441860465116279\n",
      "135 \t\t 0.7352750809061488 \t 0.7467700258397932\n",
      "140 \t\t 0.7352750809061489 \t 0.7441860465116279\n",
      "145 \t\t 0.7359223300970874 \t 0.7467700258397932\n",
      "150 \t\t 0.7365695792880259 \t 0.7467700258397932\n",
      "155 \t\t 0.7372168284789644 \t 0.751937984496124\n",
      "160 \t\t 0.73915857605178 \t 0.751937984496124\n",
      "165 \t\t 0.7378640776699028 \t 0.7493540051679587\n",
      "170 \t\t 0.7372168284789644 \t 0.751937984496124\n",
      "175 \t\t 0.7352750809061489 \t 0.7571059431524548\n",
      "180 \t\t 0.7320388349514564 \t 0.7571059431524548\n",
      "185 \t\t 0.7333333333333333 \t 0.7571059431524548\n",
      "190 \t\t 0.7326860841423948 \t 0.7545219638242894\n",
      "195 \t\t 0.7333333333333333 \t 0.751937984496124\n",
      "200 \t\t 0.7333333333333333 \t 0.7493540051679587\n"
     ]
    },
    {
     "data": {
      "image/png": "[encoded data removed]",
      "text/plain": [
       "<Figure size 432x288 with 1 Axes>"
      ]
     },
     "metadata": {
      "needs_background": "light"
     },
     "output_type": "display_data"
    }
   ],
   "source": [
    "# perform cross validation for a range of n_estimators: 60-200\n",
    "esitmator_values = []\n",
    "cv_values = []\n",
    "print(\"n_estimators \\t CV average accuracy \\t test accuracy\")\n",
    "\n",
    "for n_estimators in range(60, 201, 5):\n",
    "    # perform k-fold cross validation for Random Forest model\n",
    "    estimator = random_forest(n_estimators)\n",
    "    cv_accuracy = cross_validation(estimator, X_train, y_train, 5)\n",
    "\n",
    "    # train the Random Forest model using the train set\n",
    "    clf5 = random_forest_fit(X_train, y_train, n_estimators)\n",
    "\n",
    "    # evaluate the Random Forest model using the test set\n",
    "    y_pred = clf5.predict(X_test)\n",
    "    test_accuracy = accuracy_score(y_test, y_pred)\n",
    "\n",
    "    print(n_estimators, \"\\t\\t\", np.mean(cv_accuracy), \"\\t\", test_accuracy)\n",
    "\n",
    "    esitmator_values.append(n_estimators)\n",
    "    cv_values.append(np.mean(cv_accuracy))\n",
    "\n",
    "plt.figure()\n",
    "plt.plot(esitmator_values, cv_values)\n",
    "plt.ylim(0.736, 0.752)\n",
    "plt.xlabel(\"n_estimators\")\n",
    "plt.ylabel(\"accuracy\")\n",
    "plt.title(\"CV accuracy with various n_estimators\")\n",
    "\n",
    "plt.show()"
   ]
  },
  {
   "cell_type": "markdown",
   "metadata": {},
   "source": [
    "In the CV accuracy curve, there is a peak around the range of 115-125 with slight fluctuations. We choose the middle point of this peak as our optimal parameter. So the optimal n_estimators = 120. We can then use this value to train our Random Forest model."
   ]
  },
  {
   "cell_type": "markdown",
   "metadata": {},
   "source": [
    "## Training and Evaluating the Chosen Classifier\n",
    "\n",
    "Let's train the Random Forest model with the tuned parameter using the full train set, and evaluate the trained model using the test set."
   ]
  },
  {
   "cell_type": "code",
   "execution_count": 82,
   "metadata": {},
   "outputs": [
    {
     "name": "stdout",
     "output_type": "stream",
     "text": [
      "Random Forest: test accuracy = 0.7467700258397932\n"
     ]
    }
   ],
   "source": [
    "chosen_clf = random_forest_fit(X_train, y_train, 120)\n",
    "y_pred = chosen_clf.predict(X_test)\n",
    "test_accuracy = accuracy_score(y_test, y_pred)\n",
    "print(\"Random Forest: test accuracy =\", test_accuracy)"
   ]
  },
  {
   "cell_type": "markdown",
   "metadata": {},
   "source": [
    "### Accuracy, Precision, Recall, and F1-Score\n",
    "\n",
    "The following is the full classification report for our Random Forest model using the test set:"
   ]
  },
  {
   "cell_type": "code",
   "execution_count": 83,
   "metadata": {},
   "outputs": [
    {
     "name": "stdout",
     "output_type": "stream",
     "text": [
      "              precision    recall  f1-score   support\n",
      "\n",
      "  Irrelevant       0.91      0.85      0.88        68\n",
      "    Relevant       0.63      0.63      0.63        87\n",
      "        Good       0.70      0.69      0.69       127\n",
      "       Great       0.80      0.85      0.82       105\n",
      "\n",
      "    accuracy                           0.75       387\n",
      "   macro avg       0.76      0.75      0.76       387\n",
      "weighted avg       0.75      0.75      0.75       387\n",
      "\n"
     ]
    }
   ],
   "source": [
    "class_names = ['Irrelevant', 'Relevant', 'Good', 'Great']\n",
    "print(classification_report(y_test, y_pred, target_names=class_names))"
   ]
  },
  {
   "cell_type": "markdown",
   "metadata": {},
   "source": [
    "We can see the classes Irrelevant (0) and Great (3) have higher precision, recall, and f1-score than the classes Relevant (1) and Good (2). This indicates the middle classes (levels 1 and 2) perform worse than the upper and lower classes, as it is harder to distinguish between them."
   ]
  },
  {
   "cell_type": "markdown",
   "metadata": {},
   "source": [
    "### Confusion Matrix\n",
    "\n",
    "Let's further examine this with the confusion matrix of classification result of our Random Forest model: "
   ]
  },
  {
   "cell_type": "code",
   "execution_count": 84,
   "metadata": {},
   "outputs": [
    {
     "data": {
      "image/png": "[encoded data removed]",
      "text/plain": [
       "<Figure size 432x288 with 2 Axes>"
      ]
     },
     "metadata": {
      "needs_background": "light"
     },
     "output_type": "display_data"
    }
   ],
   "source": [
    "from sklearn.metrics import plot_confusion_matrix\n",
    "plot_confusion_matrix(chosen_clf, X_test, y_test,\n",
    "                                 display_labels=class_names,\n",
    "                                 cmap=plt.cm.Blues,\n",
    "                                 normalize='true');\n",
    "plt.grid(None)"
   ]
  },
  {
   "cell_type": "markdown",
   "metadata": {},
   "source": [
    "The light corners indicate that most misclassification is happening just up or down one level, not from one end of the scale (0) to another (3). We see the most misclassification between the levels 1 and 2, the middle classes. Our hypothesis is that these classes are not easily distinguished, even for human raters, and therefore perhaps the rubric and rating scale needs to be adjusted. Alternatively, there might be other features we can examine to help distinguish between those cases."
   ]
  },
  {
   "cell_type": "markdown",
   "metadata": {},
   "source": [
    "### Inter-Rater Reliability\n",
    "When two or more people rate or label samples from a dataset, it can be useful to see how well they agree. This can be computed using a metric know as inter-rater reliability, and one version of it involves computing Cohen's Kappa \\[6\\]. In a binary classification task, you would compute this just using whether or not the raters agreed. As this is an ordinal rating scale, we can use weighted Cohen's Kappa, which measures the magnitude of disagreement.\n",
    "\n",
    "For reference, when two humans applied the same rubric to this dataset, they recieved a weighted Cohen's Kappa of 0.76, which can be interpreted as substantial agreement.\n",
    "\n",
    "We can think of our classifier as a rater, and see what inter-rater reliability it would recieve if compared to a human rater."
   ]
  },
  {
   "cell_type": "code",
   "execution_count": 85,
   "metadata": {},
   "outputs": [
    {
     "name": "stdout",
     "output_type": "stream",
     "text": [
      "Weighted Cohen's Kappa = 0.7557294834570849\n"
     ]
    }
   ],
   "source": [
    "from sklearn.metrics import cohen_kappa_score\n",
    "print(\"Weighted Cohen's Kappa =\", cohen_kappa_score(y_test, y_pred, weights='linear'))"
   ]
  },
  {
   "cell_type": "markdown",
   "metadata": {},
   "source": [
    "## Feature Importance\n",
    "\n",
    "Let's look at the current feature importance ranking in our Random Forest classifier:"
   ]
  },
  {
   "cell_type": "code",
   "execution_count": 87,
   "metadata": {},
   "outputs": [
    {
     "data": {
      "image/png": "[encoded data removed]",
      "text/plain": [
       "<Figure size 864x288 with 1 Axes>"
      ]
     },
     "metadata": {
      "needs_background": "light"
     },
     "output_type": "display_data"
    }
   ],
   "source": [
    "feature_names = ['alt_tags_sim', 'alt_post_sim', 'alt_ocr_sim', 'verbs', 'adjs', 'nouns', 'word_count', 'char_count', 'perplexity','text_present']\n",
    "importances = pd.DataFrame(chosen_clf.feature_importances_,\n",
    "                                   index = feature_names,\n",
    "                                   columns=['importance'])\n",
    "order = importances['importance'].sort_values(ascending=False)\n",
    "plt.figure(figsize=(12,4))\n",
    "plt.title(\"Feature importances\")\n",
    "plt.bar(range(X_train.shape[1]), importances.loc[order.index]['importance'],\n",
    "       color=\"r\", align=\"center\")\n",
    "plt.xticks(range(X_train.shape[1]), order.index)\n",
    "plt.xlim([-1, X.shape[1]])\n",
    "plt.show()"
   ]
  },
  {
   "cell_type": "markdown",
   "metadata": {},
   "source": [
    "Suprisingly, the similarity between the post text and the alt text is the highest feature, with almost 25% of the importance. Next we have character count, and word count is #4, both are proxies for length. It is surprising that the model finds value in both of these, as we would expect the character count to also be a good indicator of length. Perplexity ranks high as a feature as well as the percent of nouns, these are proxies for structure and coverage of objects in the alt text. All other features fall below 10% feature importance but still add some value. As not all examples contain text, it does not surprise us that those features rank low overall."
   ]
  },
  {
   "cell_type": "markdown",
   "metadata": {},
   "source": [
    "## Examining Misclassifications\n",
    "To help diagnose where our classifier fails, let's investigate the misclassifications. First we will examine the most egregious case where the classifier was on the entire wrong side of the scale."
   ]
  },
  {
   "cell_type": "code",
   "execution_count": 88,
   "metadata": {},
   "outputs": [
    {
     "data": {
      "text/html": [
       "<div>\n",
       "<style scoped>\n",
       "    .dataframe tbody tr th:only-of-type {\n",
       "        vertical-align: middle;\n",
       "    }\n",
       "\n",
       "    .dataframe tbody tr th {\n",
       "        vertical-align: top;\n",
       "    }\n",
       "\n",
       "    .dataframe thead th {\n",
       "        text-align: right;\n",
       "    }\n",
       "</style>\n",
       "<table border=\"1\" class=\"dataframe\">\n",
       "  <thead>\n",
       "    <tr style=\"text-align: right;\">\n",
       "      <th></th>\n",
       "      <th></th>\n",
       "      <th>sample_name</th>\n",
       "      <th>author_screenname</th>\n",
       "      <th>author_userid</th>\n",
       "      <th>post_text</th>\n",
       "      <th>image_url</th>\n",
       "      <th>alt_text</th>\n",
       "      <th>quality_rating</th>\n",
       "      <th>perplexity</th>\n",
       "      <th>text</th>\n",
       "      <th>tags</th>\n",
       "      <th>text_and_tags</th>\n",
       "    </tr>\n",
       "    <tr>\n",
       "      <th>tweet_id</th>\n",
       "      <th>image_index</th>\n",
       "      <th></th>\n",
       "      <th></th>\n",
       "      <th></th>\n",
       "      <th></th>\n",
       "      <th></th>\n",
       "      <th></th>\n",
       "      <th></th>\n",
       "      <th></th>\n",
       "      <th></th>\n",
       "      <th></th>\n",
       "      <th></th>\n",
       "    </tr>\n",
       "  </thead>\n",
       "  <tbody>\n",
       "    <tr>\n",
       "      <td>1031879309273849856</td>\n",
       "      <td>0</td>\n",
       "      <td>sample2_bots_included</td>\n",
       "      <td>linkfinds</td>\n",
       "      <td>745712201093255168</td>\n",
       "      <td>@Shadowchaos5150 🎵 DOO DOO DOO DOO! ♩ https://...</td>\n",
       "      <td>http://pbs.twimg.com/media/DlH4wyIW4AE-aft.png</td>\n",
       "      <td>RT @chardennz: STAN TWITTER DO YOU KNOW THIS F...</td>\n",
       "      <td>0</td>\n",
       "      <td>835.003625</td>\n",
       "      <td></td>\n",
       "      <td>man</td>\n",
       "      <td>man</td>\n",
       "    </tr>\n",
       "  </tbody>\n",
       "</table>\n",
       "</div>"
      ],
      "text/plain": [
       "                                           sample_name author_screenname  \\\n",
       "tweet_id            image_index                                            \n",
       "1031879309273849856 0            sample2_bots_included         linkfinds   \n",
       "\n",
       "                                      author_userid  \\\n",
       "tweet_id            image_index                       \n",
       "1031879309273849856 0            745712201093255168   \n",
       "\n",
       "                                                                         post_text  \\\n",
       "tweet_id            image_index                                                      \n",
       "1031879309273849856 0            @Shadowchaos5150 🎵 DOO DOO DOO DOO! ♩ https://...   \n",
       "\n",
       "                                                                      image_url  \\\n",
       "tweet_id            image_index                                                   \n",
       "1031879309273849856 0            http://pbs.twimg.com/media/DlH4wyIW4AE-aft.png   \n",
       "\n",
       "                                                                          alt_text  \\\n",
       "tweet_id            image_index                                                      \n",
       "1031879309273849856 0            RT @chardennz: STAN TWITTER DO YOU KNOW THIS F...   \n",
       "\n",
       "                                quality_rating  perplexity text tags  \\\n",
       "tweet_id            image_index                                        \n",
       "1031879309273849856 0                        0  835.003625       man   \n",
       "\n",
       "                                text_and_tags  \n",
       "tweet_id            image_index                \n",
       "1031879309273849856 0                     man  "
      ]
     },
     "execution_count": 88,
     "metadata": {},
     "output_type": "execute_result"
    }
   ],
   "source": [
    "errors = abs((y_test - y_pred).astype(int)) # how far off the classifier was\n",
    "idxs = pd.Index(np.array(idx_test)[(errors == 3)])\n",
    "rows = df_w_text.loc[idxs]\n",
    "rows"
   ]
  },
  {
   "cell_type": "markdown",
   "metadata": {},
   "source": [
    "Ok, there is only one example here. Let's examine the image, post text, and alt text"
   ]
  },
  {
   "cell_type": "code",
   "execution_count": 89,
   "metadata": {},
   "outputs": [
    {
     "data": {
      "text/html": [
       "<img src=\"http://pbs.twimg.com/media/DlH4wyIW4AE-aft.png\"/>"
      ],
      "text/plain": [
       "<IPython.core.display.Image object>"
      ]
     },
     "execution_count": 89,
     "metadata": {},
     "output_type": "execute_result"
    }
   ],
   "source": [
    "Image(url=rows.loc[idxs[0], 'image_url'])"
   ]
  },
  {
   "cell_type": "markdown",
   "metadata": {},
   "source": [
    "Ah, there is nothing here because the tweet has been deleted. That lead to no tags or text being found in the image, which could be one reason it was not rated highly.\n",
    "\n",
    "Let's move on to images where the classifier was only two levels off."
   ]
  },
  {
   "cell_type": "code",
   "execution_count": 90,
   "metadata": {},
   "outputs": [
    {
     "data": {
      "text/html": [
       "<div>\n",
       "<style scoped>\n",
       "    .dataframe tbody tr th:only-of-type {\n",
       "        vertical-align: middle;\n",
       "    }\n",
       "\n",
       "    .dataframe tbody tr th {\n",
       "        vertical-align: top;\n",
       "    }\n",
       "\n",
       "    .dataframe thead th {\n",
       "        text-align: right;\n",
       "    }\n",
       "</style>\n",
       "<table border=\"1\" class=\"dataframe\">\n",
       "  <thead>\n",
       "    <tr style=\"text-align: right;\">\n",
       "      <th></th>\n",
       "      <th></th>\n",
       "      <th>image_url</th>\n",
       "      <th>alt_text</th>\n",
       "      <th>text</th>\n",
       "      <th>tags</th>\n",
       "      <th>perplexity</th>\n",
       "      <th>quality_rating</th>\n",
       "    </tr>\n",
       "    <tr>\n",
       "      <th>tweet_id</th>\n",
       "      <th>image_index</th>\n",
       "      <th></th>\n",
       "      <th></th>\n",
       "      <th></th>\n",
       "      <th></th>\n",
       "      <th></th>\n",
       "      <th></th>\n",
       "    </tr>\n",
       "  </thead>\n",
       "  <tbody>\n",
       "    <tr>\n",
       "      <td>1039885474763026437</td>\n",
       "      <td>0</td>\n",
       "      <td>http://pbs.twimg.com/media/Dm5qPlYWsAA-vui.jpg</td>\n",
       "      <td>Lapis lazuli and lemon amber earrings</td>\n",
       "      <td></td>\n",
       "      <td>floor lying man board sitting necklace people ...</td>\n",
       "      <td>411.244107</td>\n",
       "      <td>3</td>\n",
       "    </tr>\n",
       "    <tr>\n",
       "      <td>827249145576517632</td>\n",
       "      <td>0</td>\n",
       "      <td>http://pbs.twimg.com/media/C3r6RHMUYAAP0zj.jpg</td>\n",
       "      <td>level rod in foreground, man on level gun in t...</td>\n",
       "      <td>746 5 443 2 1</td>\n",
       "      <td>dirt water people sign pole covered sitting sl...</td>\n",
       "      <td>515.496267</td>\n",
       "      <td>1</td>\n",
       "    </tr>\n",
       "    <tr>\n",
       "      <td>1031931873868439554</td>\n",
       "      <td>0</td>\n",
       "      <td>http://pbs.twimg.com/media/DlIokPuV4AANaO7.jpg</td>\n",
       "      <td>JESSIE  TEAM ROCKET - POKEMON - JinxKittie Cos...</td>\n",
       "      <td>JINXKITTIE COSPLAY</td>\n",
       "      <td>hat woman water red board yellow white dressed...</td>\n",
       "      <td>452.865576</td>\n",
       "      <td>1</td>\n",
       "    </tr>\n",
       "    <tr>\n",
       "      <td>772130650312802306</td>\n",
       "      <td>0</td>\n",
       "      <td>http://pbs.twimg.com/media/Crcou6wXEAAF32p.jpg</td>\n",
       "      <td>A cross roads store, bar, \"juke joint,\" and ga...</td>\n",
       "      <td>JAX BEST BEER AN TOWN REGAL Prince OF Dec' vs ...</td>\n",
       "      <td>store standing fire hydrant man front parked s...</td>\n",
       "      <td>137.537459</td>\n",
       "      <td>1</td>\n",
       "    </tr>\n",
       "    <tr>\n",
       "      <td>1031634709363810307</td>\n",
       "      <td>0</td>\n",
       "      <td>http://pbs.twimg.com/media/DlEaSbAXcAAp7x4.jpg</td>\n",
       "      <td>Judge Dredd  on Lawmaster bike driving thru fire.</td>\n",
       "      <td></td>\n",
       "      <td>large cake room lit stove sitting fire pizza k...</td>\n",
       "      <td>2578.121822</td>\n",
       "      <td>3</td>\n",
       "    </tr>\n",
       "    <tr>\n",
       "      <td>1007076180527341568</td>\n",
       "      <td>0</td>\n",
       "      <td>http://pbs.twimg.com/media/DfnacrbU0AAZxgm.png</td>\n",
       "      <td>@ibogost Members only. https://t.co/aWgBWasroV</td>\n",
       "      <td></td>\n",
       "      <td>kite colorful various different Toy thing food...</td>\n",
       "      <td>1165.995835</td>\n",
       "      <td>0</td>\n",
       "    </tr>\n",
       "    <tr>\n",
       "      <td>1031986392182779905</td>\n",
       "      <td>0</td>\n",
       "      <td>http://pbs.twimg.com/media/DlJaJ0zWsAE291J.jpg</td>\n",
       "      <td>RT @RetroWDW: Backstage Magic #RetroWDWPhotos ...</td>\n",
       "      <td></td>\n",
       "      <td>people computer room office bunch colorful cov...</td>\n",
       "      <td>494.280213</td>\n",
       "      <td>0</td>\n",
       "    </tr>\n",
       "    <tr>\n",
       "      <td>1014381132639555584</td>\n",
       "      <td>0</td>\n",
       "      <td>http://pbs.twimg.com/media/DhPODPRWsAA6OQl.jpg</td>\n",
       "      <td>Leafbird hiding in leaves.</td>\n",
       "      <td></td>\n",
       "      <td></td>\n",
       "      <td>211.850075</td>\n",
       "      <td>3</td>\n",
       "    </tr>\n",
       "    <tr>\n",
       "      <td>1018107618487951361</td>\n",
       "      <td>0</td>\n",
       "      <td>http://pbs.twimg.com/media/DiELev0XkAEnQlY.jpg</td>\n",
       "      <td>2000000km</td>\n",
       "      <td>Pilot Earn 1,000,000 km across the distance of...</td>\n",
       "      <td></td>\n",
       "      <td>300.054962</td>\n",
       "      <td>2</td>\n",
       "    </tr>\n",
       "    <tr>\n",
       "      <td>742606443422068736</td>\n",
       "      <td>0</td>\n",
       "      <td>http://pbs.twimg.com/media/Ck5En4FUUAMfMzq.jpg</td>\n",
       "      <td>Filling station and garage at Pie Town, New Me...</td>\n",
       "      <td></td>\n",
       "      <td>people water street small large red building c...</td>\n",
       "      <td>370.354148</td>\n",
       "      <td>1</td>\n",
       "    </tr>\n",
       "  </tbody>\n",
       "</table>\n",
       "</div>"
      ],
      "text/plain": [
       "                                                                      image_url  \\\n",
       "tweet_id            image_index                                                   \n",
       "1039885474763026437 0            http://pbs.twimg.com/media/Dm5qPlYWsAA-vui.jpg   \n",
       "827249145576517632  0            http://pbs.twimg.com/media/C3r6RHMUYAAP0zj.jpg   \n",
       "1031931873868439554 0            http://pbs.twimg.com/media/DlIokPuV4AANaO7.jpg   \n",
       "772130650312802306  0            http://pbs.twimg.com/media/Crcou6wXEAAF32p.jpg   \n",
       "1031634709363810307 0            http://pbs.twimg.com/media/DlEaSbAXcAAp7x4.jpg   \n",
       "1007076180527341568 0            http://pbs.twimg.com/media/DfnacrbU0AAZxgm.png   \n",
       "1031986392182779905 0            http://pbs.twimg.com/media/DlJaJ0zWsAE291J.jpg   \n",
       "1014381132639555584 0            http://pbs.twimg.com/media/DhPODPRWsAA6OQl.jpg   \n",
       "1018107618487951361 0            http://pbs.twimg.com/media/DiELev0XkAEnQlY.jpg   \n",
       "742606443422068736  0            http://pbs.twimg.com/media/Ck5En4FUUAMfMzq.jpg   \n",
       "\n",
       "                                                                          alt_text  \\\n",
       "tweet_id            image_index                                                      \n",
       "1039885474763026437 0                        Lapis lazuli and lemon amber earrings   \n",
       "827249145576517632  0            level rod in foreground, man on level gun in t...   \n",
       "1031931873868439554 0            JESSIE  TEAM ROCKET - POKEMON - JinxKittie Cos...   \n",
       "772130650312802306  0            A cross roads store, bar, \"juke joint,\" and ga...   \n",
       "1031634709363810307 0            Judge Dredd  on Lawmaster bike driving thru fire.   \n",
       "1007076180527341568 0               @ibogost Members only. https://t.co/aWgBWasroV   \n",
       "1031986392182779905 0            RT @RetroWDW: Backstage Magic #RetroWDWPhotos ...   \n",
       "1014381132639555584 0                                   Leafbird hiding in leaves.   \n",
       "1018107618487951361 0                                                    2000000km   \n",
       "742606443422068736  0            Filling station and garage at Pie Town, New Me...   \n",
       "\n",
       "                                                                              text  \\\n",
       "tweet_id            image_index                                                      \n",
       "1039885474763026437 0                                                                \n",
       "827249145576517632  0                                                746 5 443 2 1   \n",
       "1031931873868439554 0                                           JINXKITTIE COSPLAY   \n",
       "772130650312802306  0            JAX BEST BEER AN TOWN REGAL Prince OF Dec' vs ...   \n",
       "1031634709363810307 0                                                                \n",
       "1007076180527341568 0                                                                \n",
       "1031986392182779905 0                                                                \n",
       "1014381132639555584 0                                                                \n",
       "1018107618487951361 0            Pilot Earn 1,000,000 km across the distance of...   \n",
       "742606443422068736  0                                                                \n",
       "\n",
       "                                                                              tags  \\\n",
       "tweet_id            image_index                                                      \n",
       "1039885474763026437 0            floor lying man board sitting necklace people ...   \n",
       "827249145576517632  0            dirt water people sign pole covered sitting sl...   \n",
       "1031931873868439554 0            hat woman water red board yellow white dressed...   \n",
       "772130650312802306  0            store standing fire hydrant man front parked s...   \n",
       "1031634709363810307 0            large cake room lit stove sitting fire pizza k...   \n",
       "1007076180527341568 0            kite colorful various different Toy thing food...   \n",
       "1031986392182779905 0            people computer room office bunch colorful cov...   \n",
       "1014381132639555584 0                                                                \n",
       "1018107618487951361 0                                                                \n",
       "742606443422068736  0            people water street small large red building c...   \n",
       "\n",
       "                                  perplexity quality_rating  \n",
       "tweet_id            image_index                              \n",
       "1039885474763026437 0             411.244107              3  \n",
       "827249145576517632  0             515.496267              1  \n",
       "1031931873868439554 0             452.865576              1  \n",
       "772130650312802306  0             137.537459              1  \n",
       "1031634709363810307 0            2578.121822              3  \n",
       "1007076180527341568 0            1165.995835              0  \n",
       "1031986392182779905 0             494.280213              0  \n",
       "1014381132639555584 0             211.850075              3  \n",
       "1018107618487951361 0             300.054962              2  \n",
       "742606443422068736  0             370.354148              1  "
      ]
     },
     "execution_count": 90,
     "metadata": {},
     "output_type": "execute_result"
    }
   ],
   "source": [
    "idxs = pd.Index(np.array(idx_test)[(errors == 2)])\n",
    "rows = df_w_text.loc[idxs]\n",
    "rows[['image_url', 'alt_text','text','tags','perplexity', 'quality_rating']]"
   ]
  },
  {
   "cell_type": "code",
   "execution_count": 94,
   "metadata": {},
   "outputs": [
    {
     "name": "stdout",
     "output_type": "stream",
     "text": [
      "Post Text: Running levels this morning at 10311725 SIXMILE CYN CK AT HWY 50 NR DAYTON https://t.co/B8PFyR6vGM https://t.co/wVGPjs5w0l\n",
      "Recognizes Text: 746 5 443 2 1\n",
      "Alt Text: level rod in foreground, man on level gun in the background\n",
      "Image Tags: dirt water people sign pole covered sitting slope outdoor snow grass holding air mountain person group hill standing man field riding skiing plane\n"
     ]
    },
    {
     "data": {
      "text/html": [
       "<img src=\"http://pbs.twimg.com/media/C3r6RHMUYAAP0zj.jpg\" width=\"200\"/>"
      ],
      "text/plain": [
       "<IPython.core.display.Image object>"
      ]
     },
     "execution_count": 94,
     "metadata": {},
     "output_type": "execute_result"
    }
   ],
   "source": [
    "print('Post Text:', rows.loc[idxs[1], 'post_text'])\n",
    "print('Recognizes Text:', rows.loc[idxs[1], 'text'])\n",
    "print('Alt Text:', rows.loc[idxs[1], 'alt_text'])\n",
    "print('Image Tags:', rows.loc[idxs[1], 'tags'])\n",
    "Image(url=rows.loc[idxs[1], 'image_url'], width=200)"
   ]
  },
  {
   "cell_type": "markdown",
   "metadata": {},
   "source": [
    "The classifier gave this image a 3, and humans rated it a 1. I would say by the features given to it, this isn't a poor judgement. There is significant similarity due to the word \"levels\" and the words \"rod\" and \"pole\" probably have\n",
    "close similarity. I think human raters might want more information about the scene (where is it?) that the author just didn't provide. Perhaps there should be more penalty associated with the alt text and image tags not matching?\n",
    "\n",
    "If we want to dig in deeper on this, we can use treeinterpreter to tell us how each feature changed the predictions for each class."
   ]
  },
  {
   "cell_type": "code",
   "execution_count": 95,
   "metadata": {},
   "outputs": [
    {
     "name": "stderr",
     "output_type": "stream",
     "text": [
      "/Users/ivymew/opt/anaconda3/lib/python3.7/site-packages/sklearn/utils/deprecation.py:144: FutureWarning: The sklearn.ensemble.forest module is  deprecated in version 0.22 and will be removed in version 0.24. The corresponding classes / functions should instead be imported from sklearn.ensemble. Anything that cannot be imported from sklearn.ensemble is now part of the private API.\n",
      "  warnings.warn(message, FutureWarning)\n"
     ]
    },
    {
     "name": "stdout",
     "output_type": "stream",
     "text": [
      "Class priors: \t\t [0.16 0.25 0.3  0.29]\n",
      "Predictions: \t\t [0.02 0.47 0.27 0.24]\n",
      "Feature contributions:\n",
      "alt_tags_sim \t\t [ 0.01  0.04 -0.03 -0.03]\n",
      "alt_post_sim \t\t [ 0.02  0.21 -0.1  -0.12]\n",
      "alt_ocr_sim \t\t [ 0.    0.03 -0.03 -0.01]\n",
      "verbs \t\t [ 0.01  0.02  0.   -0.03]\n",
      "adjs \t\t [-0.01  0.04  0.01 -0.03]\n",
      "nouns \t\t [-0.07 -0.14  0.06  0.15]\n",
      "word_count \t\t [-0.    0.01  0.09 -0.1 ]\n",
      "char_count \t\t [-0.04  0.05 -0.04  0.04]\n",
      "perplexity \t\t [-0.05 -0.04  0.02  0.07]\n",
      "text_present \t\t [-0.  0. -0.  0.]\n"
     ]
    }
   ],
   "source": [
    "from treeinterpreter import treeinterpreter as ti\n",
    "sample_idx = np.nonzero(errors==2)[0][0]\n",
    "prediction, bias, contributions = ti.predict(chosen_clf, X_test[sample_idx, :].reshape(1, -1))\n",
    "print(\"Class priors: \\t\\t\", np.round(bias[0],2))\n",
    "print(\"Predictions: \\t\\t\", np.round(prediction[0],2))\n",
    "print(\"Feature contributions:\")\n",
    "chosen = np.argmax(prediction)\n",
    "for c, feature in zip(contributions[0], feature_names):\n",
    "  print(feature, \"\\t\\t\", np.round(c,2))"
   ]
  },
  {
   "cell_type": "markdown",
   "metadata": {},
   "source": [
    "So this tells us that the biggest factors in increasing the probability of a 3 rating were: the alt text and post text similarity, the word count, and character count, and the percentage of nouns in the alt text. Basically, because this alt text was well-written and somewhat similar to the post text, it recieved a high rating."
   ]
  },
  {
   "cell_type": "markdown",
   "metadata": {},
   "source": [
    "Finally, let's look at the largest set of misclassifications: the cases where it was only off by one level. "
   ]
  },
  {
   "cell_type": "code",
   "execution_count": 96,
   "metadata": {},
   "outputs": [
    {
     "data": {
      "text/html": [
       "<div>\n",
       "<style scoped>\n",
       "    .dataframe tbody tr th:only-of-type {\n",
       "        vertical-align: middle;\n",
       "    }\n",
       "\n",
       "    .dataframe tbody tr th {\n",
       "        vertical-align: top;\n",
       "    }\n",
       "\n",
       "    .dataframe thead th {\n",
       "        text-align: right;\n",
       "    }\n",
       "</style>\n",
       "<table border=\"1\" class=\"dataframe\">\n",
       "  <thead>\n",
       "    <tr style=\"text-align: right;\">\n",
       "      <th></th>\n",
       "      <th></th>\n",
       "      <th>image_url</th>\n",
       "      <th>alt_text</th>\n",
       "      <th>text</th>\n",
       "      <th>tags</th>\n",
       "      <th>perplexity</th>\n",
       "      <th>quality_rating</th>\n",
       "    </tr>\n",
       "    <tr>\n",
       "      <th>tweet_id</th>\n",
       "      <th>image_index</th>\n",
       "      <th></th>\n",
       "      <th></th>\n",
       "      <th></th>\n",
       "      <th></th>\n",
       "      <th></th>\n",
       "      <th></th>\n",
       "    </tr>\n",
       "  </thead>\n",
       "  <tbody>\n",
       "    <tr>\n",
       "      <td>998537671977861123</td>\n",
       "      <td>0</td>\n",
       "      <td>http://pbs.twimg.com/media/DduEuAaV4AA6GfF.jpg</td>\n",
       "      <td>Cup of coffee, map, and notebook saying \"let's...</td>\n",
       "      <td>SHXVZVY - , ,</td>\n",
       "      <td>table indoor</td>\n",
       "      <td>44.450846</td>\n",
       "      <td>2</td>\n",
       "    </tr>\n",
       "    <tr>\n",
       "      <td>1032080460816547840</td>\n",
       "      <td>0</td>\n",
       "      <td>http://pbs.twimg.com/media/DlKvtV-X4AA1CzY.png</td>\n",
       "      <td>cartoon</td>\n",
       "      <td></td>\n",
       "      <td>computer window room</td>\n",
       "      <td>NaN</td>\n",
       "      <td>0</td>\n",
       "    </tr>\n",
       "    <tr>\n",
       "      <td>1038094063264776193</td>\n",
       "      <td>0</td>\n",
       "      <td>http://pbs.twimg.com/media/DmgNCkvU4AE70A8.jpg</td>\n",
       "      <td>The Bean, Chicago</td>\n",
       "      <td>놏•睫§부 자4주셔사뼌까 프:」彎三E,글일뇨,-크넣:</td>\n",
       "      <td>bridge tall water people street large sign bui...</td>\n",
       "      <td>4937.633925</td>\n",
       "      <td>1</td>\n",
       "    </tr>\n",
       "    <tr>\n",
       "      <td>1026914171613536257</td>\n",
       "      <td>0</td>\n",
       "      <td>http://pbs.twimg.com/media/DkBU-NsW0AE1sVF.jpg</td>\n",
       "      <td>Another pub called the Islington</td>\n",
       "      <td>04. ra D/D/RR/ azag UPSE,\" RHYTHM • L/W/CS z i...</td>\n",
       "      <td>building text clock station bench hanging blac...</td>\n",
       "      <td>174.179212</td>\n",
       "      <td>1</td>\n",
       "    </tr>\n",
       "    <tr>\n",
       "      <td>967564628610965504</td>\n",
       "      <td>0</td>\n",
       "      <td>http://pbs.twimg.com/media/DW165mPX4AEWyL_.jpg</td>\n",
       "      <td>FHA low income housing project. Holyoke, Massa...</td>\n",
       "      <td></td>\n",
       "      <td>woman people house street small large sign bui...</td>\n",
       "      <td>1095.954624</td>\n",
       "      <td>2</td>\n",
       "    </tr>\n",
       "    <tr>\n",
       "      <td>...</td>\n",
       "      <td>...</td>\n",
       "      <td>...</td>\n",
       "      <td>...</td>\n",
       "      <td>...</td>\n",
       "      <td>...</td>\n",
       "      <td>...</td>\n",
       "      <td>...</td>\n",
       "    </tr>\n",
       "    <tr>\n",
       "      <td>1025066067914149888</td>\n",
       "      <td>0</td>\n",
       "      <td>http://pbs.twimg.com/media/DjnEG7iV4AAKWM0.jpg</td>\n",
       "      <td>Therein Lie Hierarchy Dost Denounce of ? Thoma...</td>\n",
       "      <td>English 4) ENGLISH 0 100% 09:45 AM Latin x The...</td>\n",
       "      <td>screenshot text abstract</td>\n",
       "      <td>9405.534519</td>\n",
       "      <td>1</td>\n",
       "    </tr>\n",
       "    <tr>\n",
       "      <td>883741492426178560</td>\n",
       "      <td>0</td>\n",
       "      <td>http://pbs.twimg.com/media/DEOtSxJXgAASa41.jpg</td>\n",
       "      <td>Nikki Haley quotation from linked article, re:...</td>\n",
       "      <td>Another U.S. official, Nikki Haley, the U.S. A...</td>\n",
       "      <td>screenshot</td>\n",
       "      <td>238.889538</td>\n",
       "      <td>2</td>\n",
       "    </tr>\n",
       "    <tr>\n",
       "      <td>993612721533931521</td>\n",
       "      <td>0</td>\n",
       "      <td>http://pbs.twimg.com/media/DcoFgLjXUAEJk10.jpg</td>\n",
       "      <td>Hiking near Mt. Hood</td>\n",
       "      <td></td>\n",
       "      <td>dirt trail wood sign red country tree forest s...</td>\n",
       "      <td>629.947668</td>\n",
       "      <td>1</td>\n",
       "    </tr>\n",
       "    <tr>\n",
       "      <td>976498453957128192</td>\n",
       "      <td>0</td>\n",
       "      <td>http://pbs.twimg.com/media/DY025_zV4AA-fN4.jpg</td>\n",
       "      <td>The Naked and Famous concert at Moroccan Loung...</td>\n",
       "      <td></td>\n",
       "      <td>woman people laying sitting playing white youn...</td>\n",
       "      <td>307.651505</td>\n",
       "      <td>2</td>\n",
       "    </tr>\n",
       "    <tr>\n",
       "      <td>886916155860017152</td>\n",
       "      <td>0</td>\n",
       "      <td>http://pbs.twimg.com/media/DE71YgFXUAAHTxm.jpg</td>\n",
       "      <td>Headspace website screenshot: Each day is a ne...</td>\n",
       "      <td>Each day is a new opportunity to train your mi...</td>\n",
       "      <td>text</td>\n",
       "      <td>87.142861</td>\n",
       "      <td>3</td>\n",
       "    </tr>\n",
       "  </tbody>\n",
       "</table>\n",
       "<p>88 rows × 6 columns</p>\n",
       "</div>"
      ],
      "text/plain": [
       "                                                                      image_url  \\\n",
       "tweet_id            image_index                                                   \n",
       "998537671977861123  0            http://pbs.twimg.com/media/DduEuAaV4AA6GfF.jpg   \n",
       "1032080460816547840 0            http://pbs.twimg.com/media/DlKvtV-X4AA1CzY.png   \n",
       "1038094063264776193 0            http://pbs.twimg.com/media/DmgNCkvU4AE70A8.jpg   \n",
       "1026914171613536257 0            http://pbs.twimg.com/media/DkBU-NsW0AE1sVF.jpg   \n",
       "967564628610965504  0            http://pbs.twimg.com/media/DW165mPX4AEWyL_.jpg   \n",
       "...                                                                         ...   \n",
       "1025066067914149888 0            http://pbs.twimg.com/media/DjnEG7iV4AAKWM0.jpg   \n",
       "883741492426178560  0            http://pbs.twimg.com/media/DEOtSxJXgAASa41.jpg   \n",
       "993612721533931521  0            http://pbs.twimg.com/media/DcoFgLjXUAEJk10.jpg   \n",
       "976498453957128192  0            http://pbs.twimg.com/media/DY025_zV4AA-fN4.jpg   \n",
       "886916155860017152  0            http://pbs.twimg.com/media/DE71YgFXUAAHTxm.jpg   \n",
       "\n",
       "                                                                          alt_text  \\\n",
       "tweet_id            image_index                                                      \n",
       "998537671977861123  0            Cup of coffee, map, and notebook saying \"let's...   \n",
       "1032080460816547840 0                                                      cartoon   \n",
       "1038094063264776193 0                                            The Bean, Chicago   \n",
       "1026914171613536257 0                             Another pub called the Islington   \n",
       "967564628610965504  0            FHA low income housing project. Holyoke, Massa...   \n",
       "...                                                                            ...   \n",
       "1025066067914149888 0            Therein Lie Hierarchy Dost Denounce of ? Thoma...   \n",
       "883741492426178560  0            Nikki Haley quotation from linked article, re:...   \n",
       "993612721533931521  0                                         Hiking near Mt. Hood   \n",
       "976498453957128192  0            The Naked and Famous concert at Moroccan Loung...   \n",
       "886916155860017152  0            Headspace website screenshot: Each day is a ne...   \n",
       "\n",
       "                                                                              text  \\\n",
       "tweet_id            image_index                                                      \n",
       "998537671977861123  0                                                SHXVZVY - , ,   \n",
       "1032080460816547840 0                                                                \n",
       "1038094063264776193 0                                놏•睫§부 자4주셔사뼌까 프:」彎三E,글일뇨,-크넣:   \n",
       "1026914171613536257 0            04. ra D/D/RR/ azag UPSE,\" RHYTHM • L/W/CS z i...   \n",
       "967564628610965504  0                                                                \n",
       "...                                                                            ...   \n",
       "1025066067914149888 0            English 4) ENGLISH 0 100% 09:45 AM Latin x The...   \n",
       "883741492426178560  0            Another U.S. official, Nikki Haley, the U.S. A...   \n",
       "993612721533931521  0                                                                \n",
       "976498453957128192  0                                                                \n",
       "886916155860017152  0            Each day is a new opportunity to train your mi...   \n",
       "\n",
       "                                                                              tags  \\\n",
       "tweet_id            image_index                                                      \n",
       "998537671977861123  0                                                 table indoor   \n",
       "1032080460816547840 0                                         computer window room   \n",
       "1038094063264776193 0            bridge tall water people street large sign bui...   \n",
       "1026914171613536257 0            building text clock station bench hanging blac...   \n",
       "967564628610965504  0            woman people house street small large sign bui...   \n",
       "...                                                                            ...   \n",
       "1025066067914149888 0                                     screenshot text abstract   \n",
       "883741492426178560  0                                                   screenshot   \n",
       "993612721533931521  0            dirt trail wood sign red country tree forest s...   \n",
       "976498453957128192  0            woman people laying sitting playing white youn...   \n",
       "886916155860017152  0                                                         text   \n",
       "\n",
       "                                  perplexity quality_rating  \n",
       "tweet_id            image_index                              \n",
       "998537671977861123  0              44.450846              2  \n",
       "1032080460816547840 0                    NaN              0  \n",
       "1038094063264776193 0            4937.633925              1  \n",
       "1026914171613536257 0             174.179212              1  \n",
       "967564628610965504  0            1095.954624              2  \n",
       "...                                      ...            ...  \n",
       "1025066067914149888 0            9405.534519              1  \n",
       "883741492426178560  0             238.889538              2  \n",
       "993612721533931521  0             629.947668              1  \n",
       "976498453957128192  0             307.651505              2  \n",
       "886916155860017152  0              87.142861              3  \n",
       "\n",
       "[88 rows x 6 columns]"
      ]
     },
     "execution_count": 96,
     "metadata": {},
     "output_type": "execute_result"
    }
   ],
   "source": [
    "idxs = pd.Index(np.array(idx_test)[(errors == 1)])\n",
    "rows = df_w_text.loc[idxs]\n",
    "rows[['image_url', 'alt_text','text','tags','perplexity', 'quality_rating']]"
   ]
  },
  {
   "cell_type": "markdown",
   "metadata": {},
   "source": [
    "Since there are 88 of these, we will again only examine the first in depth."
   ]
  },
  {
   "cell_type": "code",
   "execution_count": 97,
   "metadata": {},
   "outputs": [
    {
     "name": "stdout",
     "output_type": "stream",
     "text": [
      "Post Text: The seven cities where you can find the world's best coffee: https://t.co/oxPMr7L1Wj https://t.co/SunVcMudOB\n",
      "Recognized Text: SHXVZVY - , ,\n",
      "Alt Text: Cup of coffee, map, and notebook saying \"let's go\"\n",
      "Image Tags: table indoor\n",
      "Expected Rating:  2.0 Predicted Rating: 3.0\n"
     ]
    },
    {
     "name": "stderr",
     "output_type": "stream",
     "text": [
      "/Users/ivymew/opt/anaconda3/lib/python3.7/site-packages/ipykernel_launcher.py:1: PerformanceWarning: indexing past lexsort depth may impact performance.\n",
      "  \"\"\"Entry point for launching an IPython kernel.\n"
     ]
    },
    {
     "data": {
      "text/html": [
       "<img src=\"http://pbs.twimg.com/media/DduEuAaV4AA6GfF.jpg\" width=\"400\"/>"
      ],
      "text/plain": [
       "<IPython.core.display.Image object>"
      ]
     },
     "execution_count": 97,
     "metadata": {},
     "output_type": "execute_result"
    }
   ],
   "source": [
    "row = rows.loc[idxs[0]]\n",
    "sample_idx = np.nonzero(errors==1)[0][0]\n",
    "print('Post Text:',  row.post_text[0])\n",
    "print('Recognized Text:', row.text[0])\n",
    "print('Alt Text:', row.alt_text[0])\n",
    "print('Image Tags:', row.tags[0])\n",
    "print('Expected Rating: ', y_test[sample_idx], 'Predicted Rating:', y_pred[sample_idx])\n",
    "Image(url=row.image_url[0], width=400)"
   ]
  },
  {
   "cell_type": "markdown",
   "metadata": {},
   "source": [
    "Human rates did not give this a 3 because it did not describe what kind of map it was or the other objects on the table. However, the given alt text is not bad, so it does not seem unreasonable to give it a 3. That is likely the cases for many of these where the image and alt text inhabit a border area between classes. Perhaps they are not exactly a 2 or 3, or humans mislabelled them.\n",
    "\n",
    "Let's still investigate what contributed to this rating."
   ]
  },
  {
   "cell_type": "code",
   "execution_count": 98,
   "metadata": {},
   "outputs": [
    {
     "name": "stdout",
     "output_type": "stream",
     "text": [
      "Class priors: \t\t [0.16 0.25 0.3  0.29]\n",
      "Predictions: \t\t [0.08 0.05 0.35 0.52]\n",
      "Feature contributions:\n",
      "alt_tags_sim \t\t [ 0.    0.01  0.01 -0.02]\n",
      "alt_post_sim \t\t [-0.04 -0.01 -0.01  0.06]\n",
      "alt_ocr_sim \t\t [ 0.02  0.01 -0.05  0.02]\n",
      "verbs \t\t [ 0.02 -0.04  0.05 -0.03]\n",
      "adjs \t\t [ 0.    0.02  0.02 -0.04]\n",
      "nouns \t\t [-0.03 -0.08 -0.03  0.14]\n",
      "word_count \t\t [-0.04 -0.04  0.01  0.07]\n",
      "char_count \t\t [-0.02 -0.   -0.02  0.04]\n",
      "perplexity \t\t [-0.   -0.06  0.06  0.01]\n",
      "text_present \t\t [ 0.    0.    0.01 -0.01]\n"
     ]
    }
   ],
   "source": [
    "prediction, bias, contributions = ti.predict(chosen_clf, X_test[sample_idx, :].reshape(1, -1))\n",
    "print(\"Class priors: \\t\\t\", np.round(bias[0],2))\n",
    "print(\"Predictions: \\t\\t\", np.round(prediction[0],2))\n",
    "print(\"Feature contributions:\")\n",
    "chosen = np.argmax(prediction)\n",
    "for c, feature in zip(contributions[0], feature_names):\n",
    "    print(feature, \"\\t\\t\", np.round(c,2))"
   ]
  },
  {
   "cell_type": "markdown",
   "metadata": {},
   "source": [
    "The classifier only assigned 53% of probability to the 3 rating, and still had a significant probability given to the 2 rating. What is interesting is none of the features stand out as dominating here. The percent of nouns is the highest contributor to the 3 rating, followed, by a tie between word count, character count, and perplexity. \n",
    "\n",
    "This may indicate that cases where the misclassification is only 1 class away do not have a dominating feature that leads to their misclassification, they just have an accumulation of classes that are on the edge."
   ]
  },
  {
   "cell_type": "markdown",
   "metadata": {},
   "source": [
    "## Using the Classifier to Automatically Grade Alt Text\n",
    "\n",
    "We now have our classifier trained, and we can use it to automatically grade new alt text.\n",
    "\n",
    "We will take a new image and try different alt texts."
   ]
  },
  {
   "cell_type": "code",
   "execution_count": 123,
   "metadata": {},
   "outputs": [
    {
     "data": {
      "text/html": [
       "<img src=\"https://pbs.twimg.com/media/EF-l-ocVAAES7DW?format=jpg&name=medium\" width=\"400\"/>"
      ],
      "text/plain": [
       "<IPython.core.display.Image object>"
      ]
     },
     "execution_count": 123,
     "metadata": {},
     "output_type": "execute_result"
    }
   ],
   "source": [
    "def evaluate_alt_text(model, post_text, image_url, alt_text):\n",
    "  text = get_text_in_image(image_url)\n",
    "  tags = get_tags_and_objects(image_url)\n",
    "  perplexity = gpt_perplexity(alt_text)\n",
    "  if perplexity == None:\n",
    "    perplexity = df_w_text['perplexity'].max()\n",
    "  if text == None:\n",
    "    text = \"\"\n",
    "  print(\"Post text: \", post_text)\n",
    "  print(\"Alt text: \", alt_text)\n",
    "  print(\"Image tags: \", tags)\n",
    "  print(\"Image text: \", text)\n",
    "  X, _ = create_features([alt_text], [tags], [post_text], [text], [perplexity], scaler=scaler)\n",
    "  return X,model.predict(X)[0]\n",
    "\n",
    "image_url = \"https://pbs.twimg.com/media/EF-l-ocVAAES7DW?format=jpg&name=medium\"\n",
    "post_text = \"\"\"The dog being cute. Quite comfortable, thank you very much. \n",
    "Upside down on the only couch he's allowed on. He wants, err, no, DEMANDS, a tummy rub!\"\"\"\n",
    "Image(url=image_url, width=400)"
   ]
  },
  {
   "cell_type": "markdown",
   "metadata": {},
   "source": [
    "Ok, let's design some bad alt text. Most that look like this do not even describe the image. Twitter, for example, says \"image\" for all alt text that are empty."
   ]
  },
  {
   "cell_type": "code",
   "execution_count": 124,
   "metadata": {},
   "outputs": [
    {
     "name": "stdout",
     "output_type": "stream",
     "text": [
      "Post text:  The dog being cute. Quite comfortable, thank you very much. \n",
      "Upside down on the only couch he's allowed on. He wants, err, no, DEMANDS, a tummy rub!\n",
      "Alt text:  \n",
      "Image tags:  small sitting black lying dog looking brown indoor wearing bed white laying head\n",
      "Image text:  \n"
     ]
    },
    {
     "ename": "ZeroDivisionError",
     "evalue": "division by zero",
     "output_type": "error",
     "traceback": [
      "\u001b[0;31m---------------------------------------------------------------------------\u001b[0m",
      "\u001b[0;31mZeroDivisionError\u001b[0m                         Traceback (most recent call last)",
      "\u001b[0;32m<ipython-input-124-2402fc0d9335>\u001b[0m in \u001b[0;36m<module>\u001b[0;34m\u001b[0m\n\u001b[1;32m      1\u001b[0m \u001b[0malt_text\u001b[0m \u001b[0;34m=\u001b[0m \u001b[0;34m\"\"\u001b[0m\u001b[0;34m\u001b[0m\u001b[0;34m\u001b[0m\u001b[0m\n\u001b[0;32m----> 2\u001b[0;31m \u001b[0mfeat\u001b[0m\u001b[0;34m,\u001b[0m \u001b[0mrating\u001b[0m \u001b[0;34m=\u001b[0m \u001b[0mevaluate_alt_text\u001b[0m\u001b[0;34m(\u001b[0m\u001b[0mchosen_clf\u001b[0m\u001b[0;34m,\u001b[0m \u001b[0mpost_text\u001b[0m\u001b[0;34m,\u001b[0m \u001b[0mimage_url\u001b[0m\u001b[0;34m,\u001b[0m \u001b[0malt_text\u001b[0m\u001b[0;34m)\u001b[0m\u001b[0;34m\u001b[0m\u001b[0;34m\u001b[0m\u001b[0m\n\u001b[0m\u001b[1;32m      3\u001b[0m \u001b[0mprint\u001b[0m\u001b[0;34m(\u001b[0m\u001b[0;34m\"Rating: \"\u001b[0m\u001b[0;34m,\u001b[0m \u001b[0mrating\u001b[0m\u001b[0;34m)\u001b[0m\u001b[0;34m\u001b[0m\u001b[0;34m\u001b[0m\u001b[0m\n\u001b[1;32m      4\u001b[0m \u001b[0mprediction\u001b[0m\u001b[0;34m,\u001b[0m \u001b[0mbias\u001b[0m\u001b[0;34m,\u001b[0m \u001b[0mcontributions\u001b[0m \u001b[0;34m=\u001b[0m \u001b[0mti\u001b[0m\u001b[0;34m.\u001b[0m\u001b[0mpredict\u001b[0m\u001b[0;34m(\u001b[0m\u001b[0mchosen_clf\u001b[0m\u001b[0;34m,\u001b[0m \u001b[0mfeat\u001b[0m\u001b[0;34m)\u001b[0m\u001b[0;34m\u001b[0m\u001b[0;34m\u001b[0m\u001b[0m\n\u001b[1;32m      5\u001b[0m \u001b[0mprint\u001b[0m\u001b[0;34m(\u001b[0m\u001b[0;34m\"Class priors: \\t\\t\"\u001b[0m\u001b[0;34m,\u001b[0m \u001b[0mnp\u001b[0m\u001b[0;34m.\u001b[0m\u001b[0mround\u001b[0m\u001b[0;34m(\u001b[0m\u001b[0mbias\u001b[0m\u001b[0;34m[\u001b[0m\u001b[0;36m0\u001b[0m\u001b[0;34m]\u001b[0m\u001b[0;34m,\u001b[0m\u001b[0;36m2\u001b[0m\u001b[0;34m)\u001b[0m\u001b[0;34m)\u001b[0m\u001b[0;34m\u001b[0m\u001b[0;34m\u001b[0m\u001b[0m\n",
      "\u001b[0;32m<ipython-input-123-b3dff4dd4f39>\u001b[0m in \u001b[0;36mevaluate_alt_text\u001b[0;34m(model, post_text, image_url, alt_text)\u001b[0m\n\u001b[1;32m     11\u001b[0m   \u001b[0mprint\u001b[0m\u001b[0;34m(\u001b[0m\u001b[0;34m\"Image tags: \"\u001b[0m\u001b[0;34m,\u001b[0m \u001b[0mtags\u001b[0m\u001b[0;34m)\u001b[0m\u001b[0;34m\u001b[0m\u001b[0;34m\u001b[0m\u001b[0m\n\u001b[1;32m     12\u001b[0m   \u001b[0mprint\u001b[0m\u001b[0;34m(\u001b[0m\u001b[0;34m\"Image text: \"\u001b[0m\u001b[0;34m,\u001b[0m \u001b[0mtext\u001b[0m\u001b[0;34m)\u001b[0m\u001b[0;34m\u001b[0m\u001b[0;34m\u001b[0m\u001b[0m\n\u001b[0;32m---> 13\u001b[0;31m   \u001b[0mX\u001b[0m\u001b[0;34m,\u001b[0m \u001b[0m_\u001b[0m \u001b[0;34m=\u001b[0m \u001b[0mcreate_features\u001b[0m\u001b[0;34m(\u001b[0m\u001b[0;34m[\u001b[0m\u001b[0malt_text\u001b[0m\u001b[0;34m]\u001b[0m\u001b[0;34m,\u001b[0m \u001b[0;34m[\u001b[0m\u001b[0mtags\u001b[0m\u001b[0;34m]\u001b[0m\u001b[0;34m,\u001b[0m \u001b[0;34m[\u001b[0m\u001b[0mpost_text\u001b[0m\u001b[0;34m]\u001b[0m\u001b[0;34m,\u001b[0m \u001b[0;34m[\u001b[0m\u001b[0mtext\u001b[0m\u001b[0;34m]\u001b[0m\u001b[0;34m,\u001b[0m \u001b[0;34m[\u001b[0m\u001b[0mperplexity\u001b[0m\u001b[0;34m]\u001b[0m\u001b[0;34m,\u001b[0m \u001b[0mscaler\u001b[0m\u001b[0;34m=\u001b[0m\u001b[0mscaler\u001b[0m\u001b[0;34m)\u001b[0m\u001b[0;34m\u001b[0m\u001b[0;34m\u001b[0m\u001b[0m\n\u001b[0m\u001b[1;32m     14\u001b[0m   \u001b[0;32mreturn\u001b[0m \u001b[0mX\u001b[0m\u001b[0;34m,\u001b[0m\u001b[0mmodel\u001b[0m\u001b[0;34m.\u001b[0m\u001b[0mpredict\u001b[0m\u001b[0;34m(\u001b[0m\u001b[0mX\u001b[0m\u001b[0;34m)\u001b[0m\u001b[0;34m[\u001b[0m\u001b[0;36m0\u001b[0m\u001b[0;34m]\u001b[0m\u001b[0;34m\u001b[0m\u001b[0;34m\u001b[0m\u001b[0m\n\u001b[1;32m     15\u001b[0m \u001b[0;34m\u001b[0m\u001b[0m\n",
      "\u001b[0;32m<ipython-input-23-6d82e3f34dcf>\u001b[0m in \u001b[0;36mcreate_features\u001b[0;34m(alt_text, image_words_text, post_text, image_ocr, perplexity, scaler)\u001b[0m\n\u001b[1;32m     59\u001b[0m         \u001b[0mdoc\u001b[0m \u001b[0;34m=\u001b[0m \u001b[0mnlp\u001b[0m\u001b[0;34m(\u001b[0m\u001b[0mcorpus\u001b[0m\u001b[0;34m[\u001b[0m\u001b[0;36m0\u001b[0m\u001b[0;34m]\u001b[0m\u001b[0;34m)\u001b[0m\u001b[0;34m\u001b[0m\u001b[0;34m\u001b[0m\u001b[0m\n\u001b[1;32m     60\u001b[0m         \u001b[0mc\u001b[0m \u001b[0;34m=\u001b[0m \u001b[0mCounter\u001b[0m\u001b[0;34m(\u001b[0m\u001b[0;34m[\u001b[0m\u001b[0mtoken\u001b[0m\u001b[0;34m.\u001b[0m\u001b[0mpos_\u001b[0m \u001b[0;32mfor\u001b[0m \u001b[0mtoken\u001b[0m \u001b[0;32min\u001b[0m \u001b[0mdoc\u001b[0m\u001b[0;34m]\u001b[0m\u001b[0;34m)\u001b[0m\u001b[0;34m\u001b[0m\u001b[0;34m\u001b[0m\u001b[0m\n\u001b[0;32m---> 61\u001b[0;31m         \u001b[0mverbs\u001b[0m \u001b[0;34m=\u001b[0m \u001b[0mc\u001b[0m\u001b[0;34m[\u001b[0m\u001b[0;34m'VERB'\u001b[0m\u001b[0;34m]\u001b[0m\u001b[0;34m/\u001b[0m\u001b[0mword_count\u001b[0m\u001b[0;34m\u001b[0m\u001b[0;34m\u001b[0m\u001b[0m\n\u001b[0m\u001b[1;32m     62\u001b[0m         \u001b[0madjs\u001b[0m \u001b[0;34m=\u001b[0m \u001b[0mc\u001b[0m\u001b[0;34m[\u001b[0m\u001b[0;34m'ADJ'\u001b[0m\u001b[0;34m]\u001b[0m\u001b[0;34m/\u001b[0m\u001b[0mword_count\u001b[0m\u001b[0;34m\u001b[0m\u001b[0;34m\u001b[0m\u001b[0m\n\u001b[1;32m     63\u001b[0m         \u001b[0mnouns\u001b[0m \u001b[0;34m=\u001b[0m \u001b[0mc\u001b[0m\u001b[0;34m[\u001b[0m\u001b[0;34m'NOUN'\u001b[0m\u001b[0;34m]\u001b[0m\u001b[0;34m/\u001b[0m\u001b[0mword_count\u001b[0m\u001b[0;34m\u001b[0m\u001b[0;34m\u001b[0m\u001b[0m\n",
      "\u001b[0;31mZeroDivisionError\u001b[0m: division by zero"
     ]
    }
   ],
   "source": [
    "alt_text = \"\"\n",
    "feat, rating = evaluate_alt_text(chosen_clf, post_text, image_url, alt_text)\n",
    "print(\"Rating: \", rating)\n",
    "prediction, bias, contributions = ti.predict(chosen_clf, feat)\n",
    "print(\"Class priors: \\t\\t\", np.round(bias[0],2))\n",
    "print(\"Predictions: \\t\\t\", np.round(prediction[0],2))\n",
    "print(\"Feature contributions:\")\n",
    "chosen = np.argmax(prediction)\n",
    "for c, feature in zip(contributions[0], feature_names):\n",
    "    print(feature, \"\\t\\t\", np.round(c,2))"
   ]
  },
  {
   "cell_type": "markdown",
   "metadata": {},
   "source": [
    "## Discussion and Future Work\n",
    "\n",
    "One of the most straightforward applications of our project is to provide users with on-the-fly feedback about how to draft a better description to the pictures they posted. \n",
    "the classifier can not only provide a rating (which could be turned into an indicator similar to \"password strength\" metrics), but the feature contributions can be used to detail specifically what to improve. For example:\n",
    "\n",
    "*   If char_count or word_count are shifting probability mass to low ratings, say \"Try writing some more! Longer alt text tends to be more descriptive!\"\n",
    "*   If \"alt_tags_sim\" is moving probability mass to low ratings, say \"We see some more things in the image that could be described! What does the dog look like?\"\n",
    "\n",
    "Given the result from our feature importance, it is crucial that the image and post text combine to become a coherent story for visually-impaired users to grasp. In addition, users are encouraged to use nouns to give a more vivid narrative to thes images. \n",
    "\n",
    "The biggest limitation with this work is the quality-ratings in the dataset. Many of the edge-cases may be mislabelled by humans, or they do not clearly belong to a single class. This may be misleading our classifier. In addition, these images and alt text pairs were rated by sighted researchers, and their notions of quality may not reflect what people with vision impairments desire. \n",
    "\n",
    "Therefore, future work should examine how to validate this quality scale with visually impaired Twitter users. Additionally, future uses of a dataset like this should validate the ratings among many human raters, and perhaps take the most common rating or further investigate samples where raters cannot agree.\n",
    "\n"
   ]
  },
  {
   "cell_type": "markdown",
   "metadata": {},
   "source": [
    "## Conclusion\n",
    "\n",
    "This project demonstrated how to pull information from the Twitter API and examined a dataset of tweets containing alternative text for people with vision impairments. Then, using quality ratings on a 4-level scale, we set out to create a classifier that can automatically grade alternative text. We extracted 10 features from the tweet post text, image, and alternative text present. We then performed model selection, finding a random forsent to be the best-performing model for this task. After model selection, tuning, and training, we examined the feature importance and classification results, finding that the classifier can rate these levels with 75% accuracy."
   ]
  },
  {
   "cell_type": "markdown",
   "metadata": {},
   "source": [
    "## References\n",
    "\n",
    "1.   Tim Berners-Lee and Daniel Connelly. 1995. [Hypertext Markup Language – 2.0](https://tools.ietf.org/html/rfc1866). Internet Engineering Task Force. RFC 1866.\n",
    "2.   Jeffrey P Bigham, Ryan S Kaminsky, Richard E Ladner, Oscar M Danielsson, and Gordon L Hempton. 2006. WebInSight: Making Web Images Accessible. In Proceedings of the 8th international ACM SIGACCESS conference on Computers and accessibility - Assets ’06.\n",
    "3.   Guinness, D., Cutrell, E., & Morris M.R. (2018, May). [Caption Crawler: Enabling Reusable Alternative Text Descriptions Using Reverse Image Search.](https://dl.acm.org/citation.cfm?id=3174092) In Proceedings of the 2018 CHI Conference on Human Factors in Computing Systems. ACM\n",
    "4.   Meredith Ringel Morris, Annuska Zolyomi, Catherine Yao, Sina Bahram, Jeffrey P. Bigham, and Shaun K. Kane. 2016. [\"With most of it being pictures now, I rarely use it\": Understanding Twitter's Evolving Accessibility to Blind Users](https://dl.acm.org/citation.cfm?id=2858116). In Proceedings of the 2016 CHI Conference on Human Factors in Computing Systems (CHI '16).\n",
    "5.   Cole Gleason, Patrick Carrington, Cameron Cassidy, Meredith Ringel Morris, Kris M. Kitani, and Jeffrey P. Bigham. 2019. [“It's almost like they're trying to hide it”: How User-Provided Image Descriptions Have Failed to Make Twitter Accessible](https://dl.acm.org/citation.cfm?id=3313605). In The World Wide Web Conference (WWW '19).\n",
    "6. McHugh, Mary L. [Interrater reliability: the kappa statistic](https://www.ncbi.nlm.nih.gov/pmc/articles/PMC3900052/). Biochemia medica vol. 22,3 (2012).\n"
   ]
  },
  {
   "cell_type": "code",
   "execution_count": null,
   "metadata": {},
   "outputs": [],
   "source": []
  }
 ],
 "metadata": {
  "kernelspec": {
   "display_name": "Python 3",
   "language": "python",
   "name": "python3"
  },
  "language_info": {
   "codemirror_mode": {
    "name": "ipython",
    "version": 3
   },
   "file_extension": ".py",
   "mimetype": "text/x-python",
   "name": "python",
   "nbconvert_exporter": "python",
   "pygments_lexer": "ipython3",
   "version": "3.7.4"
  }
 },
 "nbformat": 4,
 "nbformat_minor": 2
}
