{
  "nbformat": 4,
  "nbformat_minor": 0,
  "metadata": {
    "colab": {
      "name": "Final Project (Practical Data Science)",
      "provenance": [],
      "collapsed_sections": [],
      "toc_visible": true
    },
    "kernelspec": {
      "name": "python3",
      "display_name": "Python 3"
    }
  },
  "cells": [
    {
      "cell_type": "markdown",
      "metadata": {
        "id": "6rCkLqvMYZc7",
        "colab_type": "text"
      },
      "source": [
        "# Automatically Grading Alternative Text on Twitter\n"
      ]
    },
    {
      "cell_type": "markdown",
      "metadata": {
        "id": "t1lwfI0F6IdA",
        "colab_type": "text"
      },
      "source": [
        "The increase in videos and images has lead to Twitter becoming increasingly visual, which excludes people with vision impairments from the platform. One central element to make visual content accessible is providing textual descriptions (alternative text) to user-posted images. Platforms like Facebook and Instagram have used algorithms to automatically tag pictures with low-quality descriptions; Twitter encourages users to add their own descriptions for the images they post (to do so, the user first needs to turn on [the option in accessibility setting](https://help.twitter.com/en/using-twitter/picture-descriptions), where they need to check the \"Compose image descriptions\" option).\n",
        "\n",
        "![alt text](https://i.ibb.co/0MFMf8S/setting.png)\n",
        "\n",
        "After the setting is set up, users have the option of composing image descriptions when they post an image. \n",
        "\n",
        "![alt text](https://i.ibb.co/4mX63Gc/submit.png)\n",
        "\n",
        "However, efforts to increase the prevalence of alt text descriptions on social media have faltered as many users do not know how to write high-quality image descriptions. Therefore, how to evaluate the relevance and quality of alt text descriptions for images would be crucial to improving user-entered alt text.\n",
        "\n",
        "Thus, the objective of our project is to train a classifier that automatically rates the alt text quality, to give the user feedback on their image description quality. We are going to explore how Twitter users leverage alternative text to describe the images they uploaded."
      ]
    },
    {
      "cell_type": "markdown",
      "metadata": {
        "id": "9ISNLia_KFVV",
        "colab_type": "text"
      },
      "source": [
        "## Related Work\n",
        "\n",
        "Alternative text, introduced in the HTML specification in 1995 [1], is read by screen readers and Braille displays when blind users encounter images on the web. Many websites do not include alt text. In 2006, only 37% of images on top websites contained alternative text [2], and last year this increased to 50% [3].\n",
        "\n",
        "However, these numbers are different for social media platforms. Morris et al. found that Twitter was becoming more inaccessible with an increase in visual content [4]. It was originally a text-only site, which made it relatively easy to access via a screen-reader. Now, around 25% of tweets contain some media (image, video, or GIF).\n",
        "\n",
        "Cole Gleason (one of the authors on this project) has previously conducted research in this area, and we will re-use an unprocessed dataset collected last year [5] (with no image features extracted) for this analysis. We will describe how you could replicate this step to collect a new dataset.\n",
        "\n"
      ]
    },
    {
      "cell_type": "markdown",
      "metadata": {
        "id": "DTauYsRNLzC5",
        "colab_type": "text"
      },
      "source": [
        "## Required Dependencies\n",
        "To run this project, in addition to standard data science tools like numpy and pandas, you will need the following packages:\n",
        "\n",
        "*   [scikit-learn](https://scikit-learn.org/stable/)\n",
        "*   [python-twitter](https://python-twitter.readthedocs.io/en/latest/)\n",
        "*   [spacy](https://spacy.io/)\n",
        "*   [py-torch](https://pytorch.org/)\n",
        "*   [transformers](https://pypi.org/project/transformers/)\n",
        "*   [ftfy](https://pypi.org/project/ftfy/)\n",
        "*   [treeinterpreter](https://github.com/andosa/treeinterpreter)"
      ]
    },
    {
      "cell_type": "code",
      "metadata": {
        "id": "Cfvld16NSvmP",
        "colab_type": "code",
        "outputId": "13c3fe61-10f7-43f2-8622-12381cc0616c",
        "colab": {
          "base_uri": "https://localhost:8080/",
          "height": 1000
        }
      },
      "source": [
        "# use this cell to install these requirements\n",
        "!pip install scikit-learn==0.22 python-twitter transformers spacy torch ftfy treeinterpreter\n",
        "!pip install langdetect"
      ],
      "execution_count": 0,
      "outputs": [
        {
          "output_type": "stream",
          "text": [
            "Collecting scikit-learn==0.22\n",
            "\u001b[?25l  Downloading https://files.pythonhosted.org/packages/2e/d0/860c4f6a7027e00acff373d9f5327f4ae3ed5872234b3cbdd7bcb52e5eff/scikit_learn-0.22-cp36-cp36m-manylinux1_x86_64.whl (7.0MB)\n",
            "\u001b[K     |████████████████████████████████| 7.0MB 2.8MB/s \n",
            "\u001b[?25hCollecting python-twitter\n",
            "\u001b[?25l  Downloading https://files.pythonhosted.org/packages/b3/a9/2eb36853d8ca49a70482e2332aa5082e09b3180391671101b1612e3aeaf1/python_twitter-3.5-py2.py3-none-any.whl (67kB)\n",
            "\u001b[K     |████████████████████████████████| 71kB 8.5MB/s \n",
            "\u001b[?25hCollecting transformers\n",
            "\u001b[?25l  Downloading https://files.pythonhosted.org/packages/70/1a/364556102943cacde1ee00fdcae3b1615b39e52649eddbf54953e5b144c9/transformers-2.2.1-py3-none-any.whl (364kB)\n",
            "\u001b[K     |████████████████████████████████| 368kB 52.8MB/s \n",
            "\u001b[?25hRequirement already satisfied: spacy in /usr/local/lib/python3.6/dist-packages (2.1.9)\n",
            "Requirement already satisfied: torch in /usr/local/lib/python3.6/dist-packages (1.3.1)\n",
            "Collecting ftfy\n",
            "\u001b[?25l  Downloading https://files.pythonhosted.org/packages/75/ca/2d9a5030eaf1bcd925dab392762b9709a7ad4bd486a90599d93cd79cb188/ftfy-5.6.tar.gz (58kB)\n",
            "\u001b[K     |████████████████████████████████| 61kB 8.2MB/s \n",
            "\u001b[?25hCollecting treeinterpreter\n",
            "  Downloading https://files.pythonhosted.org/packages/56/cb/78ec761719d2546d4bb75ec02773d01c0a0e8229fe3f8edf6a6ac961e24e/treeinterpreter-0.2.2-py2.py3-none-any.whl\n",
            "Requirement already satisfied: scipy>=0.17.0 in /usr/local/lib/python3.6/dist-packages (from scikit-learn==0.22) (1.3.3)\n",
            "Requirement already satisfied: joblib>=0.11 in /usr/local/lib/python3.6/dist-packages (from scikit-learn==0.22) (0.14.0)\n",
            "Requirement already satisfied: numpy>=1.11.0 in /usr/local/lib/python3.6/dist-packages (from scikit-learn==0.22) (1.17.4)\n",
            "Requirement already satisfied: requests-oauthlib in /usr/local/lib/python3.6/dist-packages (from python-twitter) (1.3.0)\n",
            "Requirement already satisfied: requests in /usr/local/lib/python3.6/dist-packages (from python-twitter) (2.21.0)\n",
            "Requirement already satisfied: future in /usr/local/lib/python3.6/dist-packages (from python-twitter) (0.16.0)\n",
            "Collecting sentencepiece\n",
            "\u001b[?25l  Downloading https://files.pythonhosted.org/packages/14/3d/efb655a670b98f62ec32d66954e1109f403db4d937c50d779a75b9763a29/sentencepiece-0.1.83-cp36-cp36m-manylinux1_x86_64.whl (1.0MB)\n",
            "\u001b[K     |████████████████████████████████| 1.0MB 43.9MB/s \n",
            "\u001b[?25hCollecting regex\n",
            "\u001b[?25l  Downloading https://files.pythonhosted.org/packages/8c/db/4b29a0adec5881542cd81cb5d1929b5c0787003c5740b3c921e627d9c2e5/regex-2019.12.9.tar.gz (669kB)\n",
            "\u001b[K     |████████████████████████████████| 675kB 52.6MB/s \n",
            "\u001b[?25hCollecting sacremoses\n",
            "\u001b[?25l  Downloading https://files.pythonhosted.org/packages/1f/8e/ed5364a06a9ba720fddd9820155cc57300d28f5f43a6fd7b7e817177e642/sacremoses-0.0.35.tar.gz (859kB)\n",
            "\u001b[K     |████████████████████████████████| 860kB 38.2MB/s \n",
            "\u001b[?25hRequirement already satisfied: boto3 in /usr/local/lib/python3.6/dist-packages (from transformers) (1.10.32)\n",
            "Requirement already satisfied: tqdm in /usr/local/lib/python3.6/dist-packages (from transformers) (4.28.1)\n",
            "Requirement already satisfied: thinc<7.1.0,>=7.0.8 in /usr/local/lib/python3.6/dist-packages (from spacy) (7.0.8)\n",
            "Requirement already satisfied: wasabi<1.1.0,>=0.2.0 in /usr/local/lib/python3.6/dist-packages (from spacy) (0.4.2)\n",
            "Requirement already satisfied: preshed<2.1.0,>=2.0.1 in /usr/local/lib/python3.6/dist-packages (from spacy) (2.0.1)\n",
            "Requirement already satisfied: plac<1.0.0,>=0.9.6 in /usr/local/lib/python3.6/dist-packages (from spacy) (0.9.6)\n",
            "Requirement already satisfied: blis<0.3.0,>=0.2.2 in /usr/local/lib/python3.6/dist-packages (from spacy) (0.2.4)\n",
            "Requirement already satisfied: murmurhash<1.1.0,>=0.28.0 in /usr/local/lib/python3.6/dist-packages (from spacy) (1.0.2)\n",
            "Requirement already satisfied: srsly<1.1.0,>=0.0.6 in /usr/local/lib/python3.6/dist-packages (from spacy) (0.2.0)\n",
            "Requirement already satisfied: cymem<2.1.0,>=2.0.2 in /usr/local/lib/python3.6/dist-packages (from spacy) (2.0.3)\n",
            "Requirement already satisfied: wcwidth in /usr/local/lib/python3.6/dist-packages (from ftfy) (0.1.7)\n",
            "Requirement already satisfied: oauthlib>=3.0.0 in /usr/local/lib/python3.6/dist-packages (from requests-oauthlib->python-twitter) (3.1.0)\n",
            "Requirement already satisfied: certifi>=2017.4.17 in /usr/local/lib/python3.6/dist-packages (from requests->python-twitter) (2019.11.28)\n",
            "Requirement already satisfied: chardet<3.1.0,>=3.0.2 in /usr/local/lib/python3.6/dist-packages (from requests->python-twitter) (3.0.4)\n",
            "Requirement already satisfied: urllib3<1.25,>=1.21.1 in /usr/local/lib/python3.6/dist-packages (from requests->python-twitter) (1.24.3)\n",
            "Requirement already satisfied: idna<2.9,>=2.5 in /usr/local/lib/python3.6/dist-packages (from requests->python-twitter) (2.8)\n",
            "Requirement already satisfied: six in /usr/local/lib/python3.6/dist-packages (from sacremoses->transformers) (1.12.0)\n",
            "Requirement already satisfied: click in /usr/local/lib/python3.6/dist-packages (from sacremoses->transformers) (7.0)\n",
            "Requirement already satisfied: jmespath<1.0.0,>=0.7.1 in /usr/local/lib/python3.6/dist-packages (from boto3->transformers) (0.9.4)\n",
            "Requirement already satisfied: botocore<1.14.0,>=1.13.32 in /usr/local/lib/python3.6/dist-packages (from boto3->transformers) (1.13.32)\n",
            "Requirement already satisfied: s3transfer<0.3.0,>=0.2.0 in /usr/local/lib/python3.6/dist-packages (from boto3->transformers) (0.2.1)\n",
            "Requirement already satisfied: python-dateutil<2.8.1,>=2.1; python_version >= \"2.7\" in /usr/local/lib/python3.6/dist-packages (from botocore<1.14.0,>=1.13.32->boto3->transformers) (2.6.1)\n",
            "Requirement already satisfied: docutils<0.16,>=0.10 in /usr/local/lib/python3.6/dist-packages (from botocore<1.14.0,>=1.13.32->boto3->transformers) (0.15.2)\n",
            "Building wheels for collected packages: ftfy, regex, sacremoses\n",
            "  Building wheel for ftfy (setup.py) ... \u001b[?25l\u001b[?25hdone\n",
            "  Created wheel for ftfy: filename=ftfy-5.6-cp36-none-any.whl size=44553 sha256=8ed522c9d8bb948c683ac149f9abf92adca4074935e20997b8d8abc105369622\n",
            "  Stored in directory: /root/.cache/pip/wheels/43/34/ce/cbb38d71543c408de56f3c5e26ce8ba495a0fa5a28eaaf1046\n",
            "  Building wheel for regex (setup.py) ... \u001b[?25l\u001b[?25hdone\n",
            "  Created wheel for regex: filename=regex-2019.12.9-cp36-cp36m-linux_x86_64.whl size=609189 sha256=240669e3ca8e8bd408ecaf4ac20bbbcaa8a2e04ed071df684a6a097ecba96253\n",
            "  Stored in directory: /root/.cache/pip/wheels/0d/fb/b3/a89169557229468c49ca64f6839418f22461f6ee0a74f342b1\n",
            "  Building wheel for sacremoses (setup.py) ... \u001b[?25l\u001b[?25hdone\n",
            "  Created wheel for sacremoses: filename=sacremoses-0.0.35-cp36-none-any.whl size=883999 sha256=3925d7911c9d908632d0ecd9046fffb044c57b112a0ad389db68c08323478425\n",
            "  Stored in directory: /root/.cache/pip/wheels/63/2a/db/63e2909042c634ef551d0d9ac825b2b0b32dede4a6d87ddc94\n",
            "Successfully built ftfy regex sacremoses\n",
            "Installing collected packages: scikit-learn, python-twitter, sentencepiece, regex, sacremoses, transformers, ftfy, treeinterpreter\n",
            "  Found existing installation: scikit-learn 0.21.3\n",
            "    Uninstalling scikit-learn-0.21.3:\n",
            "      Successfully uninstalled scikit-learn-0.21.3\n",
            "Successfully installed ftfy-5.6 python-twitter-3.5 regex-2019.12.9 sacremoses-0.0.35 scikit-learn-0.22 sentencepiece-0.1.83 transformers-2.2.1 treeinterpreter-0.2.2\n",
            "Collecting langdetect\n",
            "\u001b[?25l  Downloading https://files.pythonhosted.org/packages/59/59/4bc44158a767a6d66de18c4136c8aa90491d56cc951c10b74dd1e13213c9/langdetect-1.0.7.zip (998kB)\n",
            "\u001b[K     |████████████████████████████████| 1.0MB 2.8MB/s \n",
            "\u001b[?25hRequirement already satisfied: six in /usr/local/lib/python3.6/dist-packages (from langdetect) (1.12.0)\n",
            "Building wheels for collected packages: langdetect\n",
            "  Building wheel for langdetect (setup.py) ... \u001b[?25l\u001b[?25hdone\n",
            "  Created wheel for langdetect: filename=langdetect-1.0.7-cp36-none-any.whl size=993460 sha256=cb6b0d2473c9a99466f4df8f5989c7b85a5ab27acbc650ab16f713840ba6e54e\n",
            "  Stored in directory: /root/.cache/pip/wheels/ec/0c/a9/1647275e7ef5014e7b83ff30105180e332867d65e7617ddafe\n",
            "Successfully built langdetect\n",
            "Installing collected packages: langdetect\n",
            "Successfully installed langdetect-1.0.7\n"
          ],
          "name": "stdout"
        }
      ]
    },
    {
      "cell_type": "markdown",
      "metadata": {
        "id": "Y-F7GEw-Emrr",
        "colab_type": "text"
      },
      "source": [
        "## Overview of Analysis Pipeline\n",
        "We use three information on a tweet: the post text, image, and alt text. Our analysis pipeline includes the following components:\n",
        "\n",
        "\n",
        "1.   **Data Collection**: Collect tweets from Twitter.\n",
        "2.   **Preprocessing**: Preprocess the collected tweets.\n",
        "3. **Quality Ratings**: Rate tweets' alt text quality to create class labels.\n",
        "4. **Feature Extraction**: Recognize tags and text from image. Create features from the post text, image, and alt text through NLP.\n",
        "5. **Classification Model Selection and Training**: Perform model selection through cross validation.\n",
        "6. **Model Parameter Tuning**: Fine tune the model parameter.\n",
        "7. **Training and Evaluating the Chosen Classifier**: Train the chosen classifier. Evaluate the model with multiple metrics.\n",
        "8. **Examining Misclassifications**: Examine mis-classified examples. \n",
        "9. **Using Classifier to Automatically Grade Alt Text**: Use our trained model to grade new alt text.\n"
      ]
    },
    {
      "cell_type": "markdown",
      "metadata": {
        "id": "xDN_nDs86URF",
        "colab_type": "text"
      },
      "source": [
        "## Data Collection"
      ]
    },
    {
      "cell_type": "markdown",
      "metadata": {
        "id": "sAgevzszJTQf",
        "colab_type": "text"
      },
      "source": [
        "We collect data (tweets) from Twitter using the [Twitter API](https://developer.twitter.com/en/docs), specificially by using the [python-twitter](https://python-twitter.readthedocs.io/en/latest) package."
      ]
    },
    {
      "cell_type": "code",
      "metadata": {
        "id": "0Nb2GkbZ7QCF",
        "colab_type": "code",
        "colab": {}
      },
      "source": [
        "# To use the Twitter API, you will need access tokens.\n",
        "# Get them here: https://developer.twitter.com/en/docs/basics/authentication/guides/access-tokens\n",
        "import twitter\n",
        "# Store access keys in file called config.py.\n",
        "from config import Config \n",
        "twitter_api = twitter.Api(consumer_key=Config.TWITTER_CONSUMER_KEY,\n",
        "                  consumer_secret=Config.TWITTER_CONSUMER_SECRET,\n",
        "                  access_token_key=Config.TWITTER_ACCESS_TOKEN_KEY,\n",
        "                  access_token_secret=Config.TWITTER_ACCESS_TOKEN_SECRET,\n",
        "                  tweet_mode='extended')"
      ],
      "execution_count": 0,
      "outputs": []
    },
    {
      "cell_type": "markdown",
      "metadata": {
        "id": "PswxWubcKW2Q",
        "colab_type": "text"
      },
      "source": [
        "Here we demonstrate how we collect tweets randomly, or from a single account--- we use both approaches."
      ]
    },
    {
      "cell_type": "markdown",
      "metadata": {
        "id": "nFEwEndF7fWP",
        "colab_type": "text"
      },
      "source": [
        "### Randomly Sampling Tweets\n",
        "\n",
        "This function collects N tweets randomly:"
      ]
    },
    {
      "cell_type": "code",
      "metadata": {
        "id": "1a4mmy8P7edo",
        "colab_type": "code",
        "outputId": "fce1e91e-d5e9-49d5-9980-34b167146c80",
        "colab": {
          "base_uri": "https://localhost:8080/",
          "height": 154
        }
      },
      "source": [
        "def random_sample_tweets(n=100):\n",
        "  \"\"\"\n",
        "  Pulls from a 1% sample of Twitter, and returns a list of n tweets once collected.\n",
        "  \"\"\"\n",
        "  random_sample = []\n",
        "  for tweet in twitter_api.GetStreamSample():\n",
        "    status = twitter.Status.NewFromJsonDict(tweet)\n",
        "    if status.user: # some of the objects returned here are delete messages, which we don't want to save\n",
        "      random_sample.append(status)\n",
        "      if len(random_sample) >= n:\n",
        "          break\n",
        "  return random_sample\n",
        "\n",
        "random_5 = random_sample_tweets(5)\n",
        "for tweet in random_5:\n",
        "  if tweet.user:\n",
        "    print(f\"{tweet.user.screen_name} tweeted: {tweet.text}\")"
      ],
      "execution_count": 0,
      "outputs": [
        {
          "output_type": "stream",
          "text": [
            "ssinum tweeted: RT @ghk8qwic2: 엄마 같은 스타일, 아빠 같은 스타일 https://t.co/T4ObdJN9jm\n",
            "dzWHoE0zzxUt5PB tweeted: @yousuck2020 羨ましい限りてす！\n",
            "1億円貰いたいです！\n",
            "takara0215_s tweeted: @orikero_TL \n",
            "マリリ嬢マジで可愛すぎるな(自惚れ)\n",
            "jU5JdPXTdbczWIn tweeted: RT @irasutoya: チョコチップメロンパンのイラスト https://t.co/NnrzxzEH2E\n",
            "Matheus54741198 tweeted: RT @emicigg_: É ruim dms você fazer questão da pessoa e ela caga pra vc e vc vê ela fazendo questão de outras pessoas  kkkk\n"
          ],
          "name": "stdout"
        }
      ]
    },
    {
      "cell_type": "markdown",
      "metadata": {
        "id": "xk80NyL697LS",
        "colab_type": "text"
      },
      "source": [
        "### Retrieving Tweets from a Specific User\n",
        "\n",
        "We can also collect tweets from a specific user. This function collects N tweets given a specific username, or all avalable tweets if None is given."
      ]
    },
    {
      "cell_type": "code",
      "metadata": {
        "id": "xHuKR4TW-DZf",
        "colab_type": "code",
        "colab": {}
      },
      "source": [
        "def get_user_tweets(screenname, n=100):\n",
        "  # if None is passed as the count parameter, we will retrieve all available tweets\n",
        "  if n == None:\n",
        "    remaining = 200\n",
        "  else:\n",
        "    remaining = n\n",
        "  max_id = None\n",
        "  rv = []\n",
        "  while remaining > 0:\n",
        "    tweets = twitter_api.GetUserTimeline(screen_name=screenname, count=remaining,\n",
        "                                    exclude_replies=True, max_id=max_id)\n",
        "    if len(tweets) == 0:\n",
        "      break\n",
        "    if n:\n",
        "      remaining -= len(tweets)\n",
        "    rv.extend(tweets)\n",
        "    max_id = tweets[-1].id_str\n",
        "  return rv"
      ],
      "execution_count": 0,
      "outputs": []
    },
    {
      "cell_type": "code",
      "metadata": {
        "id": "HtXiXk1v_pz1",
        "colab_type": "code",
        "outputId": "c9603aa8-09ba-4875-a013-cbdec5250435",
        "colab": {
          "base_uri": "https://localhost:8080/",
          "height": 70
        }
      },
      "source": [
        "# By passing None we will get all available tweets.\n",
        "tweets = get_user_tweets('SCSatCMU', n=None)\n",
        "print(f\"Collected {len(tweets)} tweets.\")\n",
        "print(\"Oldest tweet found: \", tweets[-1].full_text)"
      ],
      "execution_count": 0,
      "outputs": [
        {
          "output_type": "stream",
          "text": [
            "Collected 3250 tweets.\n",
            "Oldest tweet found:  Carnegie Mellon @nrec_cmu CHIMP robot will make rare appearance @projectolympus Show&amp;Tell Apr 14 https://t.co/NwjQbGdMwM\n"
          ],
          "name": "stdout"
        }
      ]
    },
    {
      "cell_type": "markdown",
      "metadata": {
        "id": "lmZSMWfq6cR0",
        "colab_type": "text"
      },
      "source": [
        "## Descriptive Statistics of Dataset and Preprocessing\n",
        "The dataset was collected in June 2018, and consists of tweets sampled over 5 days \\[5\\]. Of 9.22M tweets sampled, 1.09M contained images."
      ]
    },
    {
      "cell_type": "code",
      "metadata": {
        "id": "38PIqKEbxFwx",
        "colab_type": "code",
        "colab": {}
      },
      "source": [
        "# load dataset, extract alt text tweets\n",
        "import json\n",
        "import re\n",
        "import matplotlib.pyplot as plt\n",
        "import numpy as np\n",
        "import seaborn as sns\n",
        "import pandas as pd\n",
        "sns.set()\n",
        "%matplotlib inline"
      ],
      "execution_count": 0,
      "outputs": []
    },
    {
      "cell_type": "code",
      "metadata": {
        "id": "M3ZhWVlIu_cH",
        "colab_type": "code",
        "colab": {}
      },
      "source": [
        "# We collected 6 batches of data and named them as 1-6\n",
        "# We load them the following way\n",
        "twitter_count = 0\n",
        "alt_text = []\n",
        "for x in range(1,6):\n",
        "    with open(\"tweets_\"+ str(x) + \".txt\") as myfile:\n",
        "        head = myfile.readlines()\n",
        "        twitter_count = twitter_count + len(head)\n",
        "        for h in range(len(head)):\n",
        "            t = json.loads(head[h][:-1])\n",
        "            try:\n",
        "                atl = t[\"extended_entities\"]['media'][0]['ext_alt_text']  #get alt_tags\n",
        "                if atl != None:\n",
        "                    alt_text = alt_text + [t]\n",
        "            except:\n",
        "                pass\n",
        "\n",
        "# This piece of code is just for demonatration purpose as we are not goinig to include these files on the fly.\n",
        "# Our local version printed out:\n",
        "# The number of Tweets we have collected: 1091875"
      ],
      "execution_count": 0,
      "outputs": []
    },
    {
      "cell_type": "code",
      "metadata": {
        "id": "2gkN2tNVzDCM",
        "colab_type": "code",
        "colab": {}
      },
      "source": [
        "#After the previous step, we have obtained a pickle file contained all Tweets that contained alt_tags\n",
        "import pickle\n",
        "alt_text = pickle.load( open( \"alt_text_final.p\", \"rb\" ) )"
      ],
      "execution_count": 0,
      "outputs": []
    },
    {
      "cell_type": "code",
      "metadata": {
        "id": "z9iUdNFjzHur",
        "colab_type": "code",
        "outputId": "0b3f8ff5-2e90-42d1-ff9d-510bd50c8ca1",
        "colab": {
          "base_uri": "https://localhost:8080/",
          "height": 34
        }
      },
      "source": [
        "# the length of alt text without any filtering\n",
        "len(alt_text)"
      ],
      "execution_count": 0,
      "outputs": [
        {
          "output_type": "execute_result",
          "data": {
            "text/plain": [
              "1143"
            ]
          },
          "metadata": {
            "tags": []
          },
          "execution_count": 32
        }
      ]
    },
    {
      "cell_type": "code",
      "metadata": {
        "id": "MsUnVaqZzJ_4",
        "colab_type": "code",
        "outputId": "e6033798-437d-468a-a67b-f281a664781b",
        "colab": {
          "base_uri": "https://localhost:8080/",
          "height": 377
        }
      },
      "source": [
        "# We can print them out to have an impression about what the alt_texts are about\n",
        "for x in range (0,20):\n",
        "    print (alt_text[x]['extended_entities']['media'][0]['ext_alt_text'])"
      ],
      "execution_count": 0,
      "outputs": [
        {
          "output_type": "stream",
          "text": [
            "https://www.flickr.com/photos/maevalecoq/\n",
            "Suruç’da hastanede kameralar tahrip edilmiş, saldırı planlı görünüyor!\n",
            "http://contemporary-art-blog.tumblr.com/post/21933515681\n",
            "Image\n",
            "http://www.designboom.com/architecture/moon-hoon-interview-10-24-2014/\n",
            "Obama, Luis and your friend Lin\n",
            "http://archillect.com\n",
            "北と南の方角を示すイラスト。真ん中に十字模様があり、北にホッキョクグマ、南にペンギンが描かれている。\n",
            "http://an-addled-mind.tumblr.com/post/99323224073\n",
            "Girl posing In front of the blue YSL majorelle house in Morocco with a straw hat on\n",
            "http://archillect.com\n",
            "http://archillect.com\n",
            "Obama, Luis and your friend Lin\n",
            "https://www.flickr.com/photos/maevalecoq/\n",
            "Tony Hawk's Existential Nightmare (PS2, 2018)\n",
            "http://archillect.com\n",
            "Obama, Luis and your friend Lin\n",
            "“How to talk to the landlord:” left: says “no” above a happy landlord talking to a single tenant right: says “yes” above a sad landlord talking to a group of tenants\n",
            "Imagem de pinos usados para colocar cocaína decorados com bandeiras de alguns dos países participantes da Copa do Mundo de 2018\n",
            "Obama, Luis and your friend Lin\n"
          ],
          "name": "stdout"
        }
      ]
    },
    {
      "cell_type": "markdown",
      "metadata": {
        "id": "l3JZgOiia6FL",
        "colab_type": "text"
      },
      "source": [
        "There are many URLs from flicker, tumblr or archilletct, and non-English words, which we remove."
      ]
    },
    {
      "cell_type": "code",
      "metadata": {
        "id": "cPHiN6KkytkF",
        "colab_type": "code",
        "colab": {}
      },
      "source": [
        "#We define a helper method to help us filter out the urls \n",
        "def find_url(string): \n",
        "    url = re.findall('http[s]?://(?:[a-zA-Z]|[0-9]|[$-_@.&+]|[!*\\(\\), ]|(?:%[0-9a-fA-F][0-9a-fA-F]))+', string) \n",
        "    return url"
      ],
      "execution_count": 0,
      "outputs": []
    },
    {
      "cell_type": "code",
      "metadata": {
        "id": "p3j_OdyEzV_f",
        "colab_type": "code",
        "outputId": "09a12603-99c3-49b8-b476-2406a6986908",
        "colab": {
          "base_uri": "https://localhost:8080/",
          "height": 34
        }
      },
      "source": [
        "alt_filter_url = []\n",
        "\n",
        "for a in alt_text:\n",
        "    atl = a[\"extended_entities\"]['media'][0]['ext_alt_text'] \n",
        "    if find_url(atl) == []:\n",
        "        alt_filter_url = alt_filter_url + [a]\n",
        "print(\"Number of alt_tags after filtrering out URLs:\", len(alt_filter_url))"
      ],
      "execution_count": 0,
      "outputs": [
        {
          "output_type": "stream",
          "text": [
            "Number of alt_tags after filtrering out URLs: 505\n"
          ],
          "name": "stdout"
        }
      ]
    },
    {
      "cell_type": "code",
      "metadata": {
        "id": "KM0nmzsszX0Z",
        "colab_type": "code",
        "outputId": "40c74310-85a3-4374-cba5-783d0066fc20",
        "colab": {
          "base_uri": "https://localhost:8080/",
          "height": 34
        }
      },
      "source": [
        "#We then use a module called langdetect to detect English Tweets\n",
        "\n",
        "from langdetect import detect\n",
        "\n",
        "alt_filter_english = []\n",
        "\n",
        "for a in alt_filter_url:\n",
        "    atl = a[\"extended_entities\"]['media'][0]['ext_alt_text'] \n",
        "    try:\n",
        "        if detect(atl) == 'en':\n",
        "            alt_filter_english = alt_filter_english + [a]\n",
        "    except:\n",
        "        pass\n",
        "print(\"Number of alt_tags after filtrering out URLs and non-English Tweets :\", len(alt_filter_english))"
      ],
      "execution_count": 0,
      "outputs": [
        {
          "output_type": "stream",
          "text": [
            "Number of alt_tags after filtrering out URLs and non-English Tweets : 315\n"
          ],
          "name": "stdout"
        }
      ]
    },
    {
      "cell_type": "code",
      "metadata": {
        "id": "2rhAPRtKzZcQ",
        "colab_type": "code",
        "outputId": "6f8c33d1-b0c9-413f-8b69-11b5166f9474",
        "colab": {
          "base_uri": "https://localhost:8080/",
          "height": 34
        }
      },
      "source": [
        "# We tried to see the distribution of these posts. \n",
        "\n",
        "from collections import Counter\n",
        "\n",
        "alt_user = []\n",
        "for a in alt_filter_english:\n",
        "    alt_user = [a['user']['id']] + alt_user\n",
        "unique_alt_user =  list((set(alt_user)))\n",
        "dict_count = dict.fromkeys(unique_alt_user,0)\n",
        "for a in alt_filter_english:\n",
        "    user_id = a['user']['id']\n",
        "    dict_count[user_id] = dict_count[user_id] + 1\n",
        "Counter(dict_count.values())\n",
        "\n",
        "#Most users only post one Tweeet that contains Atl-tags."
      ],
      "execution_count": 0,
      "outputs": [
        {
          "output_type": "execute_result",
          "data": {
            "text/plain": [
              "Counter({1: 278, 2: 4, 3: 1, 4: 3, 7: 2})"
            ]
          },
          "metadata": {
            "tags": []
          },
          "execution_count": 39
        }
      ]
    },
    {
      "cell_type": "code",
      "metadata": {
        "id": "K5hCub4BzdbK",
        "colab_type": "code",
        "colab": {}
      },
      "source": [
        "# We then check their numbere of followers \n",
        "follower_count = []\n",
        "for a in alt_filter_english:\n",
        "    follower_count = follower_count + [a['user']['followers_count']]\n",
        "follower_count.sort()"
      ],
      "execution_count": 0,
      "outputs": []
    },
    {
      "cell_type": "code",
      "metadata": {
        "id": "otW-bHFkzfET",
        "colab_type": "code",
        "colab": {}
      },
      "source": [
        "id_follower = []\n",
        "processed_id = []\n",
        "for a in alt_filter_english:\n",
        "    follower = a['user']['followers_count']\n",
        "    user_name = a['user']['screen_name']\n",
        "    user_id = a['user']['id']\n",
        "    status_count = a['user']['statuses_count']\n",
        "    if user_id not in processed_id:\n",
        "            processed_id = [user_id] + processed_id    \n",
        "            id_follower = id_follower + [[user_name,user_id,follower,status_count]]"
      ],
      "execution_count": 0,
      "outputs": []
    },
    {
      "cell_type": "code",
      "metadata": {
        "id": "h5iVDFrJzgbT",
        "colab_type": "code",
        "colab": {}
      },
      "source": [
        "df = pd.DataFrame(data=id_follower)\n",
        "df.columns =['user_name', 'user_id','num_of_followers','status_count'] "
      ],
      "execution_count": 0,
      "outputs": []
    },
    {
      "cell_type": "code",
      "metadata": {
        "id": "GvsPXgDOzhwi",
        "colab_type": "code",
        "outputId": "cfc1520e-5b88-4de0-d445-c3bdb702e5ad",
        "colab": {
          "base_uri": "https://localhost:8080/",
          "height": 359
        }
      },
      "source": [
        "# Show users with Top 10 # of followers \n",
        "df.sort_values(by=['num_of_followers'],ascending=False).head(10)"
      ],
      "execution_count": 0,
      "outputs": [
        {
          "output_type": "execute_result",
          "data": {
            "text/html": [
              "<div>\n",
              "<style scoped>\n",
              "    .dataframe tbody tr th:only-of-type {\n",
              "        vertical-align: middle;\n",
              "    }\n",
              "\n",
              "    .dataframe tbody tr th {\n",
              "        vertical-align: top;\n",
              "    }\n",
              "\n",
              "    .dataframe thead th {\n",
              "        text-align: right;\n",
              "    }\n",
              "</style>\n",
              "<table border=\"1\" class=\"dataframe\">\n",
              "  <thead>\n",
              "    <tr style=\"text-align: right;\">\n",
              "      <th></th>\n",
              "      <th>user_name</th>\n",
              "      <th>user_id</th>\n",
              "      <th>num_of_followers</th>\n",
              "      <th>status_count</th>\n",
              "    </tr>\n",
              "  </thead>\n",
              "  <tbody>\n",
              "    <tr>\n",
              "      <th>140</th>\n",
              "      <td>SmarterTravel</td>\n",
              "      <td>14132853</td>\n",
              "      <td>311978</td>\n",
              "      <td>32597</td>\n",
              "    </tr>\n",
              "    <tr>\n",
              "      <th>211</th>\n",
              "      <td>MisfitsGG</td>\n",
              "      <td>3182089458</td>\n",
              "      <td>59583</td>\n",
              "      <td>6939</td>\n",
              "    </tr>\n",
              "    <tr>\n",
              "      <th>177</th>\n",
              "      <td>netstartraffic</td>\n",
              "      <td>74991659</td>\n",
              "      <td>34364</td>\n",
              "      <td>209886</td>\n",
              "    </tr>\n",
              "    <tr>\n",
              "      <th>151</th>\n",
              "      <td>robpegoraro</td>\n",
              "      <td>7301572</td>\n",
              "      <td>18255</td>\n",
              "      <td>44570</td>\n",
              "    </tr>\n",
              "    <tr>\n",
              "      <th>175</th>\n",
              "      <td>Meeea</td>\n",
              "      <td>271081057</td>\n",
              "      <td>12488</td>\n",
              "      <td>128948</td>\n",
              "    </tr>\n",
              "    <tr>\n",
              "      <th>176</th>\n",
              "      <td>MatthewOldridge</td>\n",
              "      <td>519071841</td>\n",
              "      <td>10051</td>\n",
              "      <td>43019</td>\n",
              "    </tr>\n",
              "    <tr>\n",
              "      <th>194</th>\n",
              "      <td>Iheartnoise</td>\n",
              "      <td>15273924</td>\n",
              "      <td>8482</td>\n",
              "      <td>237793</td>\n",
              "    </tr>\n",
              "    <tr>\n",
              "      <th>266</th>\n",
              "      <td>unchangingglow</td>\n",
              "      <td>148481078</td>\n",
              "      <td>7984</td>\n",
              "      <td>211486</td>\n",
              "    </tr>\n",
              "    <tr>\n",
              "      <th>31</th>\n",
              "      <td>TerryHa32444924</td>\n",
              "      <td>810654457096785900</td>\n",
              "      <td>7838</td>\n",
              "      <td>50283</td>\n",
              "    </tr>\n",
              "    <tr>\n",
              "      <th>9</th>\n",
              "      <td>BrittSabo</td>\n",
              "      <td>238867685</td>\n",
              "      <td>7385</td>\n",
              "      <td>77911</td>\n",
              "    </tr>\n",
              "  </tbody>\n",
              "</table>\n",
              "</div>"
            ],
            "text/plain": [
              "           user_name             user_id  num_of_followers  status_count\n",
              "140    SmarterTravel            14132853            311978         32597\n",
              "211        MisfitsGG          3182089458             59583          6939\n",
              "177   netstartraffic            74991659             34364        209886\n",
              "151      robpegoraro             7301572             18255         44570\n",
              "175            Meeea           271081057             12488        128948\n",
              "176  MatthewOldridge           519071841             10051         43019\n",
              "194      Iheartnoise            15273924              8482        237793\n",
              "266   unchangingglow           148481078              7984        211486\n",
              "31   TerryHa32444924  810654457096785900              7838         50283\n",
              "9          BrittSabo           238867685              7385         77911"
            ]
          },
          "metadata": {
            "tags": []
          },
          "execution_count": 44
        }
      ]
    },
    {
      "cell_type": "code",
      "metadata": {
        "id": "rH5pF61azo3J",
        "colab_type": "code",
        "outputId": "00ea75c4-a1a7-4915-8c27-597c9284c93f",
        "colab": {
          "base_uri": "https://localhost:8080/",
          "height": 268
        }
      },
      "source": [
        "# a distribution of number of followers for alt-tag posters.\n",
        "# It seems that the usage of alt tags is not related with # of followers\n",
        "follower_list = list(df.num_of_followers)\n",
        "follower_list.sort()\n",
        "plt.hist(follower_list[:-10], bins=50)\n",
        "plt.ylabel('# of followers per poster');"
      ],
      "execution_count": 0,
      "outputs": [
        {
          "output_type": "display_data",
          "data": {
            "image/png": "[encoded data removed]",
            "text/plain": [
              "<Figure size 432x288 with 1 Axes>"
            ]
          },
          "metadata": {
            "tags": []
          }
        }
      ]
    },
    {
      "cell_type": "code",
      "metadata": {
        "id": "h7joU6kCzpks",
        "colab_type": "code",
        "outputId": "69290dd8-1b6a-4ddd-b72f-f608852b9215",
        "colab": {
          "base_uri": "https://localhost:8080/",
          "height": 359
        }
      },
      "source": [
        "df.sort_values(by=['status_count'],ascending=False).head(10)"
      ],
      "execution_count": 0,
      "outputs": [
        {
          "output_type": "execute_result",
          "data": {
            "text/html": [
              "<div>\n",
              "<style scoped>\n",
              "    .dataframe tbody tr th:only-of-type {\n",
              "        vertical-align: middle;\n",
              "    }\n",
              "\n",
              "    .dataframe tbody tr th {\n",
              "        vertical-align: top;\n",
              "    }\n",
              "\n",
              "    .dataframe thead th {\n",
              "        text-align: right;\n",
              "    }\n",
              "</style>\n",
              "<table border=\"1\" class=\"dataframe\">\n",
              "  <thead>\n",
              "    <tr style=\"text-align: right;\">\n",
              "      <th></th>\n",
              "      <th>user_name</th>\n",
              "      <th>user_id</th>\n",
              "      <th>num_of_followers</th>\n",
              "      <th>status_count</th>\n",
              "    </tr>\n",
              "  </thead>\n",
              "  <tbody>\n",
              "    <tr>\n",
              "      <th>49</th>\n",
              "      <td>linkfinds</td>\n",
              "      <td>745712201093255200</td>\n",
              "      <td>3516</td>\n",
              "      <td>276064</td>\n",
              "    </tr>\n",
              "    <tr>\n",
              "      <th>5</th>\n",
              "      <td>Shasta_Otter</td>\n",
              "      <td>155477349</td>\n",
              "      <td>1559</td>\n",
              "      <td>274110</td>\n",
              "    </tr>\n",
              "    <tr>\n",
              "      <th>184</th>\n",
              "      <td>petermccue1</td>\n",
              "      <td>394093191</td>\n",
              "      <td>2738</td>\n",
              "      <td>250027</td>\n",
              "    </tr>\n",
              "    <tr>\n",
              "      <th>45</th>\n",
              "      <td>PiifernloveSJ</td>\n",
              "      <td>171407805</td>\n",
              "      <td>416</td>\n",
              "      <td>246317</td>\n",
              "    </tr>\n",
              "    <tr>\n",
              "      <th>120</th>\n",
              "      <td>MrSinister53</td>\n",
              "      <td>1475168784</td>\n",
              "      <td>4630</td>\n",
              "      <td>242620</td>\n",
              "    </tr>\n",
              "    <tr>\n",
              "      <th>194</th>\n",
              "      <td>Iheartnoise</td>\n",
              "      <td>15273924</td>\n",
              "      <td>8482</td>\n",
              "      <td>237793</td>\n",
              "    </tr>\n",
              "    <tr>\n",
              "      <th>266</th>\n",
              "      <td>unchangingglow</td>\n",
              "      <td>148481078</td>\n",
              "      <td>7984</td>\n",
              "      <td>211486</td>\n",
              "    </tr>\n",
              "    <tr>\n",
              "      <th>154</th>\n",
              "      <td>lilstur</td>\n",
              "      <td>1197589765</td>\n",
              "      <td>2174</td>\n",
              "      <td>210482</td>\n",
              "    </tr>\n",
              "    <tr>\n",
              "      <th>177</th>\n",
              "      <td>netstartraffic</td>\n",
              "      <td>74991659</td>\n",
              "      <td>34364</td>\n",
              "      <td>209886</td>\n",
              "    </tr>\n",
              "    <tr>\n",
              "      <th>222</th>\n",
              "      <td>HeatherSchultz</td>\n",
              "      <td>22029173</td>\n",
              "      <td>1509</td>\n",
              "      <td>207760</td>\n",
              "    </tr>\n",
              "  </tbody>\n",
              "</table>\n",
              "</div>"
            ],
            "text/plain": [
              "          user_name             user_id  num_of_followers  status_count\n",
              "49        linkfinds  745712201093255200              3516        276064\n",
              "5      Shasta_Otter           155477349              1559        274110\n",
              "184     petermccue1           394093191              2738        250027\n",
              "45    PiifernloveSJ           171407805               416        246317\n",
              "120    MrSinister53          1475168784              4630        242620\n",
              "194     Iheartnoise            15273924              8482        237793\n",
              "266  unchangingglow           148481078              7984        211486\n",
              "154         lilstur          1197589765              2174        210482\n",
              "177  netstartraffic            74991659             34364        209886\n",
              "222  HeatherSchultz            22029173              1509        207760"
            ]
          },
          "metadata": {
            "tags": []
          },
          "execution_count": 46
        }
      ]
    },
    {
      "cell_type": "code",
      "metadata": {
        "id": "Jpm2Hnbt0A3K",
        "colab_type": "code",
        "outputId": "3eea51c3-530b-4df5-808c-5781f071cd15",
        "colab": {
          "base_uri": "https://localhost:8080/",
          "height": 268
        }
      },
      "source": [
        "status_count_list = list(df.status_count)\n",
        "status_count_list.sort()\n",
        "plt.hist(status_count_list, bins=50)\n",
        "plt.ylabel('# of status per poster');"
      ],
      "execution_count": 0,
      "outputs": [
        {
          "output_type": "display_data",
          "data": {
            "image/png": "[encoded data removed]",
            "text/plain": [
              "<Figure size 432x288 with 1 Axes>"
            ]
          },
          "metadata": {
            "tags": []
          }
        }
      ]
    },
    {
      "cell_type": "code",
      "metadata": {
        "id": "Oj5XK5pY0DO7",
        "colab_type": "code",
        "outputId": "b821124d-1f40-4698-f8b2-79c1707b1f7e",
        "colab": {
          "base_uri": "https://localhost:8080/",
          "height": 34
        }
      },
      "source": [
        "# are they verified\n",
        "\n",
        "verified_count = 0\n",
        "for u in range(len(alt_filter_english)):\n",
        "    if alt_filter_english[u]['user']['verified'] == True:\n",
        "        verified_count = verified_count +1\n",
        "        \n",
        "print(verified_count, \"users are verified Twitter users.\")"
      ],
      "execution_count": 0,
      "outputs": [
        {
          "output_type": "stream",
          "text": [
            "4 users are verified Twitter users.\n"
          ],
          "name": "stdout"
        }
      ]
    },
    {
      "cell_type": "markdown",
      "metadata": {
        "id": "GwrfPnFexEBM",
        "colab_type": "text"
      },
      "source": [
        "## Quality Ratings"
      ]
    },
    {
      "cell_type": "markdown",
      "metadata": {
        "id": "jvJiLk29lkQO",
        "colab_type": "text"
      },
      "source": [
        "We load a subset of the collected dataset, with quality ratings from 0 (Irrelevant) to 3 (Great).\n",
        "\n",
        "0.   Irrelevant: the alt text is unrelated to the image (often like \"image\")\n",
        "1.   Somewhat relevant: the alt text is related to image but not descriptive. For example, it might just say \"dog\".\n",
        "2.   Good: One or more of actors, actions, and setting are described well in the image. Perhaps \"bob, our golden retriever\"\n",
        "3.   Great: All of actors, actions, and setting are described well. For example, \"Our golden retriever Bob is midair as he catches a frisbee in the field behind our house\"\n",
        "\n",
        "Full rubric [here](https://drive.google.com/file/d/1ggNGhZwzBviz417MZH5GbV2BanYjwgmQ/view?usp=sharing)."
      ]
    },
    {
      "cell_type": "code",
      "metadata": {
        "id": "d6PJ-MdVl8fd",
        "colab_type": "code",
        "outputId": "d2f184d0-45c5-4917-800b-b634ef906467",
        "colab": {
          "base_uri": "https://localhost:8080/",
          "height": 989
        }
      },
      "source": [
        "df = pd.read_csv('hand_rated_alt_text.csv', dtype=str)\n",
        "df.set_index(['tweet_id', 'image_index'], inplace=True) # a tweet can have more than one image\n",
        "df['post_text'].fillna('', inplace=True) # tweets don't need to have post text, so let's treat these as empty strings\n",
        "df = df[df.quality_rating.notnull()] # a few are unrated. we will remove them.\n",
        "df.alt_text = df.alt_text.astype(\"str\") # ensure all alt text has string datatype\n",
        "df.quality_rating = df.quality_rating.astype(\"int\") # treat the quality rating as an integer, not a float.\n",
        "cat_dtype = pd.api.types.CategoricalDtype(categories=[0,1,2,3], ordered=True) # now change it to a categorical type\n",
        "df.quality_rating = df.quality_rating.astype(cat_dtype)\n",
        "df"
      ],
      "execution_count": 0,
      "outputs": [
        {
          "output_type": "execute_result",
          "data": {
            "text/html": [
              "<div>\n",
              "<style scoped>\n",
              "    .dataframe tbody tr th:only-of-type {\n",
              "        vertical-align: middle;\n",
              "    }\n",
              "\n",
              "    .dataframe tbody tr th {\n",
              "        vertical-align: top;\n",
              "    }\n",
              "\n",
              "    .dataframe thead th {\n",
              "        text-align: right;\n",
              "    }\n",
              "</style>\n",
              "<table border=\"1\" class=\"dataframe\">\n",
              "  <thead>\n",
              "    <tr style=\"text-align: right;\">\n",
              "      <th></th>\n",
              "      <th></th>\n",
              "      <th>sample_name</th>\n",
              "      <th>author_screenname</th>\n",
              "      <th>author_userid</th>\n",
              "      <th>post_text</th>\n",
              "      <th>image_url</th>\n",
              "      <th>alt_text</th>\n",
              "      <th>quality_rating</th>\n",
              "    </tr>\n",
              "    <tr>\n",
              "      <th>tweet_id</th>\n",
              "      <th>image_index</th>\n",
              "      <th></th>\n",
              "      <th></th>\n",
              "      <th></th>\n",
              "      <th></th>\n",
              "      <th></th>\n",
              "      <th></th>\n",
              "      <th></th>\n",
              "    </tr>\n",
              "  </thead>\n",
              "  <tbody>\n",
              "    <tr>\n",
              "      <th>1006853723027640321</th>\n",
              "      <th>0</th>\n",
              "      <td>initial_94</td>\n",
              "      <td>SmarterTravel</td>\n",
              "      <td>14132853</td>\n",
              "      <td>Seven ultra-useful carry-on bags: https://t.co...</td>\n",
              "      <td>http://pbs.twimg.com/media/DfkQH34UcAE86J6.jpg</td>\n",
              "      <td>Woman with carry-on</td>\n",
              "      <td>2</td>\n",
              "    </tr>\n",
              "    <tr>\n",
              "      <th>1006727264762060802</th>\n",
              "      <th>0</th>\n",
              "      <td>initial_94</td>\n",
              "      <td>endless_lands</td>\n",
              "      <td>739933308365111298</td>\n",
              "      <td>Unfinished Mountain Principality https://t.co/...</td>\n",
              "      <td>http://pbs.twimg.com/media/DfidHJbX4AA-tRf.jpg</td>\n",
              "      <td>Unfinished Mountain Principality</td>\n",
              "      <td>1</td>\n",
              "    </tr>\n",
              "    <tr>\n",
              "      <th>1006732469897269249</th>\n",
              "      <th>0</th>\n",
              "      <td>initial_94</td>\n",
              "      <td>robpegoraro</td>\n",
              "      <td>7301572</td>\n",
              "      <td>Mr. @tynanwrites makes a friend at #CESAsia. h...</td>\n",
              "      <td>http://pbs.twimg.com/media/DfihrWJX4AAYXZW.jpg</td>\n",
              "      <td>Dan greets a robot carrying a tray of mints.</td>\n",
              "      <td>2</td>\n",
              "    </tr>\n",
              "    <tr>\n",
              "      <th>1006722718111289344</th>\n",
              "      <th>0</th>\n",
              "      <td>initial_94</td>\n",
              "      <td>CarRegNG</td>\n",
              "      <td>817038404311465984</td>\n",
              "      <td>Requirements to Pass VIO Computerized Road Wor...</td>\n",
              "      <td>http://pbs.twimg.com/media/DfiY-gBW0AA8NO7.jpg</td>\n",
              "      <td>New Vehicle Reg | Change of ownership | Paper ...</td>\n",
              "      <td>0</td>\n",
              "    </tr>\n",
              "    <tr>\n",
              "      <th>1006826871089221633</th>\n",
              "      <th>0</th>\n",
              "      <td>initial_94</td>\n",
              "      <td>dmartw</td>\n",
              "      <td>148753316</td>\n",
              "      <td>What's this about a #raccoon climbing a skyscr...</td>\n",
              "      <td>http://pbs.twimg.com/media/Dfj3s8UWsAEk1iq.jpg</td>\n",
              "      <td>Eric Cartman from South Park dressed as The Co...</td>\n",
              "      <td>3</td>\n",
              "    </tr>\n",
              "    <tr>\n",
              "      <th>...</th>\n",
              "      <th>...</th>\n",
              "      <td>...</td>\n",
              "      <td>...</td>\n",
              "      <td>...</td>\n",
              "      <td>...</td>\n",
              "      <td>...</td>\n",
              "      <td>...</td>\n",
              "      <td>...</td>\n",
              "    </tr>\n",
              "    <tr>\n",
              "      <th>1016686645523853312</th>\n",
              "      <th>0</th>\n",
              "      <td>sample_3_no_bots</td>\n",
              "      <td>mylittlefinger</td>\n",
              "      <td>17963349</td>\n",
              "      <td>Two Green bee-eaters https://t.co/93L57wcAau</td>\n",
              "      <td>http://pbs.twimg.com/media/Dhv_DOPU8AEt0p9.jpg</td>\n",
              "      <td>Green bee-eaters</td>\n",
              "      <td>2</td>\n",
              "    </tr>\n",
              "    <tr>\n",
              "      <th>1007654729835601922</th>\n",
              "      <th>0</th>\n",
              "      <td>sample_3_no_bots</td>\n",
              "      <td>SmarterTravel</td>\n",
              "      <td>14132853</td>\n",
              "      <td>A1: Beaches, of course! Some of our favorites ...</td>\n",
              "      <td>http://pbs.twimg.com/media/DfvoosQWAAIWvha.jpg</td>\n",
              "      <td>Beach sunset</td>\n",
              "      <td>2</td>\n",
              "    </tr>\n",
              "    <tr>\n",
              "      <th>991652298731479040</th>\n",
              "      <th>0</th>\n",
              "      <td>sample_3_no_bots</td>\n",
              "      <td>SmarterTravel</td>\n",
              "      <td>14132853</td>\n",
              "      <td>10 insanely affordable spring vacations you ca...</td>\n",
              "      <td>http://pbs.twimg.com/media/DcMOgmxW4AE6obq.jpg</td>\n",
              "      <td>Colorful Curacao</td>\n",
              "      <td>2</td>\n",
              "    </tr>\n",
              "    <tr>\n",
              "      <th>1019745874325524480</th>\n",
              "      <th>0</th>\n",
              "      <td>sample_3_no_bots</td>\n",
              "      <td>EkaterinaTrayt</td>\n",
              "      <td>1583302122</td>\n",
              "      <td>Forest Lair: More Lily Flowers [Daily Photo #8...</td>\n",
              "      <td>http://pbs.twimg.com/media/DibdVX-WAAAWP54.jpg</td>\n",
              "      <td>bright orange lily</td>\n",
              "      <td>2</td>\n",
              "    </tr>\n",
              "    <tr>\n",
              "      <th>995769929004707841</th>\n",
              "      <th>0</th>\n",
              "      <td>sample_3_no_bots</td>\n",
              "      <td>nfagerlund</td>\n",
              "      <td>14228309</td>\n",
              "      <td>They are really curious about what happens in ...</td>\n",
              "      <td>http://pbs.twimg.com/media/DdGvdpLX4AIHG7O.jpg</td>\n",
              "      <td>Halla-cat and Annabel-cat, waiting on the land...</td>\n",
              "      <td>3</td>\n",
              "    </tr>\n",
              "  </tbody>\n",
              "</table>\n",
              "<p>2018 rows × 7 columns</p>\n",
              "</div>"
            ],
            "text/plain": [
              "                                      sample_name  ... quality_rating\n",
              "tweet_id            image_index                    ...               \n",
              "1006853723027640321 0                  initial_94  ...              2\n",
              "1006727264762060802 0                  initial_94  ...              1\n",
              "1006732469897269249 0                  initial_94  ...              2\n",
              "1006722718111289344 0                  initial_94  ...              0\n",
              "1006826871089221633 0                  initial_94  ...              3\n",
              "...                                           ...  ...            ...\n",
              "1016686645523853312 0            sample_3_no_bots  ...              2\n",
              "1007654729835601922 0            sample_3_no_bots  ...              2\n",
              "991652298731479040  0            sample_3_no_bots  ...              2\n",
              "1019745874325524480 0            sample_3_no_bots  ...              2\n",
              "995769929004707841  0            sample_3_no_bots  ...              3\n",
              "\n",
              "[2018 rows x 7 columns]"
            ]
          },
          "metadata": {
            "tags": []
          },
          "execution_count": 7
        }
      ]
    },
    {
      "cell_type": "code",
      "metadata": {
        "id": "Z-tgkL6QmJln",
        "colab_type": "code",
        "colab": {}
      },
      "source": [
        "# Some of the rows are missing metadata (author, post text). \n",
        "# Let's fill those in using the twitter API.\n",
        "\n",
        "# select tweets missing author information\n",
        "missing_metadata = df[df['author_userid'].isna()]\n",
        "tweet_ids = missing_metadata.index.get_level_values(0).tolist()\n",
        "# get tweets from twitter api\n",
        "result = twitter_api.GetStatuses(tweet_ids, map=True)\n",
        "# create a new data frame from this data\n",
        "data = [(id,0,t.user.id_str,t.user.screen_name, t.text) for id,t in result.items() if t]\n",
        "df2 = pd.DataFrame(data, columns = ['tweet_id', 'image_index', 'author_userid', 'author_screenname', 'post_text'])\n",
        "df2.set_index(['tweet_id', 'image_index'], inplace=True)\n",
        "# update rows of original dataframe with new data\n",
        "df.update(df2)"
      ],
      "execution_count": 0,
      "outputs": []
    },
    {
      "cell_type": "code",
      "metadata": {
        "id": "7MRAv0SUTKFV",
        "colab_type": "code",
        "colab": {}
      },
      "source": [
        "# drop rows that start with urls\n",
        "url = df['alt_text'].map(lambda x: x.startswith('http://') or x.startswith('https://') if type(x) == str else False)\n",
        "df = df[~url]"
      ],
      "execution_count": 0,
      "outputs": []
    },
    {
      "cell_type": "code",
      "metadata": {
        "id": "qt-iHKV7tXQt",
        "colab_type": "code",
        "outputId": "15e22dc8-4db1-4da8-ca6b-a98718747061",
        "colab": {
          "base_uri": "https://localhost:8080/",
          "height": 282
        }
      },
      "source": [
        "# Let's see a distribution of the ratings.\n",
        "print(f\"Total remaining examples: {len(df)}\")\n",
        "df.quality_rating.value_counts(sort=False).plot(kind='bar');"
      ],
      "execution_count": 0,
      "outputs": [
        {
          "output_type": "stream",
          "text": [
            "Total remaining examples: 1980\n"
          ],
          "name": "stdout"
        },
        {
          "output_type": "display_data",
          "data": {
            "image/png": "[encoded data removed]",
            "text/plain": [
              "<Figure size 432x288 with 1 Axes>"
            ]
          },
          "metadata": {
            "tags": []
          }
        }
      ]
    },
    {
      "cell_type": "markdown",
      "metadata": {
        "id": "Rf_v2QMJarJJ",
        "colab_type": "text"
      },
      "source": [
        "The above plot shows rating distributions."
      ]
    },
    {
      "cell_type": "markdown",
      "metadata": {
        "id": "0yB8Ec9-f_mi",
        "colab_type": "text"
      },
      "source": [
        "## Feature Extraction\n",
        "Our goal is to create a classifier that can distinguish good from bad alt text. We use the post text, image, and alt text to create features."
      ]
    },
    {
      "cell_type": "markdown",
      "metadata": {
        "id": "ZQy0fD4VhOJg",
        "colab_type": "text"
      },
      "source": [
        "### Alt Text Perplexity\n",
        "Some people use alt text for search engine optimization. To penalize this, we measure perplexity using the GPT language model. When alt text is well-structured and probable, perplexity will be low."
      ]
    },
    {
      "cell_type": "code",
      "metadata": {
        "id": "kn7qeOcOYMRc",
        "colab_type": "code",
        "outputId": "72beb4e3-dbce-4836-a2eb-57b6f9190de9",
        "colab": {
          "base_uri": "https://localhost:8080/",
          "height": 146
        }
      },
      "source": [
        "import math\n",
        "import random\n",
        "import torch\n",
        "from transformers import OpenAIGPTTokenizer, OpenAIGPTLMHeadModel\n",
        "# Load pre-trained language model \n",
        "model = OpenAIGPTLMHeadModel.from_pretrained('openai-gpt')\n",
        "model.eval()\n",
        "# Load pre-trained model tokenizer\n",
        "tokenizer = OpenAIGPTTokenizer.from_pretrained('openai-gpt')\n",
        "def gpt_perplexity(sentence):\n",
        "    tokenize_input = tokenizer.tokenize(sentence)\n",
        "    # Because of how this GPT model is trained, the perplexity is not defined for documents with only one word. \n",
        "    # So we will set one-word alt text to have a perplexity of None for now, and we can address that later.\n",
        "    if len(tokenize_input) < 2:\n",
        "      return None\n",
        "    tensor_input = torch.tensor([tokenizer.convert_tokens_to_ids(tokenize_input)])\n",
        "    loss, logit = model(tensor_input, labels=tensor_input)\n",
        "    return math.exp(loss)"
      ],
      "execution_count": 0,
      "outputs": [
        {
          "output_type": "display_data",
          "data": {
            "text/html": [
              "<p style=\"color: red;\">\n",
              "The default version of TensorFlow in Colab will soon switch to TensorFlow 2.x.<br>\n",
              "We recommend you <a href=\"https://www.tensorflow.org/guide/migrate\" target=\"_blank\">upgrade</a> now \n",
              "or ensure your notebook will continue to use TensorFlow 1.x via the <code>%tensorflow_version 1.x</code> magic:\n",
              "<a href=\"https://colab.research.google.com/notebooks/tensorflow_version.ipynb\" target=\"_blank\">more info</a>.</p>\n"
            ],
            "text/plain": [
              "<IPython.core.display.HTML object>"
            ]
          },
          "metadata": {
            "tags": []
          }
        },
        {
          "output_type": "stream",
          "text": [
            "100%|██████████| 273/273 [00:00<00:00, 113359.57B/s]\n",
            "100%|██████████| 478750579/478750579 [00:37<00:00, 12622334.71B/s]\n",
            "100%|██████████| 815973/815973 [00:01<00:00, 752747.68B/s]\n",
            "100%|██████████| 458495/458495 [00:00<00:00, 516911.09B/s]\n"
          ],
          "name": "stderr"
        }
      ]
    },
    {
      "cell_type": "code",
      "metadata": {
        "id": "LvIdZsfeBz9i",
        "colab_type": "code",
        "outputId": "2e7f608c-e876-46bd-d642-6078f6268545",
        "colab": {
          "base_uri": "https://localhost:8080/",
          "height": 138
        }
      },
      "source": [
        "# Now we compute perplexisty for our dataset, saving to disk to save time later on.\n",
        "import os\n",
        "if not os.path.exists('perplexity.csv'):\n",
        "  df['perplexity'] = df.apply(lambda r: gpt_perplexity(r.alt_text), axis=1)\n",
        "  # save to file as it takes a while to compute\n",
        "  df['perplexity'].to_csv('perplexity.csv', header=True)\n",
        "else:\n",
        "  perp_df = pd.read_csv('perplexity.csv', header=0, dtype='str')\n",
        "  perp_df.set_index(['tweet_id', 'image_index'], inplace=True) # a tweet can have more than one image\n",
        "  df['perplexity'] = perp_df['perplexity'].astype(\"float\")\n"
      ],
      "execution_count": 0,
      "outputs": [
        {
          "output_type": "stream",
          "text": [
            "/usr/local/lib/python3.6/dist-packages/ipykernel_launcher.py:9: SettingWithCopyWarning: \n",
            "A value is trying to be set on a copy of a slice from a DataFrame.\n",
            "Try using .loc[row_indexer,col_indexer] = value instead\n",
            "\n",
            "See the caveats in the documentation: http://pandas.pydata.org/pandas-docs/stable/user_guide/indexing.html#returning-a-view-versus-a-copy\n",
            "  if __name__ == '__main__':\n"
          ],
          "name": "stderr"
        }
      ]
    },
    {
      "cell_type": "markdown",
      "metadata": {
        "id": "0K2NR3ggHFLq",
        "colab_type": "text"
      },
      "source": [
        "### Tags Describing Images\n",
        "We use the [Microsoft Cognitive Services API](https://azure.microsoft.com/en-us/services/cognitive-services/computer-vision/) to generate tags and recognize text from an image.\n",
        "\n",
        "Given the image URL, the tags of an image are recognized as a “bag of words”, including objects, scenes, and colors of the image."
      ]
    },
    {
      "cell_type": "code",
      "metadata": {
        "id": "eAeCovK6HaOR",
        "colab_type": "code",
        "outputId": "1dbb09a4-7f97-4726-966c-cda11e0bb4d7",
        "colab": {
          "base_uri": "https://localhost:8080/",
          "height": 184
        }
      },
      "source": [
        "import requests\n",
        "from IPython.display import Image\n",
        "from IPython.core.display import HTML \n",
        "\n",
        "def get_tags_and_objects(image_url):\n",
        "    \"\"\"Provides a caption given an image. Also includes tags, colors, dimensions, and confidence level.\"\"\"\n",
        "    analyze_url = \"https://eastus.api.cognitive.microsoft.com/vision/v2.0/analyze\"\n",
        "    headers = {'Ocp-Apim-Subscription-Key': Config.msft_subscription_key}\n",
        "    params = {'visualFeatures': 'Objects,Tags,Description'}\n",
        "    data = {'url': image_url}\n",
        "    response = requests.post(analyze_url, headers=headers,\n",
        "                             params=params, json=data)\n",
        "    try:\n",
        "        response.raise_for_status()\n",
        "    except:\n",
        "        print(f\"ERROR: {response.content}\")\n",
        "        return None\n",
        "    analysis = response.json()\n",
        "    rv = set(analysis[\"description\"]['tags'])\n",
        "    rv.update([o[\"object\"] for o in analysis['objects']])\n",
        "    return ' '.join(rv)\n",
        "\n",
        "image_url = df['image_url'][0]\n",
        "print(f\"Tags for first image: {get_tags_and_objects(image_url)}\")\n",
        "Image(url=image_url,width=400)"
      ],
      "execution_count": 0,
      "outputs": [
        {
          "output_type": "stream",
          "text": [
            "Tags for first image: city talking holding suitcase red girl building cellphone suit phone bag Luggage and bags outdoor lady standing person sidewalk luggage meter dog man wearing blue carrying woman black walking young street\n"
          ],
          "name": "stdout"
        },
        {
          "output_type": "execute_result",
          "data": {
            "text/html": [
              "<img src=\"http://pbs.twimg.com/media/DfkQH34UcAE86J6.jpg\" width=\"400\"/>"
            ],
            "text/plain": [
              "<IPython.core.display.Image object>"
            ]
          },
          "metadata": {
            "tags": []
          },
          "execution_count": 13
        }
      ]
    },
    {
      "cell_type": "markdown",
      "metadata": {
        "id": "mTeMAWBDOTd0",
        "colab_type": "text"
      },
      "source": [
        "### Text in Images\n",
        "\n",
        "Some images contain text, which should be in the alt text as well to be a good description. We use text recognition to extract these text."
      ]
    },
    {
      "cell_type": "code",
      "metadata": {
        "id": "xflLJY_zPd5I",
        "colab_type": "code",
        "outputId": "6da4440b-e8d7-4636-c1f7-310e2513c94b",
        "colab": {
          "base_uri": "https://localhost:8080/",
          "height": 325
        }
      },
      "source": [
        "def get_text_in_image(image_url):\n",
        "    \"\"\"Provides a caption given an image. Also includes tags, colors, dimensions, and confidence level.\"\"\"\n",
        "    analyze_url = \"https://eastus.api.cognitive.microsoft.com/vision/v2.0/ocr\"\n",
        "    headers = {'Ocp-Apim-Subscription-Key': Config.msft_subscription_key}\n",
        "    params = {}\n",
        "    data = {'url': image_url}\n",
        "    response = requests.post(analyze_url, headers=headers,\n",
        "                             params=params, json=data)\n",
        "    try:\n",
        "        response.raise_for_status()\n",
        "    except:\n",
        "        print(f\"ERROR: {response.content}\")\n",
        "        return None\n",
        "    analysis = response.json()\n",
        "    words = [w['text'] for r in analysis['regions'] for l in r['lines'] for w in l['words']]\n",
        "    return ' '.join(words)\n",
        "  \n",
        "image_url = 'http://pbs.twimg.com/media/DgMjXuUUwAE8_dn.jpg'\n",
        "print(f\"Text for image: {get_text_in_image(image_url)}\")\n",
        "Image(url=image_url,width=400)"
      ],
      "execution_count": 0,
      "outputs": [
        {
          "output_type": "stream",
          "text": [
            "Text for image: CarReg.com.ng 090 9014 4706 New Vehicle Registration, Change of ownership & Vehicle particulars renewal @CarRegNG + Home Delivery\n"
          ],
          "name": "stdout"
        },
        {
          "output_type": "execute_result",
          "data": {
            "text/html": [
              "<img src=\"http://pbs.twimg.com/media/DgMjXuUUwAE8_dn.jpg\" width=\"400\"/>"
            ],
            "text/plain": [
              "<IPython.core.display.Image object>"
            ]
          },
          "metadata": {
            "tags": []
          },
          "execution_count": 27
        }
      ]
    },
    {
      "cell_type": "markdown",
      "metadata": {
        "id": "EW5exTmwwMyN",
        "colab_type": "text"
      },
      "source": [
        "Let's use the above functions to get the tags and text for each image and combine them with the quality rating dataset:"
      ]
    },
    {
      "cell_type": "code",
      "metadata": {
        "id": "ngOY2cLMh2EZ",
        "colab_type": "code",
        "colab": {}
      },
      "source": [
        "# get tags and text for our datset\n",
        "\n",
        "import csv\n",
        "headers = ['tweet_id', 'image_url', 'text', 'tags']\n",
        "\n",
        "try:\n",
        "    with open('image_text_and_tags.csv', 'r') as infile:\n",
        "        reader = csv.reader(infile)\n",
        "        next(reader)\n",
        "        results = {r[1]:r for r in reader}\n",
        "except:\n",
        "    results = {}\n",
        "    \n",
        "for idx,r in df.iterrows():\n",
        "    if r.image_url in results:\n",
        "        continue\n",
        "    tags = get_tags_and_objects(r.image_url)\n",
        "    if tags == None:\n",
        "        tags = \"\"\n",
        "    else:\n",
        "        tags = \" \".join(tags)\n",
        "    text = get_text_in_image(r.image_url)\n",
        "    results[r.image_url] = (r.tweet_id, r.image_url, text, tags)\n",
        "    with open('image_text_and_tags.csv', 'w') as infile:\n",
        "        writer = csv.writer(infile)\n",
        "        writer.writerow(headers)\n",
        "        writer.writerows(results.values())"
      ],
      "execution_count": 0,
      "outputs": []
    },
    {
      "cell_type": "code",
      "metadata": {
        "id": "Nu-5l4yv6gi0",
        "colab_type": "code",
        "outputId": "f91a1bb6-737e-4fa3-8d43-c41c471520fb",
        "colab": {
          "base_uri": "https://localhost:8080/",
          "height": 1000
        }
      },
      "source": [
        "# Now that the image tags and text are extracted and saved, \n",
        "# we will load it from disk and combine it with the quality rating data.\n",
        "\n",
        "import numpy as np\n",
        "image_tags_df = pd.read_csv('image_text_and_tags.csv')\n",
        "image_tags_df.set_index('image_url', inplace=True)\n",
        "image_tags_df.drop(['tweet_id'], axis=1, inplace=True)\n",
        "image_tags_df.fillna('', inplace=True)\n",
        "df_w_text = df.join(image_tags_df, on=['image_url'])\n",
        "df_w_text['text_and_tags'] = df_w_text[['text', 'tags']].apply(lambda x: ' '.join(x), axis=1)\n",
        "# df_w_text.drop(['text','tags'], axis=1, inplace=True)\n",
        "df_w_text.replace('', np.nan, inplace=True)\n",
        "df_w_text.dropna(subset=['text_and_tags', 'alt_text', 'post_text'], inplace=True)\n",
        "df_w_text['text'] = df_w_text['text'].fillna('')\n",
        "df_w_text['tags'] = df_w_text['tags'].fillna('')\n",
        "df_w_text"
      ],
      "execution_count": 0,
      "outputs": [
        {
          "output_type": "execute_result",
          "data": {
            "text/html": [
              "<div>\n",
              "<style scoped>\n",
              "    .dataframe tbody tr th:only-of-type {\n",
              "        vertical-align: middle;\n",
              "    }\n",
              "\n",
              "    .dataframe tbody tr th {\n",
              "        vertical-align: top;\n",
              "    }\n",
              "\n",
              "    .dataframe thead th {\n",
              "        text-align: right;\n",
              "    }\n",
              "</style>\n",
              "<table border=\"1\" class=\"dataframe\">\n",
              "  <thead>\n",
              "    <tr style=\"text-align: right;\">\n",
              "      <th></th>\n",
              "      <th></th>\n",
              "      <th>sample_name</th>\n",
              "      <th>author_screenname</th>\n",
              "      <th>author_userid</th>\n",
              "      <th>post_text</th>\n",
              "      <th>image_url</th>\n",
              "      <th>alt_text</th>\n",
              "      <th>quality_rating</th>\n",
              "      <th>perplexity</th>\n",
              "      <th>text</th>\n",
              "      <th>tags</th>\n",
              "      <th>text_and_tags</th>\n",
              "    </tr>\n",
              "    <tr>\n",
              "      <th>tweet_id</th>\n",
              "      <th>image_index</th>\n",
              "      <th></th>\n",
              "      <th></th>\n",
              "      <th></th>\n",
              "      <th></th>\n",
              "      <th></th>\n",
              "      <th></th>\n",
              "      <th></th>\n",
              "      <th></th>\n",
              "      <th></th>\n",
              "      <th></th>\n",
              "      <th></th>\n",
              "    </tr>\n",
              "  </thead>\n",
              "  <tbody>\n",
              "    <tr>\n",
              "      <th>1006853723027640321</th>\n",
              "      <th>0</th>\n",
              "      <td>initial_94</td>\n",
              "      <td>SmarterTravel</td>\n",
              "      <td>14132853</td>\n",
              "      <td>Seven ultra-useful carry-on bags: https://t.co...</td>\n",
              "      <td>http://pbs.twimg.com/media/DfkQH34UcAE86J6.jpg</td>\n",
              "      <td>Woman with carry-on</td>\n",
              "      <td>2</td>\n",
              "      <td>82.400070</td>\n",
              "      <td></td>\n",
              "      <td>lady woman suitcase street red building city w...</td>\n",
              "      <td>lady woman suitcase street red building city ...</td>\n",
              "    </tr>\n",
              "    <tr>\n",
              "      <th>1006727264762060802</th>\n",
              "      <th>0</th>\n",
              "      <td>initial_94</td>\n",
              "      <td>endless_lands</td>\n",
              "      <td>739933308365111298</td>\n",
              "      <td>Unfinished Mountain Principality https://t.co/...</td>\n",
              "      <td>http://pbs.twimg.com/media/DfidHJbX4AA-tRf.jpg</td>\n",
              "      <td>Unfinished Mountain Principality</td>\n",
              "      <td>1</td>\n",
              "      <td>407.760973</td>\n",
              "      <td>ulinter's șpire</td>\n",
              "      <td>text clock</td>\n",
              "      <td>ulinter's șpire text clock</td>\n",
              "    </tr>\n",
              "    <tr>\n",
              "      <th>1006732469897269249</th>\n",
              "      <th>0</th>\n",
              "      <td>initial_94</td>\n",
              "      <td>robpegoraro</td>\n",
              "      <td>7301572</td>\n",
              "      <td>Mr. @tynanwrites makes a friend at #CESAsia. h...</td>\n",
              "      <td>http://pbs.twimg.com/media/DfihrWJX4AAYXZW.jpg</td>\n",
              "      <td>Dan greets a robot carrying a tray of mints.</td>\n",
              "      <td>2</td>\n",
              "      <td>160.495691</td>\n",
              "      <td></td>\n",
              "      <td>building standing young suit man woman people ...</td>\n",
              "      <td>building standing young suit man woman people...</td>\n",
              "    </tr>\n",
              "    <tr>\n",
              "      <th>1006722718111289344</th>\n",
              "      <th>0</th>\n",
              "      <td>initial_94</td>\n",
              "      <td>CarRegNG</td>\n",
              "      <td>817038404311465984</td>\n",
              "      <td>Requirements to Pass VIO Computerized Road Wor...</td>\n",
              "      <td>http://pbs.twimg.com/media/DfiY-gBW0AA8NO7.jpg</td>\n",
              "      <td>New Vehicle Reg | Change of ownership | Paper ...</td>\n",
              "      <td>0</td>\n",
              "      <td>259.129327</td>\n",
              "      <td>LAGOS STATE GOVERNMENT MINISTRY OF TRANSPORTAT...</td>\n",
              "      <td>drawing</td>\n",
              "      <td>LAGOS STATE GOVERNMENT MINISTRY OF TRANSPORTAT...</td>\n",
              "    </tr>\n",
              "    <tr>\n",
              "      <th>1006826871089221633</th>\n",
              "      <th>0</th>\n",
              "      <td>initial_94</td>\n",
              "      <td>dmartw</td>\n",
              "      <td>148753316</td>\n",
              "      <td>What's this about a #raccoon climbing a skyscr...</td>\n",
              "      <td>http://pbs.twimg.com/media/Dfj3s8UWsAEk1iq.jpg</td>\n",
              "      <td>Eric Cartman from South Park dressed as The Co...</td>\n",
              "      <td>3</td>\n",
              "      <td>242.611702</td>\n",
              "      <td></td>\n",
              "      <td>toy drawing doll</td>\n",
              "      <td>toy drawing doll</td>\n",
              "    </tr>\n",
              "    <tr>\n",
              "      <th>...</th>\n",
              "      <th>...</th>\n",
              "      <td>...</td>\n",
              "      <td>...</td>\n",
              "      <td>...</td>\n",
              "      <td>...</td>\n",
              "      <td>...</td>\n",
              "      <td>...</td>\n",
              "      <td>...</td>\n",
              "      <td>...</td>\n",
              "      <td>...</td>\n",
              "      <td>...</td>\n",
              "      <td>...</td>\n",
              "    </tr>\n",
              "    <tr>\n",
              "      <th>1016686645523853312</th>\n",
              "      <th>0</th>\n",
              "      <td>sample_3_no_bots</td>\n",
              "      <td>mylittlefinger</td>\n",
              "      <td>17963349</td>\n",
              "      <td>Two Green bee-eaters https://t.co/93L57wcAau</td>\n",
              "      <td>http://pbs.twimg.com/media/Dhv_DOPU8AEt0p9.jpg</td>\n",
              "      <td>Green bee-eaters</td>\n",
              "      <td>2</td>\n",
              "      <td>377.932553</td>\n",
              "      <td></td>\n",
              "      <td></td>\n",
              "      <td></td>\n",
              "    </tr>\n",
              "    <tr>\n",
              "      <th>1007654729835601922</th>\n",
              "      <th>0</th>\n",
              "      <td>sample_3_no_bots</td>\n",
              "      <td>SmarterTravel</td>\n",
              "      <td>14132853</td>\n",
              "      <td>A1: Beaches, of course! Some of our favorites ...</td>\n",
              "      <td>http://pbs.twimg.com/media/DfvoosQWAAIWvha.jpg</td>\n",
              "      <td>Beach sunset</td>\n",
              "      <td>2</td>\n",
              "      <td>153172.730017</td>\n",
              "      <td></td>\n",
              "      <td>sand track water ocean sunset nature body boat...</td>\n",
              "      <td>sand track water ocean sunset nature body boa...</td>\n",
              "    </tr>\n",
              "    <tr>\n",
              "      <th>991652298731479040</th>\n",
              "      <th>0</th>\n",
              "      <td>sample_3_no_bots</td>\n",
              "      <td>SmarterTravel</td>\n",
              "      <td>14132853</td>\n",
              "      <td>10 insanely affordable spring vacations you ca...</td>\n",
              "      <td>http://pbs.twimg.com/media/DcMOgmxW4AE6obq.jpg</td>\n",
              "      <td>Colorful Curacao</td>\n",
              "      <td>2</td>\n",
              "      <td>222.877739</td>\n",
              "      <td>Lüiiii</td>\n",
              "      <td>docked bridge harbor water people boat small l...</td>\n",
              "      <td>Lüiiii docked bridge harbor water people boat ...</td>\n",
              "    </tr>\n",
              "    <tr>\n",
              "      <th>1019745874325524480</th>\n",
              "      <th>0</th>\n",
              "      <td>sample_3_no_bots</td>\n",
              "      <td>EkaterinaTrayt</td>\n",
              "      <td>1583302122</td>\n",
              "      <td>Forest Lair: More Lily Flowers [Daily Photo #8...</td>\n",
              "      <td>http://pbs.twimg.com/media/DibdVX-WAAAWP54.jpg</td>\n",
              "      <td>bright orange lily</td>\n",
              "      <td>2</td>\n",
              "      <td>7440.276676</td>\n",
              "      <td></td>\n",
              "      <td>standing oranges plant sitting yellow blue ban...</td>\n",
              "      <td>standing oranges plant sitting yellow blue ba...</td>\n",
              "    </tr>\n",
              "    <tr>\n",
              "      <th>995769929004707841</th>\n",
              "      <th>0</th>\n",
              "      <td>sample_3_no_bots</td>\n",
              "      <td>nfagerlund</td>\n",
              "      <td>14228309</td>\n",
              "      <td>They are really curious about what happens in ...</td>\n",
              "      <td>http://pbs.twimg.com/media/DdGvdpLX4AIHG7O.jpg</td>\n",
              "      <td>Halla-cat and Annabel-cat, waiting on the land...</td>\n",
              "      <td>3</td>\n",
              "      <td>64.402998</td>\n",
              "      <td></td>\n",
              "      <td>building room brown standing dog sitting front...</td>\n",
              "      <td>building room brown standing dog sitting fron...</td>\n",
              "    </tr>\n",
              "  </tbody>\n",
              "</table>\n",
              "<p>1932 rows × 11 columns</p>\n",
              "</div>"
            ],
            "text/plain": [
              "                                      sample_name  ...                                      text_and_tags\n",
              "tweet_id            image_index                    ...                                                   \n",
              "1006853723027640321 0                  initial_94  ...   lady woman suitcase street red building city ...\n",
              "1006727264762060802 0                  initial_94  ...                         ulinter's șpire text clock\n",
              "1006732469897269249 0                  initial_94  ...   building standing young suit man woman people...\n",
              "1006722718111289344 0                  initial_94  ...  LAGOS STATE GOVERNMENT MINISTRY OF TRANSPORTAT...\n",
              "1006826871089221633 0                  initial_94  ...                                   toy drawing doll\n",
              "...                                           ...  ...                                                ...\n",
              "1016686645523853312 0            sample_3_no_bots  ...                                                   \n",
              "1007654729835601922 0            sample_3_no_bots  ...   sand track water ocean sunset nature body boa...\n",
              "991652298731479040  0            sample_3_no_bots  ...  Lüiiii docked bridge harbor water people boat ...\n",
              "1019745874325524480 0            sample_3_no_bots  ...   standing oranges plant sitting yellow blue ba...\n",
              "995769929004707841  0            sample_3_no_bots  ...   building room brown standing dog sitting fron...\n",
              "\n",
              "[1932 rows x 11 columns]"
            ]
          },
          "metadata": {
            "tags": []
          },
          "execution_count": 14
        }
      ]
    },
    {
      "cell_type": "markdown",
      "metadata": {
        "id": "srOIJYnafSVE",
        "colab_type": "text"
      },
      "source": [
        "### NLP: Text Similarity, Parts and Length of Alt Text \n",
        "\n",
        "From the image, alt text, and post text, we extract the following 10 features to be used by the classifier:\n",
        "\n",
        "1.       Cosine similarity between image tags and alt text\n",
        "\n",
        "2.       Similarity between post text and alt text\n",
        "\n",
        "3.       Similarity between text in image and alt text\n",
        "\n",
        "4.       (# of verbs) / (# of words) in alt text\n",
        "\n",
        "5.       (# of adjs) / (# of words) in alt text\n",
        "\n",
        "6.       (# of nouns) / (# of words) in alt text\n",
        "\n",
        "7.       Number of words in alt text\n",
        "\n",
        "8.       Number of characters in alt text\n",
        "\n",
        "9. Perplexity of alt text returned by GPT language model.\n",
        "\n",
        "10. Whether or not text is present in image.\n",
        "\n",
        "For each sample, we construct a corpus from its image tags, alt text, post text, and text in image to perform NLP.\n",
        "\n",
        "For feature 1, we first perform vectorization using term frequency (*tf*) for each corpus while removing stop words. Each corpus is for one sample and contains four strings: alt text, image tags, post text, and text in image (if there is no text in image, it is an empty string). URLs and unicode are removed from the corpus before vectorization. We then compute this cosine similarity using the *tf* vectors of alt text and image tags for each sample.\n",
        "\n",
        "We decided to use term frequency (*tf*) instead of *tfidf*. This is because we do not want to lower the weights of more frequently occurring words in this small corpus, since we actually want to see the same words occurring across the alt text and image tags, or across the alt text and post text. Since we filter out stop words when performing tokenization, we do not have to rely on *idf* to take care of frequently used words in English.\n",
        "\n",
        "For features 2 and 3, we use the spacy package to compute the document similarities between the post text and alt text, and between the text in image and alt text. Spacy computes similarity based on word embeddings, which is useful as people may describe objects with different names. For example, spacy represents \"cat\" and \"pet\" as fairly similar.\n",
        "\n",
        "However, for feature 1 we decided to use cosine similarity of *tf* vectors instead of spacy document similarity, since image tags are a set of independent words with no sentence structure or meaningful order. From our experiments, we found cosine similarity of *tf* vectors is more suitable for comparing image tags with alt text than spacy document similarity.\n",
        "\n",
        "For features 4, 5, and 6, we use the spacy package to calculate the verb, adjective, and noun counts in alt text.\n",
        "\n",
        "Feature 10 is a binary feature indicating if there is any text in the image. The alt text and image text similarity (feature 3) can be 0 for two cases: (1) there is text in image which is completely dissimilar to alt text, or (2) there is no text in image. In case 2, we do not want the classifier to mis-think the alt text did not do a good job to capture the text in image, so we use feature 10 to help the classifier distinguish between these two cases.\n",
        "\n",
        "We scale the values of features 6, 7, and 8 into the range of 0-1.  This is because the other features are all within the range of 0-1. To avoid the imbalance of features’ values which could cause problems in training the classifier, we perform this scaling.\n"
      ]
    },
    {
      "cell_type": "code",
      "metadata": {
        "id": "crnQXNhQfE-c",
        "colab_type": "code",
        "colab": {}
      },
      "source": [
        "import numpy as np\n",
        "from sklearn.feature_extraction.text import TfidfVectorizer\n",
        "from sklearn.feature_extraction.text import CountVectorizer\n",
        "from sklearn.metrics.pairwise import cosine_similarity\n",
        "import re\n",
        "import spacy\n",
        "from collections import Counter\n",
        "from sklearn import preprocessing\n",
        "\n",
        "import spacy.cli\n",
        "spacy.cli.download(\"en_core_web_lg\")"
      ],
      "execution_count": 0,
      "outputs": []
    },
    {
      "cell_type": "code",
      "metadata": {
        "id": "pVk-Ty3jj6Ne",
        "colab_type": "code",
        "colab": {}
      },
      "source": [
        "def vectorize_text_tfidf(corpus):\n",
        "\n",
        "    vectorizer = TfidfVectorizer(stop_words='english')\n",
        "    X = vectorizer.fit_transform(corpus)\n",
        "\n",
        "    tokens = vectorizer.get_feature_names()\n",
        "\n",
        "    return X, tokens\n",
        "\n",
        "def vectorize_text_tf(corpus):\n",
        "    \n",
        "    vectorizer = CountVectorizer(stop_words='english')\n",
        "    X = vectorizer.fit_transform(corpus)\n",
        "    \n",
        "    tokens = vectorizer.get_feature_names()\n",
        "    \n",
        "    return X, tokens\n",
        "\n",
        "def create_features(alt_text, image_words_text, post_text, image_ocr, perplexity, scaler=None):\n",
        "    \n",
        "    nlp = spacy.load(\"en_core_web_lg\")\n",
        "    n_samples = len(alt_text)\n",
        "    features_list = []\n",
        "    \n",
        "    # form a corpus for each image-alt_text pair\n",
        "    for i in range(n_samples):\n",
        "        raw_corpus = [alt_text[i], image_words_text[i], post_text[i], image_ocr[i]]\n",
        "        \n",
        "        # for each doc string in raw_corpus, filter out unicode and URL\n",
        "        corpus = []\n",
        "        for corpus_str in raw_corpus:\n",
        "            if not corpus_str:\n",
        "              corpus.append('')\n",
        "              continue\n",
        "            stripunicode = re.sub(r\"[^\\x00-\\x7f]\",r\" \", corpus_str)\n",
        "            removeURL = re.sub(r\"https://\\S+/[A-Za-z0-9]{10}\", \" \", stripunicode)\n",
        "            removeURL1 = re.sub(r\"http://\\S+/[A-Za-z0-9]{10}\", \" \", removeURL)\n",
        "            corpus.append(removeURL1)\n",
        "        \n",
        "        # get tf sparse matrix and tokens list\n",
        "        X, tokens = vectorize_text_tf(corpus)\n",
        "        alt_doc = nlp(corpus[0])\n",
        "        img_tags_doc = nlp(corpus[1])\n",
        "        post_doc = nlp(corpus[2])\n",
        "        image_text_doc =  nlp(corpus[3])\n",
        "\n",
        "        # compute cosine similarities\n",
        "        alt_image_similarity = cosine_similarity(X[0,:], X[1,:])[0,0]\n",
        "        alt_post_similarity = 0\n",
        "        alt_ocr_similarity = 0\n",
        "        if alt_doc.vector_norm:\n",
        "          alt_post_similarity = alt_doc.similarity(post_doc) if post_doc.vector_norm else 0\n",
        "          alt_ocr_similarity = alt_doc.similarity(image_text_doc) if image_text_doc.vector_norm else 0\n",
        "\n",
        "        # get verbs, adjs, nouns, word_count, char_count of alt text\n",
        "        word_list = corpus[0].split()\n",
        "        word_count = len(word_list)\n",
        "        text_in_img_bin = 1 if (len(corpus[3]) > 0) and (not corpus[3].isspace()) else 0\n",
        "        doc = nlp(corpus[0])\n",
        "        c = Counter([token.pos_ for token in doc])\n",
        "        verbs = c['VERB']/word_count\n",
        "        adjs = c['ADJ']/word_count\n",
        "        nouns = c['NOUN']/word_count\n",
        "        char_count = len(''.join(word_list))\n",
        "        features_list.append(np.array([alt_image_similarity, alt_post_similarity, alt_ocr_similarity, verbs, adjs, nouns, word_count, char_count, perplexity[i], text_in_img_bin]))\n",
        "        \n",
        "    # scaling the word_count, char_count, and perplexity to the range of 0-1\n",
        "    features_array = np.array(features_list)\n",
        "    if not scaler:\n",
        "      scaler = preprocessing.MinMaxScaler()\n",
        "      scaler.fit(features_array[:,[6,7,8]])\n",
        "    X_train_minmax = scaler.transform(features_array[:,[6,7,8]])\n",
        "    features_array[:,[6,7,8]] = X_train_minmax\n",
        "    \n",
        "    return features_array, scaler\n",
        "\n",
        "\n",
        "    "
      ],
      "execution_count": 0,
      "outputs": []
    },
    {
      "cell_type": "code",
      "metadata": {
        "id": "bd-GvO6ykGzE",
        "colab_type": "code",
        "colab": {}
      },
      "source": [
        "# load alt text, post text, and image words and text\n",
        "alt_text = df_w_text['alt_text']\n",
        "image_words_text = df_w_text['tags']\n",
        "post_text = df_w_text['post_text']\n",
        "image_ocr = df_w_text['text']\n",
        "\n",
        "# if any have perplexity = None, we will set that to the highest perplexity now,\n",
        "# as 1-word alt text is not a good example of well-structured sentances,\n",
        "# which is essentially what we are attempting to measure here.\n",
        "perplexity = df_w_text['perplexity'].fillna(np.max(df_w_text['perplexity']))\n",
        "\n",
        "# create features, saving the min-max scaler in case we want to scale future examples\n",
        "idx_array = df_w_text.index.to_list() # to keep track of samples later\n",
        "features_array, scaler = create_features(alt_text, image_words_text, post_text, image_ocr, perplexity)\n",
        "    \n",
        "# save features array to disk so they can be easily reloaded.\n",
        "np.savetxt('features.txt', features_array, fmt=\"%.14f\")\n",
        "np.savetxt('labels_multiclass.txt', df_w_text['quality_rating'], fmt=\"%d\")"
      ],
      "execution_count": 0,
      "outputs": []
    },
    {
      "cell_type": "markdown",
      "metadata": {
        "id": "oes9pkXqGNla",
        "colab_type": "text"
      },
      "source": [
        "## Classification Model Selection and Training\n",
        "\n",
        "We designed five classification models to perform model selection: Logistic Regression, SVM (linear kernel), SVM (poly kernel), SVM (rbf kernel), and Random Forest. The first two are linear classifiers while the last three are non-linear, since we want to try both linear and non-linear models. Our classifier is a multi-class classifier with four class labels (0, 1, 2, 3), each corresponding to a quality rating of alt text.\n",
        "\n",
        "We first split our dataset into a train set and a test set in a 4:1 ratio with random shuffling. We perform 5-fold cross validation for the five models, and compare the average CV accuracy to select the model with the highest CV accuracy.\n",
        "\n",
        "For Logistic Regression, since we are dealing with a multiclass problem, we choose the ‘lbfgs’ solver to handle multinomial loss.\n",
        "\n",
        "For SVM, we use linear, poly, and rbf kernels for three SVM models respectively. For poly kernel, we use the default degree 3. We set the kernel coefficient gamma to 'auto', which uses 1/n_features.\n",
        "\n",
        "For Random Forest, we use the number of trees (n_estimators) 100, for model selection.\n"
      ]
    },
    {
      "cell_type": "code",
      "metadata": {
        "id": "cYhQLUCbXMGV",
        "colab_type": "code",
        "colab": {}
      },
      "source": [
        "from sklearn.linear_model import LogisticRegression\n",
        "from sklearn.svm import SVC\n",
        "from sklearn.ensemble import RandomForestClassifier, RandomForestRegressor\n",
        "from sklearn.model_selection import train_test_split\n",
        "from sklearn.model_selection import cross_validate, cross_val_score\n",
        "from sklearn.metrics import accuracy_score, confusion_matrix, classification_report, mean_squared_error, cohen_kappa_score"
      ],
      "execution_count": 0,
      "outputs": []
    },
    {
      "cell_type": "code",
      "metadata": {
        "id": "Mx5criSYXRIq",
        "colab_type": "code",
        "colab": {}
      },
      "source": [
        "def logistic_regression():\n",
        "    \n",
        "    logreg = LogisticRegression(\n",
        "        random_state=0,\n",
        "        solver='lbfgs',\n",
        "        multi_class='multinomial')\n",
        "    \n",
        "    return logreg\n",
        "    \n",
        "def logistic_regression_fit(X, y):\n",
        "    \n",
        "    logreg = logistic_regression()\n",
        "    \n",
        "    logreg.fit(X, y)\n",
        "    \n",
        "    return logreg\n",
        "\n",
        "def support_vector(kernel):\n",
        "    # kernel: 'linear', 'poly', or 'rbf'\n",
        "    # use default degree for 'poly' kernel: (default=3)\n",
        "    \n",
        "    svc = SVC(random_state=0, gamma='auto', kernel=kernel)\n",
        "    \n",
        "    return svc\n",
        "\n",
        "def support_vector_fit(X, y, kernel):\n",
        "    \n",
        "    svc = support_vector(kernel)\n",
        "    \n",
        "    svc.fit(X, y)\n",
        "    \n",
        "    return svc\n",
        "\n",
        "def random_forest(n_estimators):\n",
        "\n",
        "    rf = RandomForestClassifier(n_estimators=n_estimators, random_state=0)\n",
        "\n",
        "    return rf\n",
        "\n",
        "def random_forest_fit(X, y, n_estimators):\n",
        "\n",
        "    rf = random_forest(n_estimators)\n",
        "\n",
        "    rf.fit(X, y)\n",
        "\n",
        "    return rf\n",
        "\n",
        "def cross_validation(estimator, X, y, cv):\n",
        "    \n",
        "    scores = cross_validate(estimator, X, y, cv=cv, scoring='accuracy')\n",
        "    \n",
        "    return scores['test_score']\n",
        "    "
      ],
      "execution_count": 0,
      "outputs": []
    },
    {
      "cell_type": "code",
      "metadata": {
        "id": "qskOgorjXd1w",
        "colab_type": "code",
        "outputId": "fac98a18-9b8c-44e2-81bc-912bd4441099",
        "colab": {
          "base_uri": "https://localhost:8080/",
          "height": 154
        }
      },
      "source": [
        "# load features and labels into np.array\n",
        "X = np.loadtxt(\"features.txt\")\n",
        "y = np.loadtxt(\"labels_multiclass.txt\")\n",
        "print(\"X shape:\", X.shape)\n",
        "print(\"y shape:\", y.shape)\n",
        "    \n",
        "# split train set and test set\n",
        "X_train, X_test, y_train, y_test, idx_train, idx_test = train_test_split(X, y, idx_array, test_size=0.2, random_state=42)\n",
        "\n",
        "# set up 5 models\n",
        "models = {\n",
        "    'Logistic Regression': logistic_regression(),\n",
        "    'SVC (linear kernel)': support_vector('linear'),\n",
        "    'SVC (poly kernel)': support_vector('poly'),\n",
        "    'SVC (rbf kernel)': support_vector('rbf'),\n",
        "    'Random Forest': random_forest(100)\n",
        "}\n",
        "\n",
        "for name, estimator in models.items():\n",
        "  # perform k-fold cross validation for each model\n",
        "  cv_accuracy = cross_validation(estimator, X_train, y_train, 5)\n",
        "  print(f\"{name}: CV average accuracy =\", np.mean(cv_accuracy), \"; CV fold's accuracy:\", cv_accuracy)"
      ],
      "execution_count": 0,
      "outputs": [
        {
          "output_type": "stream",
          "text": [
            "X shape: (1932, 10)\n",
            "y shape: (1932,)\n",
            "Logistic Regression: CV average accuracy = 0.5799352750809061 ; CV fold's accuracy: [0.59546926 0.60841424 0.56634304 0.55339806 0.57605178]\n",
            "SVC (linear kernel): CV average accuracy = 0.5838187702265373 ; CV fold's accuracy: [0.61488673 0.60517799 0.5631068  0.5631068  0.57281553]\n",
            "SVC (poly kernel): CV average accuracy = 0.29514563106796116 ; CV fold's accuracy: [0.29449838 0.29449838 0.29449838 0.29449838 0.29773463]\n",
            "SVC (rbf kernel): CV average accuracy = 0.5676375404530745 ; CV fold's accuracy: [0.60841424 0.5566343  0.55339806 0.5631068  0.5566343 ]\n",
            "Random Forest: CV average accuracy = 0.743042071197411 ; CV fold's accuracy: [0.76699029 0.7605178  0.73139159 0.76375405 0.69255663]\n"
          ],
          "name": "stdout"
        }
      ]
    },
    {
      "cell_type": "markdown",
      "metadata": {
        "id": "MYy7eYo8536z",
        "colab_type": "text"
      },
      "source": [
        "| Model | Logistic Regression | SVM (linear kernel) | SVM (poly kernel) | SVM (rbf kernel) | Random Forest |\n",
        "| --- | --- | --- | --- | --- | --- |\n",
        "| CV Accuracy | 58.0% | 58.4% | 29.5% | 56.8% | **74.3%** |\n",
        "\n",
        "We can see the ensemble, non-linear model Random Forest performed the best. Thus, we chose Random Forest as our classifier. SVM (poly) performed the worst. Other three models' CV accuracy are substantially lower than Random Forest’s. "
      ]
    },
    {
      "cell_type": "markdown",
      "metadata": {
        "id": "sJRVWPX02xCe",
        "colab_type": "text"
      },
      "source": [
        "## Model Parameter Tuning\n",
        "\n",
        "We now further tune the Random Forest parameter  n_estimators. We perform cross validation for a range of n_estimators: 60-200, and compare their CV accuracy. "
      ]
    },
    {
      "cell_type": "code",
      "metadata": {
        "id": "gKv9q_Hq7Jwm",
        "colab_type": "code",
        "outputId": "648b6532-ed78-4f1d-fe03-b548c0d458ab",
        "colab": {
          "base_uri": "https://localhost:8080/",
          "height": 805
        }
      },
      "source": [
        "# perform cross validation for a range of n_estimators: 60-200\n",
        "esitmator_values = []\n",
        "cv_values = []\n",
        "print(\"n_estimators \\t CV average accuracy \\t test accuracy\")\n",
        "\n",
        "for n_estimators in range(60, 201, 5):\n",
        "    # perform k-fold cross validation for Random Forest model\n",
        "    estimator = random_forest(n_estimators)\n",
        "    cv_accuracy = cross_validation(estimator, X_train, y_train, 5)\n",
        "\n",
        "    # train the Random Forest model using the train set\n",
        "    clf5 = random_forest_fit(X_train, y_train, n_estimators)\n",
        "\n",
        "    # evaluate the Random Forest model using the test set\n",
        "    y_pred = clf5.predict(X_test)\n",
        "    test_accuracy = accuracy_score(y_test, y_pred)\n",
        "\n",
        "    print(n_estimators, \"\\t\\t\", np.mean(cv_accuracy), \"\\t\", test_accuracy)\n",
        "\n",
        "    esitmator_values.append(n_estimators)\n",
        "    cv_values.append(np.mean(cv_accuracy))\n",
        "\n",
        "plt.figure()\n",
        "plt.plot(esitmator_values, cv_values)\n",
        "plt.ylim(0.736, 0.752)\n",
        "plt.xlabel(\"n_estimators\")\n",
        "plt.ylabel(\"accuracy\")\n",
        "plt.title(\"CV accuracy with various n_estimators\")\n",
        "\n",
        "plt.show()\n"
      ],
      "execution_count": 0,
      "outputs": [
        {
          "output_type": "stream",
          "text": [
            "n_estimators \t CV average accuracy \t test accuracy\n",
            "60 \t\t 0.7391585760517799 \t 0.7390180878552972\n",
            "65 \t\t 0.7385113268608415 \t 0.7390180878552972\n",
            "70 \t\t 0.7423948220064724 \t 0.7493540051679587\n",
            "75 \t\t 0.7404530744336569 \t 0.751937984496124\n",
            "80 \t\t 0.7398058252427184 \t 0.7493540051679587\n",
            "85 \t\t 0.7411003236245954 \t 0.751937984496124\n",
            "90 \t\t 0.7411003236245954 \t 0.7493540051679587\n",
            "95 \t\t 0.7436893203883495 \t 0.7493540051679587\n",
            "100 \t\t 0.743042071197411 \t 0.7545219638242894\n",
            "105 \t\t 0.7443365695792881 \t 0.7467700258397932\n",
            "110 \t\t 0.7404530744336569 \t 0.751937984496124\n",
            "115 \t\t 0.7475728155339806 \t 0.751937984496124\n",
            "120 \t\t 0.7469255663430421 \t 0.7545219638242894\n",
            "125 \t\t 0.748220064724919 \t 0.7493540051679587\n",
            "130 \t\t 0.7462783171521036 \t 0.7493540051679587\n",
            "135 \t\t 0.7436893203883496 \t 0.7467700258397932\n",
            "140 \t\t 0.741747572815534 \t 0.7467700258397932\n",
            "145 \t\t 0.7423948220064724 \t 0.7493540051679587\n",
            "150 \t\t 0.741747572815534 \t 0.7493540051679587\n",
            "155 \t\t 0.7423948220064724 \t 0.7467700258397932\n",
            "160 \t\t 0.7443365695792881 \t 0.751937984496124\n",
            "165 \t\t 0.743042071197411 \t 0.7467700258397932\n",
            "170 \t\t 0.7436893203883496 \t 0.7416020671834626\n",
            "175 \t\t 0.7443365695792881 \t 0.7467700258397932\n",
            "180 \t\t 0.7449838187702266 \t 0.7493540051679587\n",
            "185 \t\t 0.7436893203883496 \t 0.7441860465116279\n",
            "190 \t\t 0.7430420711974111 \t 0.7416020671834626\n",
            "195 \t\t 0.7436893203883496 \t 0.7467700258397932\n",
            "200 \t\t 0.7443365695792881 \t 0.7467700258397932\n"
          ],
          "name": "stdout"
        },
        {
          "output_type": "display_data",
          "data": {
            "image/png": "[encoded data removed]",
            "text/plain": [
              "<Figure size 432x288 with 1 Axes>"
            ]
          },
          "metadata": {
            "tags": []
          }
        }
      ]
    },
    {
      "cell_type": "markdown",
      "metadata": {
        "id": "QufZuDva-9ng",
        "colab_type": "text"
      },
      "source": [
        "In the CV accuracy curve, there is a peak around the range of 115-125 with slight fluctuations. We choose the middle point of this peak as our optimal parameter: n_estimators = 120."
      ]
    },
    {
      "cell_type": "markdown",
      "metadata": {
        "id": "4STooOGQ21B7",
        "colab_type": "text"
      },
      "source": [
        "## Training and Evaluating the Chosen Classifier\n",
        "\n",
        "Let's train the Random Forest model with the tuned parameter using full train set, and evaluate the trained model using the test set."
      ]
    },
    {
      "cell_type": "code",
      "metadata": {
        "id": "MimC8dDa26VN",
        "colab_type": "code",
        "outputId": "1707296c-b2e9-4278-8c28-1b1fbcf61709",
        "colab": {
          "base_uri": "https://localhost:8080/",
          "height": 34
        }
      },
      "source": [
        "chosen_clf = random_forest_fit(X_train, y_train, 120)\n",
        "y_pred = chosen_clf.predict(X_test)\n",
        "test_accuracy = accuracy_score(y_test, y_pred)\n",
        "print(\"Random Forest: test accuracy =\", test_accuracy)"
      ],
      "execution_count": 0,
      "outputs": [
        {
          "output_type": "stream",
          "text": [
            "Random Forest: test accuracy = 0.7545219638242894\n"
          ],
          "name": "stdout"
        }
      ]
    },
    {
      "cell_type": "markdown",
      "metadata": {
        "id": "X_mZ3e95fZA7",
        "colab_type": "text"
      },
      "source": [
        "### Accuracy, Precision, Recall, and F1-Score"
      ]
    },
    {
      "cell_type": "code",
      "metadata": {
        "id": "g-nqiuXwRWvh",
        "colab_type": "code",
        "outputId": "bd827130-5f24-4391-e44c-a627eb54b729",
        "colab": {
          "base_uri": "https://localhost:8080/",
          "height": 202
        }
      },
      "source": [
        "class_names = ['Irrelevant', 'Relevant', 'Good', 'Great']\n",
        "print(classification_report(y_test, y_pred, target_names=class_names))"
      ],
      "execution_count": 0,
      "outputs": [
        {
          "output_type": "stream",
          "text": [
            "              precision    recall  f1-score   support\n",
            "\n",
            "  Irrelevant       0.90      0.84      0.87        68\n",
            "    Relevant       0.63      0.68      0.66        87\n",
            "        Good       0.69      0.68      0.69       127\n",
            "       Great       0.84      0.86      0.85       105\n",
            "\n",
            "    accuracy                           0.75       387\n",
            "   macro avg       0.77      0.76      0.77       387\n",
            "weighted avg       0.76      0.75      0.76       387\n",
            "\n"
          ],
          "name": "stdout"
        }
      ]
    },
    {
      "cell_type": "markdown",
      "metadata": {
        "id": "UMpZ4_kaDdJQ",
        "colab_type": "text"
      },
      "source": [
        "We can see the classes Irrelevant (0) and Great (3) have higher precision, recall, and f1-score than the middle classes Relevant (1) and Good (2). This difference is furthter examined through confusion matrix."
      ]
    },
    {
      "cell_type": "markdown",
      "metadata": {
        "id": "PwgvkM6xT3Ni",
        "colab_type": "text"
      },
      "source": [
        "### Confusion Matrix"
      ]
    },
    {
      "cell_type": "code",
      "metadata": {
        "id": "r6Ze4K-gIqIm",
        "colab_type": "code",
        "outputId": "5def69ef-88c9-4a6d-96e1-06b3844ba48f",
        "colab": {
          "base_uri": "https://localhost:8080/",
          "height": 285
        }
      },
      "source": [
        "from sklearn.metrics import plot_confusion_matrix\n",
        "plot_confusion_matrix(chosen_clf, X_test, y_test,\n",
        "                                 display_labels=class_names,\n",
        "                                 cmap=plt.cm.Blues,\n",
        "                                 normalize='true');\n",
        "plt.grid(None)"
      ],
      "execution_count": 0,
      "outputs": [
        {
          "output_type": "display_data",
          "data": {
            "image/png": "[encoded data removed]",
            "text/plain": [
              "<Figure size 432x288 with 2 Axes>"
            ]
          },
          "metadata": {
            "tags": []
          }
        }
      ]
    },
    {
      "cell_type": "markdown",
      "metadata": {
        "id": "wIa3wMDU5Thy",
        "colab_type": "text"
      },
      "source": [
        "The light corners indicate that most misclassification is happening just up or down one level, not from one end of the scale (0) to another (3). We see the most misclassification between the levels 1 and 2, the middle classes. Our hypothesis is that these classes are not easily distinguished, even for human raters, and therefore perhaps the rubric and rating scale needs to be adjusted. Alternatively, there might be other features we can examine to help distinguish between those cases."
      ]
    },
    {
      "cell_type": "markdown",
      "metadata": {
        "id": "i-YVqIofjBfk",
        "colab_type": "text"
      },
      "source": [
        "### Inter-Rater Reliability\n",
        "When two or more people rate samples, it is useful to see how well they agree. This can be computed using the metric inter-rater reliability, and one version of it involves computing Cohen's Kappa \\[6\\]. For reference, when two humans applied the same rubric to this dataset, they recieved a weighted Cohen's Kappa of 0.76, which can be interpreted as substantial agreement."
      ]
    },
    {
      "cell_type": "code",
      "metadata": {
        "id": "DWsa716EkcsP",
        "colab_type": "code",
        "outputId": "7c8a96ec-fcf9-4b95-8a87-8648a040abdd",
        "colab": {
          "base_uri": "https://localhost:8080/",
          "height": 34
        }
      },
      "source": [
        "from sklearn.metrics import cohen_kappa_score\n",
        "print(\"Weighted Cohen's Kappa =\", cohen_kappa_score(y_test, y_pred, weights='linear'))"
      ],
      "execution_count": 0,
      "outputs": [
        {
          "output_type": "stream",
          "text": [
            "Weighted Cohen's Kappa = 0.7682901554404146\n"
          ],
          "name": "stdout"
        }
      ]
    },
    {
      "cell_type": "markdown",
      "metadata": {
        "id": "kYGmjlmCkzQh",
        "colab_type": "text"
      },
      "source": [
        "This result indicates our classifier has about as much agreement with a human set of quality ratings as other human raters do."
      ]
    },
    {
      "cell_type": "markdown",
      "metadata": {
        "id": "m0LuoDr2PQwJ",
        "colab_type": "text"
      },
      "source": [
        "## Feature Importance"
      ]
    },
    {
      "cell_type": "code",
      "metadata": {
        "id": "8sdgO5ofP6DU",
        "colab_type": "code",
        "outputId": "b855df3f-83ed-4c68-f02c-2008f9509aa4",
        "colab": {
          "base_uri": "https://localhost:8080/",
          "height": 305
        }
      },
      "source": [
        "import matplotlib.pyplot as plt\n",
        "feature_names = ['alt_tags_sim', 'alt_post_sim', 'alt_ocr_sim', 'verbs', 'adjs', 'nouns', 'word_count', 'char_count', 'perplexity','text_present']\n",
        "importances = pd.DataFrame(chosen_clf.feature_importances_,\n",
        "                                   index = feature_names,\n",
        "                                   columns=['importance'])\n",
        "order = importances['importance'].sort_values(ascending=False)\n",
        "plt.figure(figsize=(12,4))\n",
        "plt.title(\"Feature importances\")\n",
        "plt.bar(range(X_train.shape[1]), importances.loc[order.index]['importance'],\n",
        "       color=\"r\", align=\"center\")\n",
        "plt.xticks(range(X_train.shape[1]), order.index)\n",
        "plt.xlim([-1, X.shape[1]])\n",
        "plt.show()"
      ],
      "execution_count": 0,
      "outputs": [
        {
          "output_type": "display_data",
          "data": {
            "image/png": "[encoded data removed]",
            "text/plain": [
              "<Figure size 864x288 with 1 Axes>"
            ]
          },
          "metadata": {
            "tags": []
          }
        }
      ]
    },
    {
      "cell_type": "markdown",
      "metadata": {
        "id": "E33oqXgUW8lS",
        "colab_type": "text"
      },
      "source": [
        "The similarity between the post text and the alt text is the highest feature, with almost 25% of the importance. Next we have character count, and word count is #4, both are proxies for length. Perplexity ranks high as well as the percent of nouns, these are proxies for structure and coverage of objects in the alt text."
      ]
    },
    {
      "cell_type": "markdown",
      "metadata": {
        "id": "_X-Hx0q3X-8m",
        "colab_type": "text"
      },
      "source": [
        "## Examining Misclassifications\n",
        "First we examine the egregious case where the classifier was on the entire wrong side of the scale."
      ]
    },
    {
      "cell_type": "code",
      "metadata": {
        "id": "pfq3d0KrY-xj",
        "colab_type": "code",
        "outputId": "35b83c3d-1dd4-481f-9aad-15e46f393c90",
        "colab": {
          "base_uri": "https://localhost:8080/",
          "height": 160
        }
      },
      "source": [
        "errors = abs((y_test - y_pred).astype(int)) # how far off the classifier was\n",
        "idxs = pd.Index(np.array(idx_test)[(errors == 3)])\n",
        "rows = df_w_text.loc[idxs]\n",
        "rows"
      ],
      "execution_count": 0,
      "outputs": [
        {
          "output_type": "execute_result",
          "data": {
            "text/html": [
              "<div>\n",
              "<style scoped>\n",
              "    .dataframe tbody tr th:only-of-type {\n",
              "        vertical-align: middle;\n",
              "    }\n",
              "\n",
              "    .dataframe tbody tr th {\n",
              "        vertical-align: top;\n",
              "    }\n",
              "\n",
              "    .dataframe thead th {\n",
              "        text-align: right;\n",
              "    }\n",
              "</style>\n",
              "<table border=\"1\" class=\"dataframe\">\n",
              "  <thead>\n",
              "    <tr style=\"text-align: right;\">\n",
              "      <th></th>\n",
              "      <th></th>\n",
              "      <th>sample_name</th>\n",
              "      <th>author_screenname</th>\n",
              "      <th>author_userid</th>\n",
              "      <th>post_text</th>\n",
              "      <th>image_url</th>\n",
              "      <th>alt_text</th>\n",
              "      <th>quality_rating</th>\n",
              "      <th>perplexity</th>\n",
              "      <th>text</th>\n",
              "      <th>tags</th>\n",
              "      <th>text_and_tags</th>\n",
              "    </tr>\n",
              "    <tr>\n",
              "      <th>tweet_id</th>\n",
              "      <th>image_index</th>\n",
              "      <th></th>\n",
              "      <th></th>\n",
              "      <th></th>\n",
              "      <th></th>\n",
              "      <th></th>\n",
              "      <th></th>\n",
              "      <th></th>\n",
              "      <th></th>\n",
              "      <th></th>\n",
              "      <th></th>\n",
              "      <th></th>\n",
              "    </tr>\n",
              "  </thead>\n",
              "  <tbody>\n",
              "    <tr>\n",
              "      <th>1014381132639555584</th>\n",
              "      <th>0</th>\n",
              "      <td>sample_3_no_bots</td>\n",
              "      <td>mylittlefinger</td>\n",
              "      <td>17963349</td>\n",
              "      <td>Leafbird hiding in leaves. https://t.co/IcCO05...</td>\n",
              "      <td>http://pbs.twimg.com/media/DhPODPRWsAA6OQl.jpg</td>\n",
              "      <td>Leafbird hiding in leaves.</td>\n",
              "      <td>3</td>\n",
              "      <td>211.850176</td>\n",
              "      <td></td>\n",
              "      <td></td>\n",
              "      <td></td>\n",
              "    </tr>\n",
              "  </tbody>\n",
              "</table>\n",
              "</div>"
            ],
            "text/plain": [
              "                                      sample_name  ... text_and_tags\n",
              "tweet_id            image_index                    ...              \n",
              "1014381132639555584 0            sample_3_no_bots  ...              \n",
              "\n",
              "[1 rows x 11 columns]"
            ]
          },
          "metadata": {
            "tags": []
          },
          "execution_count": 65
        }
      ]
    },
    {
      "cell_type": "code",
      "metadata": {
        "id": "SRRUx_fuau0q",
        "colab_type": "code",
        "outputId": "5e537e86-acd8-440f-bd0d-e6088f476090",
        "colab": {
          "base_uri": "https://localhost:8080/",
          "height": 37
        }
      },
      "source": [
        "Image(url=rows.loc[idxs[0], 'image_url'])"
      ],
      "execution_count": 0,
      "outputs": [
        {
          "output_type": "execute_result",
          "data": {
            "text/html": [
              "<img src=\"http://pbs.twimg.com/media/DhPODPRWsAA6OQl.jpg\"/>"
            ],
            "text/plain": [
              "<IPython.core.display.Image object>"
            ]
          },
          "metadata": {
            "tags": []
          },
          "execution_count": 66
        }
      ]
    },
    {
      "cell_type": "markdown",
      "metadata": {
        "id": "X_g4bedubRyC",
        "colab_type": "text"
      },
      "source": [
        "The tweet has been deleted. That lead to no tags or text being found in the image, which could be why it was not rated highly.\n",
        "\n",
        "Let's move on to images where the classifier was only two levels off."
      ]
    },
    {
      "cell_type": "code",
      "metadata": {
        "id": "AmUlsSP9bkyW",
        "colab_type": "code",
        "outputId": "04c97902-9f31-437f-e32c-1f037ee5ee7e",
        "colab": {
          "base_uri": "https://localhost:8080/",
          "height": 858
        }
      },
      "source": [
        "idxs = pd.Index(np.array(idx_test)[(errors == 2)])\n",
        "rows = df_w_text.loc[idxs]\n",
        "rows[['image_url', 'alt_text','text','tags','perplexity', 'quality_rating']]"
      ],
      "execution_count": 0,
      "outputs": [
        {
          "output_type": "execute_result",
          "data": {
            "text/html": [
              "<div>\n",
              "<style scoped>\n",
              "    .dataframe tbody tr th:only-of-type {\n",
              "        vertical-align: middle;\n",
              "    }\n",
              "\n",
              "    .dataframe tbody tr th {\n",
              "        vertical-align: top;\n",
              "    }\n",
              "\n",
              "    .dataframe thead th {\n",
              "        text-align: right;\n",
              "    }\n",
              "</style>\n",
              "<table border=\"1\" class=\"dataframe\">\n",
              "  <thead>\n",
              "    <tr style=\"text-align: right;\">\n",
              "      <th></th>\n",
              "      <th></th>\n",
              "      <th>image_url</th>\n",
              "      <th>alt_text</th>\n",
              "      <th>text</th>\n",
              "      <th>tags</th>\n",
              "      <th>perplexity</th>\n",
              "      <th>quality_rating</th>\n",
              "    </tr>\n",
              "    <tr>\n",
              "      <th>tweet_id</th>\n",
              "      <th>image_index</th>\n",
              "      <th></th>\n",
              "      <th></th>\n",
              "      <th></th>\n",
              "      <th></th>\n",
              "      <th></th>\n",
              "      <th></th>\n",
              "    </tr>\n",
              "  </thead>\n",
              "  <tbody>\n",
              "    <tr>\n",
              "      <th>827249145576517632</th>\n",
              "      <th>0</th>\n",
              "      <td>http://pbs.twimg.com/media/C3r6RHMUYAAP0zj.jpg</td>\n",
              "      <td>level rod in foreground, man on level gun in t...</td>\n",
              "      <td>746 5 443 2 1</td>\n",
              "      <td>dirt water people sign pole covered sitting sl...</td>\n",
              "      <td>515.495775</td>\n",
              "      <td>1</td>\n",
              "    </tr>\n",
              "    <tr>\n",
              "      <th>1031931873868439554</th>\n",
              "      <th>0</th>\n",
              "      <td>http://pbs.twimg.com/media/DlIokPuV4AANaO7.jpg</td>\n",
              "      <td>JESSIE  TEAM ROCKET - POKEMON - JinxKittie Cos...</td>\n",
              "      <td>JINXKITTIE COSPLAY</td>\n",
              "      <td>hat woman water red board yellow white dressed...</td>\n",
              "      <td>452.865576</td>\n",
              "      <td>1</td>\n",
              "    </tr>\n",
              "    <tr>\n",
              "      <th>1032364240110215168</th>\n",
              "      <th>0</th>\n",
              "      <td>http://pbs.twimg.com/media/DlOxzelW4AAZWsf.png</td>\n",
              "      <td>You ALREADY GAVE ME THAT</td>\n",
              "      <td></td>\n",
              "      <td>shirt person</td>\n",
              "      <td>61.941487</td>\n",
              "      <td>0</td>\n",
              "    </tr>\n",
              "    <tr>\n",
              "      <th>1007076180527341568</th>\n",
              "      <th>0</th>\n",
              "      <td>http://pbs.twimg.com/media/DfnacrbU0AAZxgm.png</td>\n",
              "      <td>@ibogost Members only. https://t.co/aWgBWasroV</td>\n",
              "      <td></td>\n",
              "      <td>kite colorful various different Toy thing food...</td>\n",
              "      <td>1165.994168</td>\n",
              "      <td>0</td>\n",
              "    </tr>\n",
              "    <tr>\n",
              "      <th>1031661918099005441</th>\n",
              "      <th>0</th>\n",
              "      <td>http://pbs.twimg.com/media/DlEzC3WWsAE4bUK.png</td>\n",
              "      <td>recovery</td>\n",
              "      <td></td>\n",
              "      <td>colorful sitting different traffic computer ha...</td>\n",
              "      <td>NaN</td>\n",
              "      <td>0</td>\n",
              "    </tr>\n",
              "    <tr>\n",
              "      <th>1018107618487951361</th>\n",
              "      <th>0</th>\n",
              "      <td>http://pbs.twimg.com/media/DiELev0XkAEnQlY.jpg</td>\n",
              "      <td>2000000km</td>\n",
              "      <td>Pilot Earn 1,000,000 km across the distance of...</td>\n",
              "      <td></td>\n",
              "      <td>NaN</td>\n",
              "      <td>2</td>\n",
              "    </tr>\n",
              "    <tr>\n",
              "      <th>742606443422068736</th>\n",
              "      <th>0</th>\n",
              "      <td>http://pbs.twimg.com/media/Ck5En4FUUAMfMzq.jpg</td>\n",
              "      <td>Filling station and garage at Pie Town, New Me...</td>\n",
              "      <td></td>\n",
              "      <td>people water street small large red building c...</td>\n",
              "      <td>370.354325</td>\n",
              "      <td>1</td>\n",
              "    </tr>\n",
              "  </tbody>\n",
              "</table>\n",
              "</div>"
            ],
            "text/plain": [
              "                                                                      image_url  ... quality_rating\n",
              "tweet_id            image_index                                                  ...               \n",
              "827249145576517632  0            http://pbs.twimg.com/media/C3r6RHMUYAAP0zj.jpg  ...              1\n",
              "1031931873868439554 0            http://pbs.twimg.com/media/DlIokPuV4AANaO7.jpg  ...              1\n",
              "1032364240110215168 0            http://pbs.twimg.com/media/DlOxzelW4AAZWsf.png  ...              0\n",
              "1007076180527341568 0            http://pbs.twimg.com/media/DfnacrbU0AAZxgm.png  ...              0\n",
              "1031661918099005441 0            http://pbs.twimg.com/media/DlEzC3WWsAE4bUK.png  ...              0\n",
              "1018107618487951361 0            http://pbs.twimg.com/media/DiELev0XkAEnQlY.jpg  ...              2\n",
              "742606443422068736  0            http://pbs.twimg.com/media/Ck5En4FUUAMfMzq.jpg  ...              1\n",
              "\n",
              "[7 rows x 6 columns]"
            ]
          },
          "metadata": {
            "tags": []
          },
          "execution_count": 73
        }
      ]
    },
    {
      "cell_type": "code",
      "metadata": {
        "id": "4lKNt7mGcRZZ",
        "colab_type": "code",
        "outputId": "e91e3d0e-4662-449c-8837-07d6c4879ccc",
        "colab": {
          "base_uri": "https://localhost:8080/",
          "height": 464
        }
      },
      "source": [
        "print('Post Text:', rows.loc[idxs[0], 'post_text'])\n",
        "print('Recognizes Text:', rows.loc[idxs[0], 'text'])\n",
        "print('Alt Text:', rows.loc[idxs[0], 'alt_text'])\n",
        "print('Image Tags:', rows.loc[idxs[0], 'tags'])\n",
        "Image(url=rows.loc[idxs[0], 'image_url'], width=200)"
      ],
      "execution_count": 0,
      "outputs": [
        {
          "output_type": "stream",
          "text": [
            "Post Text: Running levels this morning at 10311725 SIXMILE CYN CK AT HWY 50 NR DAYTON https://t.co/B8PFyR6vGM https://t.co/wVGPjs5w0l\n",
            "Recognizes Text: 746 5 443 2 1\n",
            "Alt Text: level rod in foreground, man on level gun in the background\n",
            "Image Tags: dirt water people sign pole covered sitting slope outdoor snow grass holding air mountain person group hill standing man field riding skiing plane\n"
          ],
          "name": "stdout"
        },
        {
          "output_type": "execute_result",
          "data": {
            "text/html": [
              "<img src=\"http://pbs.twimg.com/media/C3r6RHMUYAAP0zj.jpg\" width=\"200\"/>"
            ],
            "text/plain": [
              "<IPython.core.display.Image object>"
            ]
          },
          "metadata": {
            "tags": []
          },
          "execution_count": 72
        }
      ]
    },
    {
      "cell_type": "markdown",
      "metadata": {
        "id": "vwWoGR5BdGv0",
        "colab_type": "text"
      },
      "source": [
        "The classifier gave this image a 3, and humans rated it a 1.  If we want to dig in deeper on this, we can use treeinterpreter to tell us how each feature changed the predictions for each class."
      ]
    },
    {
      "cell_type": "code",
      "metadata": {
        "id": "621Ushrjd-2S",
        "colab_type": "code",
        "outputId": "bd7e632f-58ed-4a4e-e663-485db9378014",
        "colab": {
          "base_uri": "https://localhost:8080/",
          "height": 235
        }
      },
      "source": [
        "from treeinterpreter import treeinterpreter as ti\n",
        "sample_idx = np.nonzero(errors==2)[0][0]\n",
        "prediction, bias, contributions = ti.predict(chosen_clf, X_test[sample_idx, :].reshape(1, -1))\n",
        "print(\"Class priors: \\t\\t\", np.round(bias[0],2))\n",
        "print(\"Predictions: \\t\\t\", np.round(prediction[0],2))\n",
        "print(\"Feature contributions:\")\n",
        "chosen = np.argmax(prediction)\n",
        "for c, feature in zip(contributions[0], feature_names):\n",
        "  print(feature, \"\\t\\t\", np.round(c,2))"
      ],
      "execution_count": 0,
      "outputs": [
        {
          "output_type": "stream",
          "text": [
            "Class priors: \t\t [0.16 0.25 0.3  0.29]\n",
            "Predictions: \t\t [0.   0.04 0.24 0.72]\n",
            "Feature contributions:\n",
            "alt_tags_sim \t\t [-0.   -0.   -0.01  0.01]\n",
            "alt_post_sim \t\t [-0.04 -0.07 -0.03  0.14]\n",
            "alt_ocr_sim \t\t [ 0.    0.03 -0.06  0.03]\n",
            "verbs \t\t [ 0.01  0.06  0.04 -0.1 ]\n",
            "adjs \t\t [ 0.    0.02  0.04 -0.06]\n",
            "nouns \t\t [-0.03 -0.11  0.03  0.11]\n",
            "word_count \t\t [-0.05 -0.05 -0.02  0.12]\n",
            "char_count \t\t [-0.03 -0.03 -0.05  0.11]\n",
            "perplexity \t\t [-0.03 -0.06  0.    0.09]\n",
            "text_present \t\t [ 0.   -0.    0.01 -0.01]\n"
          ],
          "name": "stdout"
        }
      ]
    },
    {
      "cell_type": "markdown",
      "metadata": {
        "id": "XkK3gfDufEtx",
        "colab_type": "text"
      },
      "source": [
        "The biggest factors in increasing the probability of a 3 rating were: the alt text and post text similarity, and length. This alt text was long and somewhat similar to the post text, so it recieved a high rating."
      ]
    },
    {
      "cell_type": "markdown",
      "metadata": {
        "id": "ur4VO9I8f9wZ",
        "colab_type": "text"
      },
      "source": [
        "Finally, let's look at the cases where it was only off by one level. "
      ]
    },
    {
      "cell_type": "code",
      "metadata": {
        "id": "Kl55gBkBgHR_",
        "colab_type": "code",
        "outputId": "bc49edf0-aa08-402a-a832-974b09ad24ea",
        "colab": {
          "base_uri": "https://localhost:8080/",
          "height": 1000
        }
      },
      "source": [
        "idxs = pd.Index(np.array(idx_test)[(errors == 1)])\n",
        "rows = df_w_text.loc[idxs]\n",
        "rows[['image_url', 'alt_text','text','tags','perplexity', 'quality_rating']]"
      ],
      "execution_count": 0,
      "outputs": [
        {
          "output_type": "execute_result",
          "data": {
            "text/html": [
              "<div>\n",
              "<style scoped>\n",
              "    .dataframe tbody tr th:only-of-type {\n",
              "        vertical-align: middle;\n",
              "    }\n",
              "\n",
              "    .dataframe tbody tr th {\n",
              "        vertical-align: top;\n",
              "    }\n",
              "\n",
              "    .dataframe thead th {\n",
              "        text-align: right;\n",
              "    }\n",
              "</style>\n",
              "<table border=\"1\" class=\"dataframe\">\n",
              "  <thead>\n",
              "    <tr style=\"text-align: right;\">\n",
              "      <th></th>\n",
              "      <th></th>\n",
              "      <th>image_url</th>\n",
              "      <th>alt_text</th>\n",
              "      <th>text</th>\n",
              "      <th>tags</th>\n",
              "      <th>perplexity</th>\n",
              "      <th>quality_rating</th>\n",
              "    </tr>\n",
              "    <tr>\n",
              "      <th>tweet_id</th>\n",
              "      <th>image_index</th>\n",
              "      <th></th>\n",
              "      <th></th>\n",
              "      <th></th>\n",
              "      <th></th>\n",
              "      <th></th>\n",
              "      <th></th>\n",
              "    </tr>\n",
              "  </thead>\n",
              "  <tbody>\n",
              "    <tr>\n",
              "      <th>998537671977861123</th>\n",
              "      <th>0</th>\n",
              "      <td>http://pbs.twimg.com/media/DduEuAaV4AA6GfF.jpg</td>\n",
              "      <td>Cup of coffee, map, and notebook saying \"let's...</td>\n",
              "      <td>SHXVZVY - , ,</td>\n",
              "      <td>table indoor</td>\n",
              "      <td>44.450846</td>\n",
              "      <td>2</td>\n",
              "    </tr>\n",
              "    <tr>\n",
              "      <th>1032080460816547840</th>\n",
              "      <th>0</th>\n",
              "      <td>http://pbs.twimg.com/media/DlKvtV-X4AA1CzY.png</td>\n",
              "      <td>cartoon</td>\n",
              "      <td></td>\n",
              "      <td>computer window room</td>\n",
              "      <td>NaN</td>\n",
              "      <td>0</td>\n",
              "    </tr>\n",
              "    <tr>\n",
              "      <th>1026914171613536257</th>\n",
              "      <th>0</th>\n",
              "      <td>http://pbs.twimg.com/media/DkBU-NsW0AE1sVF.jpg</td>\n",
              "      <td>Another pub called the Islington</td>\n",
              "      <td>04. ra D/D/RR/ azag UPSE,\" RHYTHM • L/W/CS z i...</td>\n",
              "      <td>building text clock station bench hanging blac...</td>\n",
              "      <td>174.179212</td>\n",
              "      <td>1</td>\n",
              "    </tr>\n",
              "    <tr>\n",
              "      <th>967564628610965504</th>\n",
              "      <th>0</th>\n",
              "      <td>http://pbs.twimg.com/media/DW165mPX4AEWyL_.jpg</td>\n",
              "      <td>FHA low income housing project. Holyoke, Massa...</td>\n",
              "      <td></td>\n",
              "      <td>woman people house street small large sign bui...</td>\n",
              "      <td>1095.954624</td>\n",
              "      <td>2</td>\n",
              "    </tr>\n",
              "    <tr>\n",
              "      <th>969362911570354176</th>\n",
              "      <th>0</th>\n",
              "      <td>http://pbs.twimg.com/media/DXPebd6VAAA2H5p.jpg</td>\n",
              "      <td>Woman with arms reaching up to plane in air</td>\n",
              "      <td></td>\n",
              "      <td>flying man water ocean sunset body boat blue l...</td>\n",
              "      <td>374.479518</td>\n",
              "      <td>2</td>\n",
              "    </tr>\n",
              "    <tr>\n",
              "      <th>...</th>\n",
              "      <th>...</th>\n",
              "      <td>...</td>\n",
              "      <td>...</td>\n",
              "      <td>...</td>\n",
              "      <td>...</td>\n",
              "      <td>...</td>\n",
              "      <td>...</td>\n",
              "    </tr>\n",
              "    <tr>\n",
              "      <th>1019427288587304961</th>\n",
              "      <th>0</th>\n",
              "      <td>http://pbs.twimg.com/media/DiW7tk1X4AAG9wX.png</td>\n",
              "      <td>screenshot from HeartCatch PreCure! ep.44 @ 11...</td>\n",
              "      <td>Your turn, Desertrian!</td>\n",
              "      <td></td>\n",
              "      <td>1058.389577</td>\n",
              "      <td>2</td>\n",
              "    </tr>\n",
              "    <tr>\n",
              "      <th>993612721533931521</th>\n",
              "      <th>0</th>\n",
              "      <td>http://pbs.twimg.com/media/DcoFgLjXUAEJk10.jpg</td>\n",
              "      <td>Hiking near Mt. Hood</td>\n",
              "      <td></td>\n",
              "      <td>dirt trail wood sign red country tree forest s...</td>\n",
              "      <td>629.948870</td>\n",
              "      <td>1</td>\n",
              "    </tr>\n",
              "    <tr>\n",
              "      <th>976498453957128192</th>\n",
              "      <th>0</th>\n",
              "      <td>http://pbs.twimg.com/media/DY025_zV4AA-fN4.jpg</td>\n",
              "      <td>The Naked and Famous concert at Moroccan Loung...</td>\n",
              "      <td></td>\n",
              "      <td>woman people laying sitting playing white youn...</td>\n",
              "      <td>307.651505</td>\n",
              "      <td>2</td>\n",
              "    </tr>\n",
              "    <tr>\n",
              "      <th>886916155860017152</th>\n",
              "      <th>0</th>\n",
              "      <td>http://pbs.twimg.com/media/DE71YgFXUAAHTxm.jpg</td>\n",
              "      <td>Headspace website screenshot: Each day is a ne...</td>\n",
              "      <td>Each day is a new opportunity to train your mi...</td>\n",
              "      <td>text</td>\n",
              "      <td>87.142861</td>\n",
              "      <td>3</td>\n",
              "    </tr>\n",
              "    <tr>\n",
              "      <th>1030981499791659008</th>\n",
              "      <th>0</th>\n",
              "      <td>http://pbs.twimg.com/media/Dk7IM46V4AAZym6.jpg</td>\n",
              "      <td>A reply to my tweet that says “Bro eat some be...</td>\n",
              "      <td>SushiFro @JA Replying to @FeelingFisky Bro eat...</td>\n",
              "      <td>screenshot</td>\n",
              "      <td>357.457303</td>\n",
              "      <td>2</td>\n",
              "    </tr>\n",
              "  </tbody>\n",
              "</table>\n",
              "<p>88 rows × 6 columns</p>\n",
              "</div>"
            ],
            "text/plain": [
              "                                                                      image_url  ... quality_rating\n",
              "tweet_id            image_index                                                  ...               \n",
              "998537671977861123  0            http://pbs.twimg.com/media/DduEuAaV4AA6GfF.jpg  ...              2\n",
              "1032080460816547840 0            http://pbs.twimg.com/media/DlKvtV-X4AA1CzY.png  ...              0\n",
              "1026914171613536257 0            http://pbs.twimg.com/media/DkBU-NsW0AE1sVF.jpg  ...              1\n",
              "967564628610965504  0            http://pbs.twimg.com/media/DW165mPX4AEWyL_.jpg  ...              2\n",
              "969362911570354176  0            http://pbs.twimg.com/media/DXPebd6VAAA2H5p.jpg  ...              2\n",
              "...                                                                         ...  ...            ...\n",
              "1019427288587304961 0            http://pbs.twimg.com/media/DiW7tk1X4AAG9wX.png  ...              2\n",
              "993612721533931521  0            http://pbs.twimg.com/media/DcoFgLjXUAEJk10.jpg  ...              1\n",
              "976498453957128192  0            http://pbs.twimg.com/media/DY025_zV4AA-fN4.jpg  ...              2\n",
              "886916155860017152  0            http://pbs.twimg.com/media/DE71YgFXUAAHTxm.jpg  ...              3\n",
              "1030981499791659008 0            http://pbs.twimg.com/media/Dk7IM46V4AAZym6.jpg  ...              2\n",
              "\n",
              "[88 rows x 6 columns]"
            ]
          },
          "metadata": {
            "tags": []
          },
          "execution_count": 87
        }
      ]
    },
    {
      "cell_type": "code",
      "metadata": {
        "id": "9IZkVCACgQ8-",
        "colab_type": "code",
        "outputId": "c6bef344-8c9b-4a13-fc99-39bd3ba08229",
        "colab": {
          "base_uri": "https://localhost:8080/",
          "height": 368
        }
      },
      "source": [
        "row = rows.loc[idxs[0]]\n",
        "sample_idx = np.nonzero(errors==1)[0][0]\n",
        "print('Post Text:',  row.post_text[0])\n",
        "print('Recognized Text:', row.text[0])\n",
        "print('Alt Text:', row.alt_text[0])\n",
        "print('Image Tags:', row.tags[0])\n",
        "print('Expected Rating: ', y_test[sample_idx], 'Predicted Rating:', y_pred[sample_idx])\n",
        "Image(url=row.image_url[0], width=400)"
      ],
      "execution_count": 0,
      "outputs": [
        {
          "output_type": "stream",
          "text": [
            "Post Text: The seven cities where you can find the world's best coffee: https://t.co/oxPMr7L1Wj https://t.co/SunVcMudOB\n",
            "Recognized Text: SHXVZVY - , ,\n",
            "Alt Text: Cup of coffee, map, and notebook saying \"let's go\"\n",
            "Image Tags: table indoor\n",
            "Expected Rating:  2.0 Predicted Rating: 3.0\n"
          ],
          "name": "stdout"
        },
        {
          "output_type": "stream",
          "text": [
            "/usr/local/lib/python3.6/dist-packages/ipykernel_launcher.py:1: PerformanceWarning: indexing past lexsort depth may impact performance.\n",
            "  \"\"\"Entry point for launching an IPython kernel.\n"
          ],
          "name": "stderr"
        },
        {
          "output_type": "execute_result",
          "data": {
            "text/html": [
              "<img src=\"http://pbs.twimg.com/media/DduEuAaV4AA6GfF.jpg\" width=\"400\"/>"
            ],
            "text/plain": [
              "<IPython.core.display.Image object>"
            ]
          },
          "metadata": {
            "tags": []
          },
          "execution_count": 97
        }
      ]
    },
    {
      "cell_type": "markdown",
      "metadata": {
        "id": "ktndl75Nhqod",
        "colab_type": "text"
      },
      "source": [
        "It does not seem unreasonable to give this a 3. That is likely the cases where the image and alt text inhabit a border area between classes. Perhaps they are not exactly a 2 or 3, or humans mislabelled them."
      ]
    },
    {
      "cell_type": "code",
      "metadata": {
        "id": "vo62OoT1iG8U",
        "colab_type": "code",
        "outputId": "5f2453cf-8c57-4ee5-8e79-05bb0c47d165",
        "colab": {
          "base_uri": "https://localhost:8080/",
          "height": 235
        }
      },
      "source": [
        "prediction, bias, contributions = ti.predict(chosen_clf, X_test[sample_idx, :].reshape(1, -1))\n",
        "print(\"Class priors: \\t\\t\", np.round(bias[0],2))\n",
        "print(\"Predictions: \\t\\t\", np.round(prediction[0],2))\n",
        "print(\"Feature contributions:\")\n",
        "chosen = np.argmax(prediction)\n",
        "for c, feature in zip(contributions[0], feature_names):\n",
        "  print(feature, \"\\t\\t\", np.round(c,2))"
      ],
      "execution_count": 0,
      "outputs": [
        {
          "output_type": "stream",
          "text": [
            "Class priors: \t\t [0.16 0.25 0.3  0.29]\n",
            "Predictions: \t\t [0.07 0.08 0.32 0.53]\n",
            "Feature contributions:\n",
            "alt_tags_sim \t\t [ 0.01  0.01  0.02 -0.03]\n",
            "alt_post_sim \t\t [-0.05  0.03 -0.03  0.04]\n",
            "alt_ocr_sim \t\t [ 0.01  0.   -0.03  0.02]\n",
            "verbs \t\t [ 0.03 -0.02  0.04 -0.05]\n",
            "adjs \t\t [ 0.    0.01  0.01 -0.02]\n",
            "nouns \t\t [-0.01 -0.06 -0.01  0.08]\n",
            "word_count \t\t [-0.04 -0.03 -0.    0.07]\n",
            "char_count \t\t [-0.03 -0.01 -0.02  0.07]\n",
            "perplexity \t\t [-0.01 -0.1   0.04  0.07]\n",
            "text_present \t\t [ 0.    0.    0.01 -0.01]\n"
          ],
          "name": "stdout"
        }
      ]
    },
    {
      "cell_type": "markdown",
      "metadata": {
        "id": "5bQqOxFyiL8v",
        "colab_type": "text"
      },
      "source": [
        "The classifier only assigned 53% of probability to the 3 rating, and still had a significant probability given to the 2 rating. "
      ]
    },
    {
      "cell_type": "markdown",
      "metadata": {
        "id": "UJCUFvUVPo3v",
        "colab_type": "text"
      },
      "source": [
        "## Using the Classifier to Automatically Grade Alt Text\n",
        "\n",
        "We now have our classifier trained, and we can use it to automatically grade new alt text.\n",
        "\n",
        "Let's take a new image and try different alt texts:"
      ]
    },
    {
      "cell_type": "code",
      "metadata": {
        "id": "oKvKQNM_Ou1O",
        "colab_type": "code",
        "outputId": "f2202986-c6f0-4d34-f294-c10186f43f76",
        "colab": {
          "base_uri": "https://localhost:8080/",
          "height": 294
        }
      },
      "source": [
        "def evaluate_alt_text(model, post_text, image_url, alt_text):\n",
        "  text = get_text_in_image(image_url)\n",
        "  tags = get_tags_and_objects(image_url)\n",
        "  perplexity = gpt_perplexity(alt_text)\n",
        "  if perplexity == None:\n",
        "    perplexity = df_w_text['perplexity'].max()\n",
        "  if text == None:\n",
        "    text = \"\"\n",
        "  print(\"Post text: \", post_text)\n",
        "  print(\"Alt text: \", alt_text)\n",
        "  print(\"Image tags: \", tags)\n",
        "  print(\"Image text: \", text)\n",
        "  X, _ = create_features([alt_text], [tags], [post_text], [text], [perplexity], scaler=scaler)\n",
        "  return X,model.predict(X)[0]\n",
        "\n",
        "image_url = \"https://pbs.twimg.com/media/EF-l-ocVAAES7DW?format=jpg&name=medium\"\n",
        "post_text = \"\"\"The dog being cute. Quite comfortable, thank you very much. \n",
        "Upside down on the only couch he's allowed on. He wants, err, no, DEMANDS, a tummy rub!\"\"\"\n",
        "Image(url=image_url, width=400)"
      ],
      "execution_count": 0,
      "outputs": [
        {
          "output_type": "execute_result",
          "data": {
            "text/html": [
              "<img src=\"https://pbs.twimg.com/media/EF-l-ocVAAES7DW?format=jpg&name=medium\" width=\"400\"/>"
            ],
            "text/plain": [
              "<IPython.core.display.Image object>"
            ]
          },
          "metadata": {
            "tags": []
          },
          "execution_count": 28
        }
      ]
    },
    {
      "cell_type": "markdown",
      "metadata": {
        "id": "vBhuPfPdl3ml",
        "colab_type": "text"
      },
      "source": [
        "Ok, let's design some bad alt text. Most that look like this do not even describe the image. "
      ]
    },
    {
      "cell_type": "code",
      "metadata": {
        "id": "AdtxzUo9mIe_",
        "colab_type": "code",
        "outputId": "f1f3eaf1-3137-4cbb-af1c-fb449888d5c7",
        "colab": {
          "base_uri": "https://localhost:8080/",
          "height": 356
        }
      },
      "source": [
        "alt_text = \"page\"\n",
        "feat, rating = evaluate_alt_text(chosen_clf, post_text, image_url, alt_text)\n",
        "print(\"Rating: \", rating)\n",
        "prediction, bias, contributions = ti.predict(chosen_clf, feat)\n",
        "print(\"Class priors: \\t\\t\", np.round(bias[0],2))\n",
        "print(\"Predictions: \\t\\t\", np.round(prediction[0],2))\n",
        "print(\"Feature contributions:\")\n",
        "chosen = np.argmax(prediction)\n",
        "for c, feature in zip(contributions[0], feature_names):\n",
        "  print(feature, \"\\t\\t\", np.round(c,2))"
      ],
      "execution_count": 0,
      "outputs": [
        {
          "output_type": "stream",
          "text": [
            "Post text:  The dog being cute. Quite comfortable, thank you very much. \n",
            "Upside down on the only couch he's allowed on. He wants, err, no, DEMANDS, a tummy rub!\n",
            "Alt text:  page\n",
            "Image tags:  dog indoor lying looking black bed wearing white laying head brown small sitting\n",
            "Image text:  \n",
            "Rating:  1.0\n",
            "Class priors: \t\t [0.16 0.25 0.3  0.29]\n",
            "Predictions: \t\t [0.   0.94 0.06 0.  ]\n",
            "Feature contributions:\n",
            "alt_tags_sim \t\t [-0.   -0.02  0.03  0.  ]\n",
            "alt_post_sim \t\t [-0.23  0.21  0.01  0.01]\n",
            "alt_ocr_sim \t\t [-0.01  0.02 -0.   -0.  ]\n",
            "verbs \t\t [ 0.    0.02 -0.   -0.02]\n",
            "adjs \t\t [-0.    0.01 -0.   -0.  ]\n",
            "nouns \t\t [-0.08  0.08 -0.    0.  ]\n",
            "word_count \t\t [ 0.08  0.07 -0.05 -0.1 ]\n",
            "char_count \t\t [ 0.    0.18 -0.1  -0.08]\n",
            "perplexity \t\t [ 0.1   0.12 -0.12 -0.1 ]\n",
            "text_present \t\t [-0.02  0.02  0.    0.  ]\n"
          ],
          "name": "stdout"
        }
      ]
    },
    {
      "cell_type": "markdown",
      "metadata": {
        "id": "6dZ1VBPInKDm",
        "colab_type": "text"
      },
      "source": [
        "Unfortunately, we were attempting to get a rating of 0, but 1 is pretty low as well. Let's try some \"good\" alt text"
      ]
    },
    {
      "cell_type": "code",
      "metadata": {
        "id": "RM9R3tSYnQwS",
        "colab_type": "code",
        "outputId": "bc131717-167e-4d9f-e882-3bacc579ad82",
        "colab": {
          "base_uri": "https://localhost:8080/",
          "height": 118
        }
      },
      "source": [
        "alt_text = \"my cute dog\"\n",
        "feat, rating = evaluate_alt_text(chosen_clf, post_text, image_url, alt_text)\n",
        "print(\"Rating: \", rating)"
      ],
      "execution_count": 0,
      "outputs": [
        {
          "output_type": "stream",
          "text": [
            "Post text:  The dog being cute. Quite comfortable, thank you very much. \n",
            "Upside down on the only couch he's allowed on. He wants, err, no, DEMANDS, a tummy rub!\n",
            "Alt text:  my cute dog\n",
            "Image tags:  indoor wearing black looking brown dog small white lying head laying bed sitting\n",
            "Image text:  \n",
            "Rating:  2.0\n"
          ],
          "name": "stdout"
        }
      ]
    },
    {
      "cell_type": "markdown",
      "metadata": {
        "id": "xN1ZzWZrnevl",
        "colab_type": "text"
      },
      "source": [
        "The classifier's rating looks good.\n",
        "Let's try some \"Great\" alt text, which is the original alt text associated with this image on Twitter:"
      ]
    },
    {
      "cell_type": "code",
      "metadata": {
        "id": "I5fIwUVolxLB",
        "colab_type": "code",
        "outputId": "76925c40-94c9-49da-e780-a308b16de8bc",
        "colab": {
          "base_uri": "https://localhost:8080/",
          "height": 118
        }
      },
      "source": [
        "alt_text = \"Close up of a black dog's face with both front paws bent over.\"\n",
        "feat, rating = evaluate_alt_text(chosen_clf, post_text, image_url, alt_text)\n",
        "print(\"Rating: \", rating)"
      ],
      "execution_count": 0,
      "outputs": [
        {
          "output_type": "stream",
          "text": [
            "Post text:  The dog being cute. Quite comfortable, thank you very much. \n",
            "Upside down on the only couch he's allowed on. He wants, err, no, DEMANDS, a tummy rub!\n",
            "Alt text:  Close up of a black dog's face with both front paws bent over.\n",
            "Image tags:  indoor wearing black looking brown dog small white lying head laying bed sitting\n",
            "Image text:  \n",
            "Rating:  3.0\n"
          ],
          "name": "stdout"
        }
      ]
    },
    {
      "cell_type": "markdown",
      "metadata": {
        "id": "d_vE778Pn1AX",
        "colab_type": "text"
      },
      "source": [
        "The classifier's rating is correct. So this demonstrates how one could utilize this classifier in the future to grade alt text, either to choose the best from a pool or to give feedback."
      ]
    },
    {
      "cell_type": "markdown",
      "metadata": {
        "id": "CzBgtEDU02Rx",
        "colab_type": "text"
      },
      "source": [
        "### More Examples\n",
        "Here are some additional examples that should all be rated as 3, and the classifier rates them correctly."
      ]
    },
    {
      "cell_type": "code",
      "metadata": {
        "id": "i_Xf7_0K0888",
        "colab_type": "code",
        "outputId": "f1fd66a9-2d5c-4c45-b8f0-08e5fea7c6b4",
        "colab": {
          "base_uri": "https://localhost:8080/",
          "height": 350
        }
      },
      "source": [
        "alt_text = \"A white CMU HCII 25th anniversary banner hangs on a pole outside of Newell-Simon Hall at Carnegie Mellon University. Clear blue skies above.\"\n",
        "image_url = \"https://pbs.twimg.com/media/EFUwzNsWwAEa3mJ?format=jpg&name=small\"\n",
        "post_text = \"Planning to join us for #hcii25 next month? RSVP today so we can count you in! Join us for 3 interactive panel presentations, lots of #cmuhcii lab tours, happy hour @thewarholmuseum, food, fun and more! Details & RSVP link: https://. See you there!\"\n",
        "feat, rating = evaluate_alt_text(chosen_clf, post_text, image_url, alt_text)\n",
        "print(\"Rating: \", rating)\n",
        "Image(url=image_url, width=400)"
      ],
      "execution_count": 0,
      "outputs": [
        {
          "output_type": "stream",
          "text": [
            "Post text:  Planning to join us for #hcii25 next month? RSVP today so we can count you in! Join us for 3 interactive panel presentations, lots of #cmuhcii lab tours, happy hour @thewarholmuseum, food, fun and more! Details & RSVP link: https://. See you there!\n",
            "Alt text:  A white CMU HCII 25th anniversary banner hangs on a pole outside of Newell-Simon Hall at Carnegie Mellon University. Clear blue skies above.\n",
            "Image tags:  tree pole Billboard outdoor dormer window large sitting house text red building parked sign people city parking stop hanging white front street traffic side tall window post\n",
            "Image text:  HCII HUMAN-COMPUTER\n",
            "Rating:  3.0\n"
          ],
          "name": "stdout"
        },
        {
          "output_type": "execute_result",
          "data": {
            "text/html": [
              "<img src=\"https://pbs.twimg.com/media/EFUwzNsWwAEa3mJ?format=jpg&name=small\" width=\"400\"/>"
            ],
            "text/plain": [
              "<IPython.core.display.Image object>"
            ]
          },
          "metadata": {
            "tags": []
          },
          "execution_count": 122
        }
      ]
    },
    {
      "cell_type": "code",
      "metadata": {
        "id": "hoCihUCP0__r",
        "colab_type": "code",
        "outputId": "10bcce96-351a-458d-9a10-bbeaf2d08b02",
        "colab": {
          "base_uri": "https://localhost:8080/",
          "height": 392
        }
      },
      "source": [
        "alt_text = \"Jeff wearing sequent calculus shirt, drinking champagne in big first class seat\"\n",
        "image_url = \"https://pbs.twimg.com/media/EEaUnjUWsAELyc9?format=jpg&name=medium\"\n",
        "post_text = \"sequent calculus got fancy, cheers to @justinesherry for the t-shirt that keeps on giving, cheers to @delta for the global upgrade certificates, cheers to @jenbigham for putting up with all my flying... so many cheers, I'm going to need more champagne\"\n",
        "feat, rating = evaluate_alt_text(chosen_clf, post_text, image_url, alt_text)\n",
        "print(\"Rating: \", rating)\n",
        "Image(url=image_url, width=200)"
      ],
      "execution_count": 0,
      "outputs": [
        {
          "output_type": "stream",
          "text": [
            "Post text:  sequent calculus got fancy, cheers to @justinesherry for the t-shirt that keeps on giving, cheers to @delta for the global upgrade certificates, cheers to @jenbigham for putting up with all my flying... so many cheers, I'm going to need more champagne\n",
            "Alt text:  Jeff wearing sequent calculus shirt, drinking champagne in big first class seat\n",
            "Image tags:  person indoor wearing man standing seat train bus woman truck holding luggage white car large young blue sitting plane\n",
            "Image text:  Pi\n",
            "Rating:  3.0\n"
          ],
          "name": "stdout"
        },
        {
          "output_type": "execute_result",
          "data": {
            "text/html": [
              "<img src=\"https://pbs.twimg.com/media/EEaUnjUWsAELyc9?format=jpg&name=medium\" width=\"200\"/>"
            ],
            "text/plain": [
              "<IPython.core.display.Image object>"
            ]
          },
          "metadata": {
            "tags": []
          },
          "execution_count": 125
        }
      ]
    },
    {
      "cell_type": "markdown",
      "metadata": {
        "id": "cN_xKaVIKqmB",
        "colab_type": "text"
      },
      "source": [
        "## Discussion and Future Work\n",
        "We have developed a classifier that can automatically grade alternative text with 75% accuracy. The most straightforward application of our project is to provide users with on-the-fly feedback about how to draft a better description to the pictures they posted. \n",
        "The classifier not only can provide a rating (which could be turned into an indicator similar to \"password strength\" metrics), but also the feature contributions can be used to detail specifically what to improve. For example:\n",
        "\n",
        "*   If char_count or word_count are shifting probability mass to low ratings, say \"Try writing some more! Longer alt text tends to be more descriptive!\"\n",
        "*   If \"alt_tags_sim\" is moving probability mass to low ratings, say \"We see some more things in the image that could be described! What does the dog look like?\"\n",
        "\n",
        "One limitation with this work is the quality-ratings in the dataset. Many of the edge-cases may be mislabelled by humans, or they do not clearly belong to a single class. In addition, these images and alt text pairs were rated by sighted researchers, and their notions of quality may not reflect what people with vision impairments desire. \n",
        "\n",
        "Future work should examine how to validate this quality scale with visually impaired Twitter users. Additionally, future uses of a dataset like this should validate the ratings among many human raters, and perhaps take the most common rating or further investigate samples where raters cannot agree.\n",
        "\n",
        "Another future investigation could be extracting more features from image, such as face recognition of celebrities, which could help rate those alt text containing celebrities’ names.\n"
      ]
    },
    {
      "cell_type": "markdown",
      "metadata": {
        "id": "O1P1iI_7LHhC",
        "colab_type": "text"
      },
      "source": [
        "## References\n",
        "\n",
        "1.   Tim Berners-Lee and Daniel Connelly. 1995. [Hypertext Markup Language – 2.0](https://tools.ietf.org/html/rfc1866). Internet Engineering Task Force. RFC 1866.\n",
        "2.   Jeffrey P Bigham, Ryan S Kaminsky, Richard E Ladner, Oscar M Danielsson, and Gordon L Hempton. 2006. WebInSight: Making Web Images Accessible. In Proceedings of the 8th international ACM SIGACCESS conference on Computers and accessibility - Assets ’06.\n",
        "3.   Guinness, D., Cutrell, E., & Morris M.R. (2018, May). [Caption Crawler: Enabling Reusable Alternative Text Descriptions Using Reverse Image Search.](https://dl.acm.org/citation.cfm?id=3174092) In Proceedings of the 2018 CHI Conference on Human Factors in Computing Systems. ACM\n",
        "4.   Meredith Ringel Morris, Annuska Zolyomi, Catherine Yao, Sina Bahram, Jeffrey P. Bigham, and Shaun K. Kane. 2016. [\"With most of it being pictures now, I rarely use it\": Understanding Twitter's Evolving Accessibility to Blind Users](https://dl.acm.org/citation.cfm?id=2858116). In Proceedings of the 2016 CHI Conference on Human Factors in Computing Systems (CHI '16).\n",
        "5.   Cole Gleason, Patrick Carrington, Cameron Cassidy, Meredith Ringel Morris, Kris M. Kitani, and Jeffrey P. Bigham. 2019. [“It's almost like they're trying to hide it”: How User-Provided Image Descriptions Have Failed to Make Twitter Accessible](https://dl.acm.org/citation.cfm?id=3313605). In The World Wide Web Conference (WWW '19).\n",
        "6. McHugh, Mary L. [Interrater reliability: the kappa statistic](https://www.ncbi.nlm.nih.gov/pmc/articles/PMC3900052/). Biochemia medica vol. 22,3 (2012).\n"
      ]
    }
  ]
}